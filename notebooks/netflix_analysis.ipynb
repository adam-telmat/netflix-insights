{
 "cells": [
  {
   "cell_type": "code",
   "execution_count": 1,
   "id": "628dd43e",
   "metadata": {},
   "outputs": [],
   "source": [
    "import pandas as pd\n",
    "import numpy as np\n",
    "import matplotlib.pyplot as plt\n",
    "import seaborn as sns\n",
    "import plotly.express as px\n",
    "import plotly.graph_objects as go\n",
    "import missingno as msno\n",
    "from datetime import datetime\n",
    "import warnings\n",
    "import re\n",
    "\n",
    "# Configuration de l'affichage\n",
    "warnings.filterwarnings('ignore')\n",
    "pd.set_option('display.max_columns', None)\n",
    "plt.style.use('ggplot')\n",
    "sns.set(style=\"whitegrid\")\n",
    "\n",
    "# Chargement du dataset\n",
    "df = pd.read_csv('../data/netflix_titles.csv')\n",
    "\n",
    "# Création d'une copie du DataFrame pour tester des transformations avancées\n",
    "# Cette approche permet de préserver le DataFrame original tout en expérimentant\n",
    "df_test = df.copy()\n",
    "df_test['date_added'] = pd.to_datetime(df_test['date_added'].str.strip(), format='%B %d, %Y', errors='coerce')"
   ]
  },
  {
   "cell_type": "markdown",
   "id": "23f62b89",
   "metadata": {},
   "source": [
    "## Question 4\n",
    "Affichez un aperçu du DataFrame en affichant ses 5 premières\n",
    "observations et ses 5 dernières observations à l’aide de deux fonctions\n",
    "spécifiques de Pandas.\n"
   ]
  },
  {
   "cell_type": "code",
   "execution_count": 2,
   "id": "f4d28dd2",
   "metadata": {},
   "outputs": [
    {
     "name": "stdout",
     "output_type": "stream",
     "text": [
      "5 premières observations :\n",
      "  show_id     type                  title         director  \\\n",
      "0      s1    Movie   Dick Johnson Is Dead  Kirsten Johnson   \n",
      "1      s2  TV Show          Blood & Water              NaN   \n",
      "2      s3  TV Show              Ganglands  Julien Leclercq   \n",
      "3      s4  TV Show  Jailbirds New Orleans              NaN   \n",
      "4      s5  TV Show           Kota Factory              NaN   \n",
      "\n",
      "                                                cast        country  \\\n",
      "0                                                NaN  United States   \n",
      "1  Ama Qamata, Khosi Ngema, Gail Mabalane, Thaban...   South Africa   \n",
      "2  Sami Bouajila, Tracy Gotoas, Samuel Jouy, Nabi...            NaN   \n",
      "3                                                NaN            NaN   \n",
      "4  Mayur More, Jitendra Kumar, Ranjan Raj, Alam K...          India   \n",
      "\n",
      "           date_added  release_year rating   duration  \\\n",
      "0  September 25, 2021          2020  PG-13     90 min   \n",
      "1  September 24, 2021          2021  TV-MA  2 Seasons   \n",
      "2  September 24, 2021          2021  TV-MA   1 Season   \n",
      "3  September 24, 2021          2021  TV-MA   1 Season   \n",
      "4  September 24, 2021          2021  TV-MA  2 Seasons   \n",
      "\n",
      "                                           listed_in  \\\n",
      "0                                      Documentaries   \n",
      "1    International TV Shows, TV Dramas, TV Mysteries   \n",
      "2  Crime TV Shows, International TV Shows, TV Act...   \n",
      "3                             Docuseries, Reality TV   \n",
      "4  International TV Shows, Romantic TV Shows, TV ...   \n",
      "\n",
      "                                         description  \n",
      "0  As her father nears the end of his life, filmm...  \n",
      "1  After crossing paths at a party, a Cape Town t...  \n",
      "2  To protect his family from a powerful drug lor...  \n",
      "3  Feuds, flirtations and toilet talk go down amo...  \n",
      "4  In a city of coaching centers known to train I...  \n",
      "\n",
      "5 dernières observations :\n",
      "     show_id     type        title         director  \\\n",
      "8802   s8803    Movie       Zodiac    David Fincher   \n",
      "8803   s8804  TV Show  Zombie Dumb              NaN   \n",
      "8804   s8805    Movie   Zombieland  Ruben Fleischer   \n",
      "8805   s8806    Movie         Zoom     Peter Hewitt   \n",
      "8806   s8807    Movie       Zubaan      Mozez Singh   \n",
      "\n",
      "                                                   cast        country  \\\n",
      "8802  Mark Ruffalo, Jake Gyllenhaal, Robert Downey J...  United States   \n",
      "8803                                                NaN            NaN   \n",
      "8804  Jesse Eisenberg, Woody Harrelson, Emma Stone, ...  United States   \n",
      "8805  Tim Allen, Courteney Cox, Chevy Chase, Kate Ma...  United States   \n",
      "8806  Vicky Kaushal, Sarah-Jane Dias, Raaghav Chanan...          India   \n",
      "\n",
      "             date_added  release_year rating   duration  \\\n",
      "8802  November 20, 2019          2007      R    158 min   \n",
      "8803       July 1, 2019          2018  TV-Y7  2 Seasons   \n",
      "8804   November 1, 2019          2009      R     88 min   \n",
      "8805   January 11, 2020          2006     PG     88 min   \n",
      "8806      March 2, 2019          2015  TV-14    111 min   \n",
      "\n",
      "                                           listed_in  \\\n",
      "8802                  Cult Movies, Dramas, Thrillers   \n",
      "8803          Kids' TV, Korean TV Shows, TV Comedies   \n",
      "8804                         Comedies, Horror Movies   \n",
      "8805              Children & Family Movies, Comedies   \n",
      "8806  Dramas, International Movies, Music & Musicals   \n",
      "\n",
      "                                            description  \n",
      "8802  A political cartoonist, a crime reporter and a...  \n",
      "8803  While living alone in a spooky town, a young g...  \n",
      "8804  Looking to survive in a world taken over by zo...  \n",
      "8805  Dragged from civilian life, a former superhero...  \n",
      "8806  A scrappy but poor boy worms his way into a ty...  \n"
     ]
    }
   ],
   "source": [
    "# Afficher les 5 premières lignes du DataFrame\n",
    "print(\"5 premières observations :\")\n",
    "print(df.head())  # Fonction pour les 5 premières lignes\n",
    "\n",
    "# Afficher les 5 dernières lignes du DataFrame\n",
    "print(\"\\n5 dernières observations :\")\n",
    "print(df.tail())  # Fonction pour les 5 dernières lignes\n",
    "\n"
   ]
  },
  {
   "cell_type": "markdown",
   "id": "b1ab8b34",
   "metadata": {},
   "source": [
    "## Question 5\n",
    "Affichez les informations du DataFrame, notamment le type d'index et\n",
    "les colonnes, les valeurs non nulles et l'utilisation de la mémoire."
   ]
  },
  {
   "cell_type": "code",
   "execution_count": 3,
   "id": "24a5ec25",
   "metadata": {},
   "outputs": [
    {
     "name": "stdout",
     "output_type": "stream",
     "text": [
      "<class 'pandas.core.frame.DataFrame'>\n",
      "RangeIndex: 8807 entries, 0 to 8806\n",
      "Data columns (total 12 columns):\n",
      " #   Column        Non-Null Count  Dtype \n",
      "---  ------        --------------  ----- \n",
      " 0   show_id       8807 non-null   object\n",
      " 1   type          8807 non-null   object\n",
      " 2   title         8807 non-null   object\n",
      " 3   director      6173 non-null   object\n",
      " 4   cast          7982 non-null   object\n",
      " 5   country       7976 non-null   object\n",
      " 6   date_added    8797 non-null   object\n",
      " 7   release_year  8807 non-null   int64 \n",
      " 8   rating        8803 non-null   object\n",
      " 9   duration      8804 non-null   object\n",
      " 10  listed_in     8807 non-null   object\n",
      " 11  description   8807 non-null   object\n",
      "dtypes: int64(1), object(11)\n",
      "memory usage: 825.8+ KB\n"
     ]
    }
   ],
   "source": [
    "# Afficher les informations du DataFrame\n",
    "df.info()\n"
   ]
  },
  {
   "cell_type": "markdown",
   "id": "6dd4ebcb",
   "metadata": {},
   "source": [
    "## Question 6\n",
    "Affichez la dimensionnalité du DataFrame. Combien avez-vous de variables ? Combien avez-vous d'observations ?"
   ]
  },
  {
   "cell_type": "code",
   "execution_count": 4,
   "id": "fa56d2fd",
   "metadata": {},
   "outputs": [
    {
     "name": "stdout",
     "output_type": "stream",
     "text": [
      "Dimensions du DataFrame : (8807, 12)\n",
      "Nombre de variables : 12\n",
      "Nombre d'observations : 8807\n"
     ]
    }
   ],
   "source": [
    "# Afficher la dimensionnalité du DataFrame\n",
    "print(\"Dimensions du DataFrame :\", df.shape)\n",
    "\n",
    "print(f\"Nombre de variables : {df.shape[1]}\")\n",
    "print(f\"Nombre d'observations : {df.shape[0]}\")"
   ]
  },
  {
   "cell_type": "markdown",
   "id": "8b794591",
   "metadata": {},
   "source": [
    "**Réponse à la question 6:**\n",
    "- Le DataFrame contient **12 variables** \n",
    "- Le DataFrame contient **environ 8807 observations** "
   ]
  },
  {
   "cell_type": "markdown",
   "id": "2ccabfae",
   "metadata": {},
   "source": [
    "## Question 7\n",
    "Affichez les colonnes du DataFrame."
   ]
  },
  {
   "cell_type": "code",
   "execution_count": 5,
   "id": "224a0960",
   "metadata": {},
   "outputs": [
    {
     "name": "stdout",
     "output_type": "stream",
     "text": [
      "\n",
      "Colonnes du DataFrame :\n",
      "['show_id', 'type', 'title', 'director', 'cast', 'country', 'date_added', 'release_year', 'rating', 'duration', 'listed_in', 'description']\n"
     ]
    }
   ],
   "source": [
    "# Afficher les colonnes du DataFrame\n",
    "print(\"\\nColonnes du DataFrame :\")\n",
    "\n",
    "print(df.columns.tolist())"
   ]
  },
  {
   "cell_type": "markdown",
   "id": "851fbef2",
   "metadata": {},
   "source": [
    "## Question 8 \n",
    "Affichez le type des différentes colonnes du DataFrame. Avez-vous des\n",
    "données quantitatives (numériques) ? Avez-vous des données\n",
    "qualitatives (catégorielles) ? Si oui, lesquelles ?"
   ]
  },
  {
   "cell_type": "code",
   "execution_count": 6,
   "id": "968ff53e",
   "metadata": {},
   "outputs": [
    {
     "name": "stdout",
     "output_type": "stream",
     "text": [
      "Types des colonnes du DataFrame :\n",
      "show_id         object\n",
      "type            object\n",
      "title           object\n",
      "director        object\n",
      "cast            object\n",
      "country         object\n",
      "date_added      object\n",
      "release_year     int64\n",
      "rating          object\n",
      "duration        object\n",
      "listed_in       object\n",
      "description     object\n",
      "dtype: object\n",
      "\n",
      "Données quantitatives (numériques) :\n",
      "['release_year']\n",
      "\n",
      "Données qualitatives (catégorielles) :\n",
      "['show_id', 'type', 'title', 'director', 'cast', 'country', 'date_added', 'rating', 'duration', 'listed_in', 'description']\n"
     ]
    }
   ],
   "source": [
    "# Afficher le type des différentes colonnes\n",
    "print(\"Types des colonnes du DataFrame :\")\n",
    "print(df.dtypes)\n",
    "\n",
    "# Identifier les données quantitatives (numériques)\n",
    "print(\"\\nDonnées quantitatives (numériques) :\")\n",
    "numeric_columns = df.select_dtypes(include=['int64', 'float64']).columns.tolist()\n",
    "print(numeric_columns)\n",
    "\n",
    "# Identifier les données qualitatives (catégorielles)\n",
    "print(\"\\nDonnées qualitatives (catégorielles) :\")\n",
    "categorical_columns = df.select_dtypes(include=['object']).columns.tolist()\n",
    "print(categorical_columns)"
   ]
  },
  {
   "cell_type": "markdown",
   "id": "432b6333",
   "metadata": {},
   "source": [
    "**Réponse à la question 8 :**\n",
    "\n",
    "Après analyse des types de colonnes, nous pouvons observer que le dataset contient deux types de données :\n",
    "\n",
    "- **Données quantitatives (numériques)** : \n",
    "  - `release_year` : l'année de sortie du contenu (int64)\n",
    "\n",
    "- **Données qualitatives (catégorielles)** :\n",
    "  - `show_id` : identifiant unique de chaque contenu\n",
    "  - `type` : type de contenu (Film ou Série TV)\n",
    "  - `title` : titre du contenu\n",
    "  - `director` : réalisateur(s)\n",
    "  - `cast` : acteurs principaux\n",
    "  - `country` : pays d'origine\n",
    "  - `date_added` : date d'ajout au catalogue\n",
    "  - `rating` : classification par âge\n",
    "  - `duration` : durée (en minutes pour les films, en saisons pour les séries)\n",
    "  - `listed_in` : catégories/genres\n",
    "  - `description` : synopsis\n",
    "\n",
    "La majorité des colonnes sont de type qualitatif (object), ce qui est typique pour un catalogue de contenus médias où les données textuelles (titres, descriptions, catégories) prédominent. Seule la colonne `release_year` est de type numérique (int64)."
   ]
  },
  {
   "cell_type": "markdown",
   "id": "458d72ad",
   "metadata": {},
   "source": [
    "## Question 9 :\n",
    "Y a-t-il des données manquantes ? Identifiez la proportion en\n",
    "pourcentage."
   ]
  },
  {
   "cell_type": "code",
   "execution_count": 7,
   "id": "01d3d0aa",
   "metadata": {},
   "outputs": [
    {
     "name": "stdout",
     "output_type": "stream",
     "text": [
      "Résumé des données manquantes :\n"
     ]
    },
    {
     "data": {
      "text/html": [
       "<div>\n",
       "<style scoped>\n",
       "    .dataframe tbody tr th:only-of-type {\n",
       "        vertical-align: middle;\n",
       "    }\n",
       "\n",
       "    .dataframe tbody tr th {\n",
       "        vertical-align: top;\n",
       "    }\n",
       "\n",
       "    .dataframe thead th {\n",
       "        text-align: right;\n",
       "    }\n",
       "</style>\n",
       "<table border=\"1\" class=\"dataframe\">\n",
       "  <thead>\n",
       "    <tr style=\"text-align: right;\">\n",
       "      <th></th>\n",
       "      <th>Valeurs manquantes</th>\n",
       "      <th>Pourcentage (%)</th>\n",
       "    </tr>\n",
       "  </thead>\n",
       "  <tbody>\n",
       "    <tr>\n",
       "      <th>director</th>\n",
       "      <td>2634</td>\n",
       "      <td>29.908028</td>\n",
       "    </tr>\n",
       "    <tr>\n",
       "      <th>country</th>\n",
       "      <td>831</td>\n",
       "      <td>9.435676</td>\n",
       "    </tr>\n",
       "    <tr>\n",
       "      <th>cast</th>\n",
       "      <td>825</td>\n",
       "      <td>9.367549</td>\n",
       "    </tr>\n",
       "    <tr>\n",
       "      <th>date_added</th>\n",
       "      <td>10</td>\n",
       "      <td>0.113546</td>\n",
       "    </tr>\n",
       "    <tr>\n",
       "      <th>rating</th>\n",
       "      <td>4</td>\n",
       "      <td>0.045418</td>\n",
       "    </tr>\n",
       "    <tr>\n",
       "      <th>duration</th>\n",
       "      <td>3</td>\n",
       "      <td>0.034064</td>\n",
       "    </tr>\n",
       "    <tr>\n",
       "      <th>show_id</th>\n",
       "      <td>0</td>\n",
       "      <td>0.000000</td>\n",
       "    </tr>\n",
       "    <tr>\n",
       "      <th>type</th>\n",
       "      <td>0</td>\n",
       "      <td>0.000000</td>\n",
       "    </tr>\n",
       "    <tr>\n",
       "      <th>title</th>\n",
       "      <td>0</td>\n",
       "      <td>0.000000</td>\n",
       "    </tr>\n",
       "    <tr>\n",
       "      <th>release_year</th>\n",
       "      <td>0</td>\n",
       "      <td>0.000000</td>\n",
       "    </tr>\n",
       "    <tr>\n",
       "      <th>listed_in</th>\n",
       "      <td>0</td>\n",
       "      <td>0.000000</td>\n",
       "    </tr>\n",
       "    <tr>\n",
       "      <th>description</th>\n",
       "      <td>0</td>\n",
       "      <td>0.000000</td>\n",
       "    </tr>\n",
       "  </tbody>\n",
       "</table>\n",
       "</div>"
      ],
      "text/plain": [
       "              Valeurs manquantes  Pourcentage (%)\n",
       "director                    2634        29.908028\n",
       "country                      831         9.435676\n",
       "cast                         825         9.367549\n",
       "date_added                    10         0.113546\n",
       "rating                         4         0.045418\n",
       "duration                       3         0.034064\n",
       "show_id                        0         0.000000\n",
       "type                           0         0.000000\n",
       "title                          0         0.000000\n",
       "release_year                   0         0.000000\n",
       "listed_in                      0         0.000000\n",
       "description                    0         0.000000"
      ]
     },
     "execution_count": 7,
     "metadata": {},
     "output_type": "execute_result"
    }
   ],
   "source": [
    "# Vérifier les données manquantes\n",
    "missing_data = df.isnull().sum()\n",
    "missing_data_percent = 100 * df.isnull().sum() / len(df)\n",
    "missing_data_table = pd.concat([missing_data, missing_data_percent], axis=1)\n",
    "missing_data_table.columns = ['Valeurs manquantes', 'Pourcentage (%)']\n",
    "print(\"Résumé des données manquantes :\")\n",
    "missing_data_table.sort_values('Pourcentage (%)', ascending=False)"
   ]
  },
  {
   "cell_type": "markdown",
   "id": "b9fcb75b",
   "metadata": {},
   "source": [
    "## Question 10 :\n",
    "A l’aide de la librairie Missingno. Affichez un graphique représentatif de\n",
    "la proportion des données manquantes."
   ]
  },
  {
   "cell_type": "code",
   "execution_count": 8,
   "id": "5ecbc805",
   "metadata": {},
   "outputs": [
    {
     "data": {
      "text/plain": [
       "<Figure size 1200x600 with 0 Axes>"
      ]
     },
     "metadata": {},
     "output_type": "display_data"
    },
    {
     "data": {
      "image/png": "[encoded data removed]",
      "text/plain": [
       "<Figure size 2500x1000 with 2 Axes>"
      ]
     },
     "metadata": {},
     "output_type": "display_data"
    },
    {
     "data": {
      "image/png": "[encoded data removed]",
      "text/plain": [
       "<Figure size 2500x1000 with 3 Axes>"
      ]
     },
     "metadata": {},
     "output_type": "display_data"
    }
   ],
   "source": [
    "# Matrice des valeurs manquantes\n",
    "plt.figure(figsize=(12, 6))\n",
    "msno.matrix(df)\n",
    "plt.title('Matrice des valeurs manquantes')\n",
    "plt.show()\n",
    "\n",
    "# Graphique à barres des valeurs manquantes\n",
    "plt.figure(figsize=(12, 6))\n",
    "msno.bar(df)\n",
    "plt.title('Graphique à barres des valeurs manquantes')\n",
    "plt.show()"
   ]
  },
  {
   "cell_type": "markdown",
   "id": "a54dc7fd",
   "metadata": {},
   "source": [
    "## Question 11 :\n",
    "Affichez une observation aléatoire du DataFrame."
   ]
  },
  {
   "cell_type": "code",
   "execution_count": 9,
   "id": "1084670f",
   "metadata": {},
   "outputs": [
    {
     "name": "stdout",
     "output_type": "stream",
     "text": [
      "\n",
      "Observation aléatoire (index 4504) :\n",
      "show_id                                                     s4505\n",
      "type                                                      TV Show\n",
      "title                                                        Rake\n",
      "director                                                      NaN\n",
      "cast            Richard Roxburgh, Matt Day, Adrienne Pickering...\n",
      "country                                                 Australia\n",
      "date_added                                       October 16, 2018\n",
      "release_year                                                 2018\n",
      "rating                                                      TV-MA\n",
      "duration                                                5 Seasons\n",
      "listed_in       Crime TV Shows, International TV Shows, TV Com...\n",
      "description     While Cleaver Greene is a brilliant and driven...\n",
      "Name: 4504, dtype: object\n"
     ]
    }
   ],
   "source": [
    "# Afficher une observation aléatoire\n",
    "random_index = np.random.randint(0, len(df))\n",
    "print(f\"\\nObservation aléatoire (index {random_index}) :\")\n",
    "print(df.iloc[random_index])"
   ]
  },
  {
   "cell_type": "markdown",
   "id": "de377159",
   "metadata": {},
   "source": [
    "## Question 12 :\n",
    "Affichez toutes les informations de l'œuvre “Catch Me If You Can”."
   ]
  },
  {
   "cell_type": "code",
   "execution_count": 10,
   "id": "64c7f778",
   "metadata": {},
   "outputs": [
    {
     "name": "stdout",
     "output_type": "stream",
     "text": [
      "\n",
      "Informations sur 'Catch Me If You Can' :\n",
      "    show_id   type                title          director  \\\n",
      "329    s330  Movie  Catch Me If You Can  Steven Spielberg   \n",
      "\n",
      "                                                  cast                country  \\\n",
      "329  Leonardo DiCaprio, Tom Hanks, Christopher Walk...  United States, Canada   \n",
      "\n",
      "         date_added  release_year rating duration listed_in  \\\n",
      "329  August 1, 2021          2002  PG-13  142 min    Dramas   \n",
      "\n",
      "                                           description  \n",
      "329  An FBI agent makes it his mission to put cunni...  \n"
     ]
    }
   ],
   "source": [
    "# Afficher toutes les informations de l'œuvre \"Catch Me If You Can\"\n",
    "print(\"\\nInformations sur 'Catch Me If You Can' :\")\n",
    "catch_me = df[df['title'] == 'Catch Me If You Can']\n",
    "print(catch_me)"
   ]
  },
  {
   "cell_type": "markdown",
   "id": "cd7271c4",
   "metadata": {},
   "source": [
    "## Question 13 :\n",
    "Affichez le nom du film le plus récent du dataset.\n"
   ]
  },
  {
   "cell_type": "code",
   "execution_count": 11,
   "id": "db03c121",
   "metadata": {},
   "outputs": [
    {
     "name": "stdout",
     "output_type": "stream",
     "text": [
      "\n",
      "Film le plus récent : Dick Johnson Is Dead (ajouté le 25/09/2021)\n"
     ]
    }
   ],
   "source": [
    "# Convertir la colonne date_added en datetime pour les prochaines analyses\n",
    "df['date_added'] = pd.to_datetime(df['date_added'].str.strip(), format='%B %d, %Y', errors='coerce')\n",
    "# Trouver le film le plus récent\n",
    "films = df[df['type'] == 'Movie'].copy()\n",
    "film_recent = films.loc[films['date_added'].idxmax()]\n",
    "print(f\"\\nFilm le plus récent : {film_recent['title']} (ajouté le {film_recent['date_added'].strftime('%d/%m/%Y')})\")"
   ]
  },
  {
   "cell_type": "markdown",
   "id": "b42a39d9",
   "metadata": {},
   "source": [
    "## Question 14 :\n",
    "Affichez le nom de la série la plus récente du dataset."
   ]
  },
  {
   "cell_type": "code",
   "execution_count": 12,
   "id": "e9ffabb2",
   "metadata": {},
   "outputs": [
    {
     "name": "stdout",
     "output_type": "stream",
     "text": [
      "\n",
      "Série la plus récente : Blood & Water (ajoutée le 24/09/2021)\n"
     ]
    }
   ],
   "source": [
    "# Trouver la série la plus récente\n",
    "series = df[df['type'] == 'TV Show'].copy()\n",
    "serie_recente = series.loc[series['date_added'].idxmax()]\n",
    "print(f\"\\nSérie la plus récente : {serie_recente['title']} (ajoutée le {serie_recente['date_added'].strftime('%d/%m/%Y')})\")"
   ]
  },
  {
   "cell_type": "markdown",
   "id": "4dbd96ef",
   "metadata": {},
   "source": []
  },
  {
   "cell_type": "markdown",
   "id": "3761b506",
   "metadata": {},
   "source": [
    "## Question 15 :\n",
    "\n",
    "Modifiez la variable date_added de telle sorte qu’elle soit de type\n",
    "DateTime."
   ]
  },
  {
   "cell_type": "code",
   "execution_count": 21,
   "id": "21553e00",
   "metadata": {},
   "outputs": [
    {
     "name": "stdout",
     "output_type": "stream",
     "text": [
      "Type actuel de la colonne date_added: datetime64[ns]\n",
      "Note: La conversion de date_added en format datetime a déjà été effectuée\n",
      "précédemment pour permettre l'analyse temporelle des questions 13-14.\n",
      "\n",
      "Exemples de dates au format français:\n",
      "25/09/2021\n",
      "24/09/2021\n",
      "24/09/2021\n"
     ]
    }
   ],
   "source": [
    "# Vérifions d'abord le type actuel\n",
    "print(\"Type actuel de la colonne date_added:\", df['date_added'].dtype)\n",
    "\n",
    "# Explication académique\n",
    "print(\"Note: La conversion de date_added en format datetime a déjà été effectuée\")\n",
    "print(\"précédemment pour permettre l'analyse temporelle des questions 13-14.\")\n",
    "\n",
    "# Montrer un exemple de dates au format français\n",
    "print(\"\\nExemples de dates au format français:\")\n",
    "for date in df['date_added'].head(3):\n",
    "    if pd.notna(date):  # Vérifier que la date n'est pas NaT\n",
    "        print(date.strftime('%d/%m/%Y'))  # Format jour/mois/année\n",
    "    else:\n",
    "        print(\"Date manquante\")"
   ]
  },
  {
   "cell_type": "markdown",
   "id": "44ff8467",
   "metadata": {},
   "source": [
    "## Question 16 :\n",
    "\n",
    "Modifiez la variable duration de telle sorte que la durée des films soit un\n",
    "nombre plutôt qu’une chaîne de caractères, par exemple : 160 au lieu\n",
    "de “160 min”.\n"
   ]
  },
  {
   "cell_type": "code",
   "execution_count": 24,
   "id": "79373a75",
   "metadata": {},
   "outputs": [
    {
     "name": "stdout",
     "output_type": "stream",
     "text": [
      "Exemples de durées avant conversion:\n",
      "0      90 min\n",
      "6      91 min\n",
      "7     125 min\n",
      "9     104 min\n",
      "12    127 min\n",
      "Name: duration, dtype: object\n",
      "Approche alternative utilisée\n",
      "\n",
      "Exemples après conversion:\n",
      "                               title duration  duration_value\n",
      "0               Dick Johnson Is Dead   90 min            90.0\n",
      "6   My Little Pony: A New Generation   91 min            91.0\n",
      "7                            Sankofa  125 min           125.0\n",
      "9                       The Starling  104 min           104.0\n",
      "12                      Je Suis Karl  127 min           127.0\n"
     ]
    }
   ],
   "source": [
    "\n",
    "\n",
    "# Vérifier d'abord quelques exemples de la colonne duration\n",
    "print(\"Exemples de durées avant conversion:\")\n",
    "print(df[df['type'] == 'Movie']['duration'].head())\n",
    "\n",
    "# Extraction avec méthode alternative\n",
    "df.loc[df['type'] == 'Movie', 'duration_value'] = df.loc[df['type'] == 'Movie', 'duration'].str.extract('(\\d+)').astype(float)\n",
    "\n",
    "# Si ça ne fonctionne pas, essayez cette approche plus directe\n",
    "if df[df['type'] == 'Movie']['duration_value'].isna().all():\n",
    "    print(\"Approche alternative utilisée\")\n",
    "    # Fonction pour extraire les nombres d'une chaîne\n",
    "    def extract_minutes(duration_str):\n",
    "        if pd.isna(duration_str):\n",
    "            return float('nan')\n",
    "        import re\n",
    "        numbers = re.findall(r'\\d+', str(duration_str))\n",
    "        if numbers:\n",
    "            return float(numbers[0])\n",
    "        return float('nan')\n",
    "    \n",
    "    # Appliquer la fonction à chaque valeur\n",
    "    df.loc[df['type'] == 'Movie', 'duration_value'] = df.loc[df['type'] == 'Movie', 'duration'].apply(extract_minutes)\n",
    "\n",
    "# Vérifier à nouveau\n",
    "print(\"\\nExemples après conversion:\")\n",
    "print(df[df['type'] == 'Movie'][['title', 'duration', 'duration_value']].head())"
   ]
  },
  {
   "cell_type": "markdown",
   "id": "66a8675a",
   "metadata": {},
   "source": [
    "## Question 17 :\n",
    "\n",
    "Modifiez la variable duration de telle sorte que la durée des séries soit\n",
    "un nombre plutôt qu’une chaîne de caractères, par exemple : 2 au\n",
    "milieu de “2 seasons”."
   ]
  },
  {
   "cell_type": "code",
   "execution_count": 25,
   "id": "d4bfce61",
   "metadata": {},
   "outputs": [
    {
     "name": "stdout",
     "output_type": "stream",
     "text": [
      "Exemples de durées de séries avant conversion:\n",
      "1    2 Seasons\n",
      "2     1 Season\n",
      "3     1 Season\n",
      "4    2 Seasons\n",
      "5     1 Season\n",
      "Name: duration, dtype: object\n",
      "\n",
      "Exemples après conversion:\n",
      "                   title   duration  duration_value\n",
      "1          Blood & Water  2 Seasons             2.0\n",
      "2              Ganglands   1 Season             1.0\n",
      "3  Jailbirds New Orleans   1 Season             1.0\n",
      "4           Kota Factory  2 Seasons             2.0\n",
      "5          Midnight Mass   1 Season             1.0\n"
     ]
    }
   ],
   "source": [
    "# Vérifier d'abord quelques exemples de la colonne duration pour les séries\n",
    "print(\"Exemples de durées de séries avant conversion:\")\n",
    "print(df[df['type'] == 'TV Show']['duration'].head())\n",
    "\n",
    "# Extraction du nombre de saisons pour les séries TV\n",
    "# Utilisons directement la méthode qui a fonctionné pour les films\n",
    "def extract_seasons(duration_str):\n",
    "    if pd.isna(duration_str):\n",
    "        return float('nan')\n",
    "    import re\n",
    "    numbers = re.findall(r'\\d+', str(duration_str))\n",
    "    if numbers:\n",
    "        return float(numbers[0])\n",
    "    return float('nan')\n",
    "\n",
    "# Appliquer la fonction aux séries TV uniquement\n",
    "df.loc[df['type'] == 'TV Show', 'duration_value'] = df.loc[df['type'] == 'TV Show', 'duration'].apply(extract_seasons)\n",
    "\n",
    "# Vérifier le résultat\n",
    "print(\"\\nExemples après conversion:\")\n",
    "print(df[df['type'] == 'TV Show'][['title', 'duration', 'duration_value']].head())"
   ]
  },
  {
   "cell_type": "markdown",
   "id": "6e2b9a76",
   "metadata": {},
   "source": [
    "## Question 18 :\n",
    "\n",
    "Modifiez la variable listed_in de telle sorte que la chaîne de caractères\n",
    "soit un liste de chaîne de caractères, par exemple : [“International TV\n",
    "Shows”, “TV Dramas”, “TV Mysteries”] au lieu de “International TV\n",
    "Shows, TV Dramas, TV Mysteries”."
   ]
  },
  {
   "cell_type": "code",
   "execution_count": 26,
   "id": "0fdd815a",
   "metadata": {},
   "outputs": [
    {
     "name": "stdout",
     "output_type": "stream",
     "text": [
      "Format actuel de la colonne listed_in:\n",
      "0                                        Documentaries\n",
      "1      International TV Shows, TV Dramas, TV Mysteries\n",
      "2    Crime TV Shows, International TV Shows, TV Act...\n",
      "3                               Docuseries, Reality TV\n",
      "4    International TV Shows, Romantic TV Shows, TV ...\n",
      "Name: listed_in, dtype: object\n",
      "\n",
      "Format après transformation:\n",
      "Exemple 1:\n",
      "  Original: Documentaries\n",
      "  Transformé: ['Documentaries']\n",
      "Exemple 2:\n",
      "  Original: International TV Shows, TV Dramas, TV Mysteries\n",
      "  Transformé: ['International TV Shows', 'TV Dramas', 'TV Mysteries']\n",
      "Exemple 3:\n",
      "  Original: Crime TV Shows, International TV Shows, TV Action & Adventure\n",
      "  Transformé: ['Crime TV Shows', 'International TV Shows', 'TV Action & Adventure']\n",
      "Exemple 4:\n",
      "  Original: Docuseries, Reality TV\n",
      "  Transformé: ['Docuseries', 'Reality TV']\n",
      "Exemple 5:\n",
      "  Original: International TV Shows, Romantic TV Shows, TV Comedies\n",
      "  Transformé: ['International TV Shows', 'Romantic TV Shows', 'TV Comedies']\n"
     ]
    }
   ],
   "source": [
    "# Vérifier d'abord le format actuel\n",
    "print(\"Format actuel de la colonne listed_in:\")\n",
    "print(df['listed_in'].head())\n",
    "\n",
    "# Transformer la chaîne de caractères en liste\n",
    "df['listed_in_list'] = df['listed_in'].apply(lambda x: [genre.strip() for genre in x.split(',')] if isinstance(x, str) else [])\n",
    "\n",
    "# Vérifier le résultat\n",
    "print(\"\\nFormat après transformation:\")\n",
    "for i, (original, transformed) in enumerate(zip(df['listed_in'].head(), df['listed_in_list'].head())):\n",
    "    print(f\"Exemple {i+1}:\")\n",
    "    print(f\"  Original: {original}\")\n",
    "    print(f\"  Transformé: {transformed}\")"
   ]
  },
  {
   "cell_type": "markdown",
   "id": "7ccaf2b8",
   "metadata": {},
   "source": [
    "## Question 19 :\n",
    "\n",
    "Affichez les valeurs uniques des variables : type, country,\n",
    "release_year, rating et listed_in.\n",
    "\n"
   ]
  },
  {
   "cell_type": "code",
   "execution_count": 33,
   "id": "1733b7f9",
   "metadata": {},
   "outputs": [
    {
     "name": "stdout",
     "output_type": "stream",
     "text": [
      "Valeurs uniques de 'type':\n",
      "['Movie' 'TV Show']\n",
      "Nombre de valeurs uniques: 2\n",
      "\n",
      "Valeurs uniques de 'country':\n",
      "Nombre de pays uniques: 748\n",
      "Aperçu des 15 premiers pays:\n",
      "['United States' 'South Africa' 'India'\n",
      " 'United States, Ghana, Burkina Faso, United Kingdom, Germany, Ethiopia'\n",
      " 'United Kingdom' 'Germany, Czech Republic' 'Mexico' 'Turkey' 'Australia'\n",
      " 'United States, India, France' 'Finland' 'China, Canada, United States'\n",
      " 'South Africa, United States, Japan' 'Nigeria' 'Japan']\n",
      "\n",
      "Valeurs uniques de 'release_year':\n",
      "Nombre d'années de sortie uniques: 74\n",
      "Plage d'années: de 1925 à 2021\n",
      "[np.int64(1925), np.int64(1942), np.int64(1943), np.int64(1944), np.int64(1945), np.int64(1946), np.int64(1947), np.int64(1954), np.int64(1955), np.int64(1956), np.int64(1958), np.int64(1959), np.int64(1960), np.int64(1961), np.int64(1962), np.int64(1963), np.int64(1964), np.int64(1965), np.int64(1966), np.int64(1967), np.int64(1968), np.int64(1969), np.int64(1970), np.int64(1971), np.int64(1972), np.int64(1973), np.int64(1974), np.int64(1975), np.int64(1976), np.int64(1977), np.int64(1978), np.int64(1979), np.int64(1980), np.int64(1981), np.int64(1982), np.int64(1983), np.int64(1984), np.int64(1985), np.int64(1986), np.int64(1987), np.int64(1988), np.int64(1989), np.int64(1990), np.int64(1991), np.int64(1992), np.int64(1993), np.int64(1994), np.int64(1995), np.int64(1996), np.int64(1997), np.int64(1998), np.int64(1999), np.int64(2000), np.int64(2001), np.int64(2002), np.int64(2003), np.int64(2004), np.int64(2005), np.int64(2006), np.int64(2007), np.int64(2008), np.int64(2009), np.int64(2010), np.int64(2011), np.int64(2012), np.int64(2013), np.int64(2014), np.int64(2015), np.int64(2016), np.int64(2017), np.int64(2018), np.int64(2019), np.int64(2020), np.int64(2021)]\n",
      "\n",
      "Valeurs uniques de 'rating':\n",
      "['PG-13' 'TV-MA' 'PG' 'TV-14' 'TV-PG' 'TV-Y' 'TV-Y7' 'R' 'TV-G' 'G'\n",
      " 'NC-17' '74 min' '84 min' '66 min' 'NR' nan 'TV-Y7-FV' 'UR']\n",
      "Nombre de ratings uniques: 17\n",
      "\n",
      "Valeurs uniques de 'listed_in':\n",
      "Nombre de genres uniques: 42\n",
      "Liste des genres uniques:\n",
      "['Action & Adventure', 'Anime Features', 'Anime Series', 'British TV Shows', 'Children & Family Movies', 'Classic & Cult TV', 'Classic Movies', 'Comedies', 'Crime TV Shows', 'Cult Movies', 'Documentaries', 'Docuseries', 'Dramas', 'Faith & Spirituality', 'Horror Movies', 'Independent Movies', 'International Movies', 'International TV Shows', \"Kids' TV\", 'Korean TV Shows', 'LGBTQ Movies', 'Movies', 'Music & Musicals', 'Reality TV', 'Romantic Movies', 'Romantic TV Shows', 'Sci-Fi & Fantasy', 'Science & Nature TV', 'Spanish-Language TV Shows', 'Sports Movies', 'Stand-Up Comedy', 'Stand-Up Comedy & Talk Shows', 'TV Action & Adventure', 'TV Comedies', 'TV Dramas', 'TV Horror', 'TV Mysteries', 'TV Sci-Fi & Fantasy', 'TV Shows', 'TV Thrillers', 'Teen TV Shows', 'Thrillers']\n"
     ]
    }
   ],
   "source": [
    "# Afficher les valeurs uniques de 'type'\n",
    "print(\"Valeurs uniques de 'type':\")\n",
    "print(df['type'].unique())\n",
    "print(f\"Nombre de valeurs uniques: {df['type'].nunique()}\")\n",
    "print()\n",
    "\n",
    "# Afficher les valeurs uniques de 'country'\n",
    "print(\"Valeurs uniques de 'country':\")\n",
    "# Comme il peut y avoir beaucoup de pays, affichons juste un aperçu\n",
    "unique_countries = df['country'].dropna().unique()\n",
    "print(f\"Nombre de pays uniques: {len(unique_countries)}\")\n",
    "print(\"Aperçu des 15 premiers pays:\")\n",
    "print(unique_countries[:15])\n",
    "print()\n",
    "\n",
    "# Afficher les valeurs uniques de 'release_year'\n",
    "print(\"Valeurs uniques de 'release_year':\")\n",
    "unique_years = sorted(df['release_year'].unique())\n",
    "print(f\"Nombre d'années de sortie uniques: {len(unique_years)}\")\n",
    "print(f\"Plage d'années: de {min(unique_years)} à {max(unique_years)}\")\n",
    "print(unique_years)\n",
    "print()\n",
    "\n",
    "# Afficher les valeurs uniques de 'rating'\n",
    "print(\"Valeurs uniques de 'rating':\")\n",
    "print(df['rating'].unique())\n",
    "print(f\"Nombre de ratings uniques: {df['rating'].nunique()}\")\n",
    "print()\n",
    "\n",
    "# Afficher les valeurs uniques de 'listed_in'\n",
    "print(\"Valeurs uniques de 'listed_in':\")\n",
    "# Utilisons la colonne listed_in_list que nous avons créée à la question 18\n",
    "unique_genres = set()\n",
    "for genres_list in df['listed_in_list']:\n",
    "    for genre in genres_list:\n",
    "        unique_genres.add(genre)\n",
    "print(f\"Nombre de genres uniques: {len(unique_genres)}\")\n",
    "print(\"Liste des genres uniques:\")\n",
    "print(sorted(list(unique_genres)))"
   ]
  },
  {
   "cell_type": "markdown",
   "id": "dc707104",
   "metadata": {},
   "source": [
    "## Question 20 :\n",
    "\n",
    "Voyez-vous un “director” ayant produit plus d’une œuvre ?"
   ]
  },
  {
   "cell_type": "code",
   "execution_count": 34,
   "id": "453eea0e",
   "metadata": {},
   "outputs": [
    {
     "name": "stdout",
     "output_type": "stream",
     "text": [
      "Oui, 867 réalisateurs ont produit plus d'une œuvre.\n",
      "\n",
      "Top 10 des réalisateurs les plus prolifiques :\n",
      "director\n",
      "Rajiv Chilaka             19\n",
      "Raúl Campos, Jan Suter    18\n",
      "Suhas Kadav               16\n",
      "Marcus Raboy              16\n",
      "Jay Karas                 14\n",
      "Cathy Garcia-Molina       13\n",
      "Martin Scorsese           12\n",
      "Youssef Chahine           12\n",
      "Jay Chapman               12\n",
      "Steven Spielberg          11\n",
      "Name: count, dtype: int64\n"
     ]
    }
   ],
   "source": [
    "# Compter les occurrences de chaque réalisateur\n",
    "director_counts = df['director'].dropna().value_counts()\n",
    "\n",
    "# Filtrer pour ne garder que ceux avec plus d'une œuvre\n",
    "directors_multiple_works = director_counts[director_counts > 1]\n",
    "\n",
    "# Afficher le résultat\n",
    "if len(directors_multiple_works) > 0:\n",
    "    print(f\"Oui, {len(directors_multiple_works)} réalisateurs ont produit plus d'une œuvre.\")\n",
    "    print(\"\\nTop 10 des réalisateurs les plus prolifiques :\")\n",
    "    print(directors_multiple_works.head(10))\n",
    "else:\n",
    "    print(\"Non, aucun réalisateur n'a produit plus d'une œuvre.\")"
   ]
  },
  {
   "cell_type": "markdown",
   "id": "e64ffbc6",
   "metadata": {},
   "source": [
    "## Question 21 :\n",
    "\n",
    "Quelle est l’année avec le plus de films ajoutés au catalogue de Netflix ?"
   ]
  },
  {
   "cell_type": "code",
   "execution_count": 36,
   "id": "aa381048",
   "metadata": {},
   "outputs": [
    {
     "name": "stdout",
     "output_type": "stream",
     "text": [
      "L'année avec le plus de films ajoutés au catalogue Netflix est 2019 avec 1424 films.\n",
      "\n",
      "Distribution des films ajoutés par année:\n",
      "year_added\n",
      "2008       1\n",
      "2009       2\n",
      "2010       1\n",
      "2011      13\n",
      "2012       3\n",
      "2013       6\n",
      "2014      19\n",
      "2015      56\n",
      "2016     253\n",
      "2017     839\n",
      "2018    1237\n",
      "2019    1424\n",
      "2020    1284\n",
      "2021     993\n",
      "Name: count, dtype: int64\n"
     ]
    },
    {
     "data": {
      "image/png": "[encoded data removed]",
      "text/plain": [
       "<Figure size 1200x600 with 1 Axes>"
      ]
     },
     "metadata": {},
     "output_type": "display_data"
    }
   ],
   "source": [
    "# Extraire l'année d'ajout à partir de la colonne date_added pour les films uniquement\n",
    "films = df[df['type'] == 'Movie'].copy()\n",
    "films['year_added'] = films['date_added'].dt.year\n",
    "\n",
    "# Compter le nombre de films ajoutés par année\n",
    "films_par_annee = films['year_added'].value_counts().sort_index()\n",
    "\n",
    "# Trouver l'année avec le plus de films ajoutés\n",
    "annee_max = films_par_annee.idxmax()\n",
    "nb_films_max = films_par_annee.max()\n",
    "\n",
    "# Afficher le résultat\n",
    "print(f\"L'année avec le plus de films ajoutés au catalogue Netflix est {annee_max} avec {nb_films_max} films.\")\n",
    "\n",
    "# Afficher la distribution par année pour avoir une vue d'ensemble\n",
    "print(\"\\nDistribution des films ajoutés par année:\")\n",
    "print(films_par_annee)\n",
    "\n",
    "# Visualisation\n",
    "plt.figure(figsize=(12, 6))\n",
    "films_par_annee.plot(kind='bar', color='darkred')\n",
    "plt.title('Nombre de films ajoutés par année au catalogue Netflix')\n",
    "plt.xlabel('Année')\n",
    "plt.ylabel('Nombre de films')\n",
    "plt.grid(axis='y', linestyle='--', alpha=0.7)\n",
    "plt.tight_layout()\n",
    "plt.show()"
   ]
  },
  {
   "cell_type": "markdown",
   "id": "563733d3",
   "metadata": {},
   "source": [
    "## Question 22 :\n",
    "\n",
    "Quelle est l’année avec le plus de séries ajoutées au catalogue de\n",
    "Netflix ?"
   ]
  },
  {
   "cell_type": "code",
   "execution_count": 38,
   "id": "ec45ed33",
   "metadata": {},
   "outputs": [
    {
     "name": "stdout",
     "output_type": "stream",
     "text": [
      "L'année avec le plus de séries ajoutées au catalogue Netflix est 2020 avec 595 séries.\n",
      "\n",
      "Distribution des séries ajoutées par année:\n",
      "year_added\n",
      "2008      1\n",
      "2013      5\n",
      "2014      5\n",
      "2015     26\n",
      "2016    176\n",
      "2017    349\n",
      "2018    412\n",
      "2019    592\n",
      "2020    595\n",
      "2021    505\n",
      "Name: count, dtype: Int64\n"
     ]
    }
   ],
   "source": [
    "# Extraire l'année d'ajout à partir de la colonne date_added pour les séries uniquement\n",
    "series = df[df['type'] == 'TV Show'].copy()\n",
    "# Convertir explicitement en integer pour éviter les décimales\n",
    "series['year_added'] = series['date_added'].dt.year.astype('Int64')  # Int64 avec majuscule gère les valeurs NaN\n",
    "\n",
    "# Compter le nombre de séries ajoutées par année\n",
    "series_par_annee = series['year_added'].value_counts().sort_index()\n",
    "\n",
    "# Trouver l'année avec le plus de séries ajoutées\n",
    "annee_max_series = series_par_annee.idxmax()\n",
    "nb_series_max = series_par_annee.max()\n",
    "\n",
    "# Afficher le résultat\n",
    "print(f\"L'année avec le plus de séries ajoutées au catalogue Netflix est {annee_max_series} avec {nb_series_max} séries.\")\n",
    "\n",
    "# Afficher la distribution par année pour avoir une vue d'ensemble\n",
    "print(\"\\nDistribution des séries ajoutées par année:\")\n",
    "print(series_par_annee)"
   ]
  },
  {
   "cell_type": "markdown",
   "id": "af9d6abf",
   "metadata": {},
   "source": [
    "## Question 23 :\n",
    "\n",
    "Visualisez vos données à l’aide des différentes librairies de Matplotlib,\n",
    "Seaborn ou Plotly :"
   ]
  },
  {
   "cell_type": "markdown",
   "id": "3171b880",
   "metadata": {},
   "source": [
    "**a. La répartition du type d'oeuvres du dataset**"
   ]
  },
  {
   "cell_type": "code",
   "execution_count": 49,
   "id": "4d923c75",
   "metadata": {},
   "outputs": [
    {
     "data": {
      "image/png": "[encoded data removed]",
      "text/plain": [
       "<Figure size 1000x600 with 1 Axes>"
      ]
     },
     "metadata": {},
     "output_type": "display_data"
    },
    {
     "data": {
      "application/vnd.plotly.v1+json": {
       "config": {
        "plotlyServerURL": "https://plot.ly"
       },
       "data": [
        {
         "domain": {
          "x": [
           0,
           1
          ],
          "y": [
           0,
           1
          ]
         },
         "hovertemplate": "label=%{label}<br>value=%{value}<extra></extra>",
         "labels": [
          "Movie",
          "TV Show"
         ],
         "legendgroup": "",
         "name": "",
         "showlegend": true,
         "textinfo": "percent+label",
         "textposition": "inside",
         "type": "pie",
         "values": {
          "bdata": "8xd0Cg==",
          "dtype": "i2"
         }
        }
       ],
       "layout": {
        "legend": {
         "tracegroupgap": 0
        },
        "piecolorway": [
         "rgb(103,0,31)",
         "rgb(178,24,43)",
         "rgb(214,96,77)",
         "rgb(244,165,130)",
         "rgb(253,219,199)",
         "rgb(247,247,247)",
         "rgb(209,229,240)",
         "rgb(146,197,222)",
         "rgb(67,147,195)",
         "rgb(33,102,172)",
         "rgb(5,48,97)"
        ],
        "template": {
         "data": {
          "bar": [
           {
            "error_x": {
             "color": "#2a3f5f"
            },
            "error_y": {
             "color": "#2a3f5f"
            },
            "marker": {
             "line": {
              "color": "#E5ECF6",
              "width": 0.5
             },
             "pattern": {
              "fillmode": "overlay",
              "size": 10,
              "solidity": 0.2
             }
            },
            "type": "bar"
           }
          ],
          "barpolar": [
           {
            "marker": {
             "line": {
              "color": "#E5ECF6",
              "width": 0.5
             },
             "pattern": {
              "fillmode": "overlay",
              "size": 10,
              "solidity": 0.2
             }
            },
            "type": "barpolar"
           }
          ],
          "carpet": [
           {
            "aaxis": {
             "endlinecolor": "#2a3f5f",
             "gridcolor": "white",
             "linecolor": "white",
             "minorgridcolor": "white",
             "startlinecolor": "#2a3f5f"
            },
            "baxis": {
             "endlinecolor": "#2a3f5f",
             "gridcolor": "white",
             "linecolor": "white",
             "minorgridcolor": "white",
             "startlinecolor": "#2a3f5f"
            },
            "type": "carpet"
           }
          ],
          "choropleth": [
           {
            "colorbar": {
             "outlinewidth": 0,
             "ticks": ""
            },
            "type": "choropleth"
           }
          ],
          "contour": [
           {
            "colorbar": {
             "outlinewidth": 0,
             "ticks": ""
            },
            "colorscale": [
             [
              0,
              "#0d0887"
             ],
             [
              0.1111111111111111,
              "#46039f"
             ],
             [
              0.2222222222222222,
              "#7201a8"
             ],
             [
              0.3333333333333333,
              "#9c179e"
             ],
             [
              0.4444444444444444,
              "#bd3786"
             ],
             [
              0.5555555555555556,
              "#d8576b"
             ],
             [
              0.6666666666666666,
              "#ed7953"
             ],
             [
              0.7777777777777778,
              "#fb9f3a"
             ],
             [
              0.8888888888888888,
              "#fdca26"
             ],
             [
              1,
              "#f0f921"
             ]
            ],
            "type": "contour"
           }
          ],
          "contourcarpet": [
           {
            "colorbar": {
             "outlinewidth": 0,
             "ticks": ""
            },
            "type": "contourcarpet"
           }
          ],
          "heatmap": [
           {
            "colorbar": {
             "outlinewidth": 0,
             "ticks": ""
            },
            "colorscale": [
             [
              0,
              "#0d0887"
             ],
             [
              0.1111111111111111,
              "#46039f"
             ],
             [
              0.2222222222222222,
              "#7201a8"
             ],
             [
              0.3333333333333333,
              "#9c179e"
             ],
             [
              0.4444444444444444,
              "#bd3786"
             ],
             [
              0.5555555555555556,
              "#d8576b"
             ],
             [
              0.6666666666666666,
              "#ed7953"
             ],
             [
              0.7777777777777778,
              "#fb9f3a"
             ],
             [
              0.8888888888888888,
              "#fdca26"
             ],
             [
              1,
              "#f0f921"
             ]
            ],
            "type": "heatmap"
           }
          ],
          "histogram": [
           {
            "marker": {
             "pattern": {
              "fillmode": "overlay",
              "size": 10,
              "solidity": 0.2
             }
            },
            "type": "histogram"
           }
          ],
          "histogram2d": [
           {
            "colorbar": {
             "outlinewidth": 0,
             "ticks": ""
            },
            "colorscale": [
             [
              0,
              "#0d0887"
             ],
             [
              0.1111111111111111,
              "#46039f"
             ],
             [
              0.2222222222222222,
              "#7201a8"
             ],
             [
              0.3333333333333333,
              "#9c179e"
             ],
             [
              0.4444444444444444,
              "#bd3786"
             ],
             [
              0.5555555555555556,
              "#d8576b"
             ],
             [
              0.6666666666666666,
              "#ed7953"
             ],
             [
              0.7777777777777778,
              "#fb9f3a"
             ],
             [
              0.8888888888888888,
              "#fdca26"
             ],
             [
              1,
              "#f0f921"
             ]
            ],
            "type": "histogram2d"
           }
          ],
          "histogram2dcontour": [
           {
            "colorbar": {
             "outlinewidth": 0,
             "ticks": ""
            },
            "colorscale": [
             [
              0,
              "#0d0887"
             ],
             [
              0.1111111111111111,
              "#46039f"
             ],
             [
              0.2222222222222222,
              "#7201a8"
             ],
             [
              0.3333333333333333,
              "#9c179e"
             ],
             [
              0.4444444444444444,
              "#bd3786"
             ],
             [
              0.5555555555555556,
              "#d8576b"
             ],
             [
              0.6666666666666666,
              "#ed7953"
             ],
             [
              0.7777777777777778,
              "#fb9f3a"
             ],
             [
              0.8888888888888888,
              "#fdca26"
             ],
             [
              1,
              "#f0f921"
             ]
            ],
            "type": "histogram2dcontour"
           }
          ],
          "mesh3d": [
           {
            "colorbar": {
             "outlinewidth": 0,
             "ticks": ""
            },
            "type": "mesh3d"
           }
          ],
          "parcoords": [
           {
            "line": {
             "colorbar": {
              "outlinewidth": 0,
              "ticks": ""
             }
            },
            "type": "parcoords"
           }
          ],
          "pie": [
           {
            "automargin": true,
            "type": "pie"
           }
          ],
          "scatter": [
           {
            "fillpattern": {
             "fillmode": "overlay",
             "size": 10,
             "solidity": 0.2
            },
            "type": "scatter"
           }
          ],
          "scatter3d": [
           {
            "line": {
             "colorbar": {
              "outlinewidth": 0,
              "ticks": ""
             }
            },
            "marker": {
             "colorbar": {
              "outlinewidth": 0,
              "ticks": ""
             }
            },
            "type": "scatter3d"
           }
          ],
          "scattercarpet": [
           {
            "marker": {
             "colorbar": {
              "outlinewidth": 0,
              "ticks": ""
             }
            },
            "type": "scattercarpet"
           }
          ],
          "scattergeo": [
           {
            "marker": {
             "colorbar": {
              "outlinewidth": 0,
              "ticks": ""
             }
            },
            "type": "scattergeo"
           }
          ],
          "scattergl": [
           {
            "marker": {
             "colorbar": {
              "outlinewidth": 0,
              "ticks": ""
             }
            },
            "type": "scattergl"
           }
          ],
          "scattermap": [
           {
            "marker": {
             "colorbar": {
              "outlinewidth": 0,
              "ticks": ""
             }
            },
            "type": "scattermap"
           }
          ],
          "scattermapbox": [
           {
            "marker": {
             "colorbar": {
              "outlinewidth": 0,
              "ticks": ""
             }
            },
            "type": "scattermapbox"
           }
          ],
          "scatterpolar": [
           {
            "marker": {
             "colorbar": {
              "outlinewidth": 0,
              "ticks": ""
             }
            },
            "type": "scatterpolar"
           }
          ],
          "scatterpolargl": [
           {
            "marker": {
             "colorbar": {
              "outlinewidth": 0,
              "ticks": ""
             }
            },
            "type": "scatterpolargl"
           }
          ],
          "scatterternary": [
           {
            "marker": {
             "colorbar": {
              "outlinewidth": 0,
              "ticks": ""
             }
            },
            "type": "scatterternary"
           }
          ],
          "surface": [
           {
            "colorbar": {
             "outlinewidth": 0,
             "ticks": ""
            },
            "colorscale": [
             [
              0,
              "#0d0887"
             ],
             [
              0.1111111111111111,
              "#46039f"
             ],
             [
              0.2222222222222222,
              "#7201a8"
             ],
             [
              0.3333333333333333,
              "#9c179e"
             ],
             [
              0.4444444444444444,
              "#bd3786"
             ],
             [
              0.5555555555555556,
              "#d8576b"
             ],
             [
              0.6666666666666666,
              "#ed7953"
             ],
             [
              0.7777777777777778,
              "#fb9f3a"
             ],
             [
              0.8888888888888888,
              "#fdca26"
             ],
             [
              1,
              "#f0f921"
             ]
            ],
            "type": "surface"
           }
          ],
          "table": [
           {
            "cells": {
             "fill": {
              "color": "#EBF0F8"
             },
             "line": {
              "color": "white"
             }
            },
            "header": {
             "fill": {
              "color": "#C8D4E3"
             },
             "line": {
              "color": "white"
             }
            },
            "type": "table"
           }
          ]
         },
         "layout": {
          "annotationdefaults": {
           "arrowcolor": "#2a3f5f",
           "arrowhead": 0,
           "arrowwidth": 1
          },
          "autotypenumbers": "strict",
          "coloraxis": {
           "colorbar": {
            "outlinewidth": 0,
            "ticks": ""
           }
          },
          "colorscale": {
           "diverging": [
            [
             0,
             "#8e0152"
            ],
            [
             0.1,
             "#c51b7d"
            ],
            [
             0.2,
             "#de77ae"
            ],
            [
             0.3,
             "#f1b6da"
            ],
            [
             0.4,
             "#fde0ef"
            ],
            [
             0.5,
             "#f7f7f7"
            ],
            [
             0.6,
             "#e6f5d0"
            ],
            [
             0.7,
             "#b8e186"
            ],
            [
             0.8,
             "#7fbc41"
            ],
            [
             0.9,
             "#4d9221"
            ],
            [
             1,
             "#276419"
            ]
           ],
           "sequential": [
            [
             0,
             "#0d0887"
            ],
            [
             0.1111111111111111,
             "#46039f"
            ],
            [
             0.2222222222222222,
             "#7201a8"
            ],
            [
             0.3333333333333333,
             "#9c179e"
            ],
            [
             0.4444444444444444,
             "#bd3786"
            ],
            [
             0.5555555555555556,
             "#d8576b"
            ],
            [
             0.6666666666666666,
             "#ed7953"
            ],
            [
             0.7777777777777778,
             "#fb9f3a"
            ],
            [
             0.8888888888888888,
             "#fdca26"
            ],
            [
             1,
             "#f0f921"
            ]
           ],
           "sequentialminus": [
            [
             0,
             "#0d0887"
            ],
            [
             0.1111111111111111,
             "#46039f"
            ],
            [
             0.2222222222222222,
             "#7201a8"
            ],
            [
             0.3333333333333333,
             "#9c179e"
            ],
            [
             0.4444444444444444,
             "#bd3786"
            ],
            [
             0.5555555555555556,
             "#d8576b"
            ],
            [
             0.6666666666666666,
             "#ed7953"
            ],
            [
             0.7777777777777778,
             "#fb9f3a"
            ],
            [
             0.8888888888888888,
             "#fdca26"
            ],
            [
             1,
             "#f0f921"
            ]
           ]
          },
          "colorway": [
           "#636efa",
           "#EF553B",
           "#00cc96",
           "#ab63fa",
           "#FFA15A",
           "#19d3f3",
           "#FF6692",
           "#B6E880",
           "#FF97FF",
           "#FECB52"
          ],
          "font": {
           "color": "#2a3f5f"
          },
          "geo": {
           "bgcolor": "white",
           "lakecolor": "white",
           "landcolor": "#E5ECF6",
           "showlakes": true,
           "showland": true,
           "subunitcolor": "white"
          },
          "hoverlabel": {
           "align": "left"
          },
          "hovermode": "closest",
          "mapbox": {
           "style": "light"
          },
          "paper_bgcolor": "white",
          "plot_bgcolor": "#E5ECF6",
          "polar": {
           "angularaxis": {
            "gridcolor": "white",
            "linecolor": "white",
            "ticks": ""
           },
           "bgcolor": "#E5ECF6",
           "radialaxis": {
            "gridcolor": "white",
            "linecolor": "white",
            "ticks": ""
           }
          },
          "scene": {
           "xaxis": {
            "backgroundcolor": "#E5ECF6",
            "gridcolor": "white",
            "gridwidth": 2,
            "linecolor": "white",
            "showbackground": true,
            "ticks": "",
            "zerolinecolor": "white"
           },
           "yaxis": {
            "backgroundcolor": "#E5ECF6",
            "gridcolor": "white",
            "gridwidth": 2,
            "linecolor": "white",
            "showbackground": true,
            "ticks": "",
            "zerolinecolor": "white"
           },
           "zaxis": {
            "backgroundcolor": "#E5ECF6",
            "gridcolor": "white",
            "gridwidth": 2,
            "linecolor": "white",
            "showbackground": true,
            "ticks": "",
            "zerolinecolor": "white"
           }
          },
          "shapedefaults": {
           "line": {
            "color": "#2a3f5f"
           }
          },
          "ternary": {
           "aaxis": {
            "gridcolor": "white",
            "linecolor": "white",
            "ticks": ""
           },
           "baxis": {
            "gridcolor": "white",
            "linecolor": "white",
            "ticks": ""
           },
           "bgcolor": "#E5ECF6",
           "caxis": {
            "gridcolor": "white",
            "linecolor": "white",
            "ticks": ""
           }
          },
          "title": {
           "x": 0.05
          },
          "xaxis": {
           "automargin": true,
           "gridcolor": "white",
           "linecolor": "white",
           "ticks": "",
           "title": {
            "standoff": 15
           },
           "zerolinecolor": "white",
           "zerolinewidth": 2
          },
          "yaxis": {
           "automargin": true,
           "gridcolor": "white",
           "linecolor": "white",
           "ticks": "",
           "title": {
            "standoff": 15
           },
           "zerolinecolor": "white",
           "zerolinewidth": 2
          }
         }
        },
        "title": {
         "text": "Répartition des types de contenu sur Netflix"
        }
       }
      }
     },
     "metadata": {},
     "output_type": "display_data"
    }
   ],
   "source": [
    "# a. La répartition du type d'œuvres du dataset (avec Matplotlib)\n",
    "plt.figure(figsize=(10, 6))\n",
    "type_counts = df['type'].value_counts()\n",
    "plt.pie(type_counts, labels=type_counts.index, autopct='%1.1f%%', startangle=90, \n",
    "        colors=['#E50914', '#564D4D'])  # Couleurs Netflix\n",
    "plt.title('Répartition des types de contenu sur Netflix', fontsize=14)\n",
    "plt.axis('equal')  # Pour que le camembert soit circulaire\n",
    "plt.tight_layout()\n",
    "plt.show()\n",
    "\n",
    "# Version alternative avec Plotly (interactive)\n",
    "fig = px.pie(values=type_counts.values, names=type_counts.index, \n",
    "             title='Répartition des types de contenu sur Netflix',\n",
    "             color_discrete_sequence=px.colors.sequential.RdBu)\n",
    "fig.update_traces(textposition='inside', textinfo='percent+label')\n",
    "fig.show()"
   ]
  },
  {
   "cell_type": "markdown",
   "id": "3764b506",
   "metadata": {},
   "source": [
    "b. La répartition des oeuvres en fonction des pays du dataset"
   ]
  },
  {
   "cell_type": "code",
   "execution_count": 50,
   "id": "53a7d881",
   "metadata": {},
   "outputs": [
    {
     "data": {
      "image/png": "[encoded data removed]",
      "text/plain": [
       "<Figure size 1200x800 with 1 Axes>"
      ]
     },
     "metadata": {},
     "output_type": "display_data"
    }
   ],
   "source": [
    "# b. La répartition des œuvres en fonction des pays (avec Seaborn)\n",
    "# Nettoyer les données des pays (certains contenus ont plusieurs pays)\n",
    "df['country_clean'] = df['country'].fillna('Unknown')\n",
    "countries = df['country_clean'].str.split(', ').explode().str.strip()\n",
    "top_countries = countries.value_counts().head(10)\n",
    "\n",
    "plt.figure(figsize=(12, 8))\n",
    "sns.barplot(x=top_countries.values, y=top_countries.index, palette='viridis')\n",
    "plt.title('Top 10 des pays produisant du contenu sur Netflix', fontsize=14)\n",
    "plt.xlabel('Nombre de titres')\n",
    "plt.ylabel('Pays')\n",
    "plt.tight_layout()\n",
    "plt.show()"
   ]
  },
  {
   "cell_type": "markdown",
   "id": "2f5a5c8d",
   "metadata": {},
   "source": [
    "c. La répartition des années du dataset"
   ]
  },
  {
   "cell_type": "code",
   "execution_count": 51,
   "id": "63f95b3c",
   "metadata": {},
   "outputs": [
    {
     "data": {
      "application/vnd.plotly.v1+json": {
       "config": {
        "plotlyServerURL": "https://plot.ly"
       },
       "data": [
        {
         "bingroup": "x",
         "hovertemplate": "Année de sortie=%{x}<br>count=%{y}<extra></extra>",
         "legendgroup": "",
         "marker": {
          "color": "#E50914",
          "pattern": {
           "shape": ""
          }
         },
         "name": "",
         "nbinsx": 30,
         "orientation": "v",
         "showlegend": false,
         "type": "histogram",
         "x": {
          "bdata": "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",
          "dtype": "i2"
         },
         "xaxis": "x",
         "yaxis": "y"
        }
       ],
       "layout": {
        "bargap": 0.1,
        "barmode": "relative",
        "legend": {
         "tracegroupgap": 0
        },
        "template": {
         "data": {
          "bar": [
           {
            "error_x": {
             "color": "#2a3f5f"
            },
            "error_y": {
             "color": "#2a3f5f"
            },
            "marker": {
             "line": {
              "color": "#E5ECF6",
              "width": 0.5
             },
             "pattern": {
              "fillmode": "overlay",
              "size": 10,
              "solidity": 0.2
             }
            },
            "type": "bar"
           }
          ],
          "barpolar": [
           {
            "marker": {
             "line": {
              "color": "#E5ECF6",
              "width": 0.5
             },
             "pattern": {
              "fillmode": "overlay",
              "size": 10,
              "solidity": 0.2
             }
            },
            "type": "barpolar"
           }
          ],
          "carpet": [
           {
            "aaxis": {
             "endlinecolor": "#2a3f5f",
             "gridcolor": "white",
             "linecolor": "white",
             "minorgridcolor": "white",
             "startlinecolor": "#2a3f5f"
            },
            "baxis": {
             "endlinecolor": "#2a3f5f",
             "gridcolor": "white",
             "linecolor": "white",
             "minorgridcolor": "white",
             "startlinecolor": "#2a3f5f"
            },
            "type": "carpet"
           }
          ],
          "choropleth": [
           {
            "colorbar": {
             "outlinewidth": 0,
             "ticks": ""
            },
            "type": "choropleth"
           }
          ],
          "contour": [
           {
            "colorbar": {
             "outlinewidth": 0,
             "ticks": ""
            },
            "colorscale": [
             [
              0,
              "#0d0887"
             ],
             [
              0.1111111111111111,
              "#46039f"
             ],
             [
              0.2222222222222222,
              "#7201a8"
             ],
             [
              0.3333333333333333,
              "#9c179e"
             ],
             [
              0.4444444444444444,
              "#bd3786"
             ],
             [
              0.5555555555555556,
              "#d8576b"
             ],
             [
              0.6666666666666666,
              "#ed7953"
             ],
             [
              0.7777777777777778,
              "#fb9f3a"
             ],
             [
              0.8888888888888888,
              "#fdca26"
             ],
             [
              1,
              "#f0f921"
             ]
            ],
            "type": "contour"
           }
          ],
          "contourcarpet": [
           {
            "colorbar": {
             "outlinewidth": 0,
             "ticks": ""
            },
            "type": "contourcarpet"
           }
          ],
          "heatmap": [
           {
            "colorbar": {
             "outlinewidth": 0,
             "ticks": ""
            },
            "colorscale": [
             [
              0,
              "#0d0887"
             ],
             [
              0.1111111111111111,
              "#46039f"
             ],
             [
              0.2222222222222222,
              "#7201a8"
             ],
             [
              0.3333333333333333,
              "#9c179e"
             ],
             [
              0.4444444444444444,
              "#bd3786"
             ],
             [
              0.5555555555555556,
              "#d8576b"
             ],
             [
              0.6666666666666666,
              "#ed7953"
             ],
             [
              0.7777777777777778,
              "#fb9f3a"
             ],
             [
              0.8888888888888888,
              "#fdca26"
             ],
             [
              1,
              "#f0f921"
             ]
            ],
            "type": "heatmap"
           }
          ],
          "histogram": [
           {
            "marker": {
             "pattern": {
              "fillmode": "overlay",
              "size": 10,
              "solidity": 0.2
             }
            },
            "type": "histogram"
           }
          ],
          "histogram2d": [
           {
            "colorbar": {
             "outlinewidth": 0,
             "ticks": ""
            },
            "colorscale": [
             [
              0,
              "#0d0887"
             ],
             [
              0.1111111111111111,
              "#46039f"
             ],
             [
              0.2222222222222222,
              "#7201a8"
             ],
             [
              0.3333333333333333,
              "#9c179e"
             ],
             [
              0.4444444444444444,
              "#bd3786"
             ],
             [
              0.5555555555555556,
              "#d8576b"
             ],
             [
              0.6666666666666666,
              "#ed7953"
             ],
             [
              0.7777777777777778,
              "#fb9f3a"
             ],
             [
              0.8888888888888888,
              "#fdca26"
             ],
             [
              1,
              "#f0f921"
             ]
            ],
            "type": "histogram2d"
           }
          ],
          "histogram2dcontour": [
           {
            "colorbar": {
             "outlinewidth": 0,
             "ticks": ""
            },
            "colorscale": [
             [
              0,
              "#0d0887"
             ],
             [
              0.1111111111111111,
              "#46039f"
             ],
             [
              0.2222222222222222,
              "#7201a8"
             ],
             [
              0.3333333333333333,
              "#9c179e"
             ],
             [
              0.4444444444444444,
              "#bd3786"
             ],
             [
              0.5555555555555556,
              "#d8576b"
             ],
             [
              0.6666666666666666,
              "#ed7953"
             ],
             [
              0.7777777777777778,
              "#fb9f3a"
             ],
             [
              0.8888888888888888,
              "#fdca26"
             ],
             [
              1,
              "#f0f921"
             ]
            ],
            "type": "histogram2dcontour"
           }
          ],
          "mesh3d": [
           {
            "colorbar": {
             "outlinewidth": 0,
             "ticks": ""
            },
            "type": "mesh3d"
           }
          ],
          "parcoords": [
           {
            "line": {
             "colorbar": {
              "outlinewidth": 0,
              "ticks": ""
             }
            },
            "type": "parcoords"
           }
          ],
          "pie": [
           {
            "automargin": true,
            "type": "pie"
           }
          ],
          "scatter": [
           {
            "fillpattern": {
             "fillmode": "overlay",
             "size": 10,
             "solidity": 0.2
            },
            "type": "scatter"
           }
          ],
          "scatter3d": [
           {
            "line": {
             "colorbar": {
              "outlinewidth": 0,
              "ticks": ""
             }
            },
            "marker": {
             "colorbar": {
              "outlinewidth": 0,
              "ticks": ""
             }
            },
            "type": "scatter3d"
           }
          ],
          "scattercarpet": [
           {
            "marker": {
             "colorbar": {
              "outlinewidth": 0,
              "ticks": ""
             }
            },
            "type": "scattercarpet"
           }
          ],
          "scattergeo": [
           {
            "marker": {
             "colorbar": {
              "outlinewidth": 0,
              "ticks": ""
             }
            },
            "type": "scattergeo"
           }
          ],
          "scattergl": [
           {
            "marker": {
             "colorbar": {
              "outlinewidth": 0,
              "ticks": ""
             }
            },
            "type": "scattergl"
           }
          ],
          "scattermap": [
           {
            "marker": {
             "colorbar": {
              "outlinewidth": 0,
              "ticks": ""
             }
            },
            "type": "scattermap"
           }
          ],
          "scattermapbox": [
           {
            "marker": {
             "colorbar": {
              "outlinewidth": 0,
              "ticks": ""
             }
            },
            "type": "scattermapbox"
           }
          ],
          "scatterpolar": [
           {
            "marker": {
             "colorbar": {
              "outlinewidth": 0,
              "ticks": ""
             }
            },
            "type": "scatterpolar"
           }
          ],
          "scatterpolargl": [
           {
            "marker": {
             "colorbar": {
              "outlinewidth": 0,
              "ticks": ""
             }
            },
            "type": "scatterpolargl"
           }
          ],
          "scatterternary": [
           {
            "marker": {
             "colorbar": {
              "outlinewidth": 0,
              "ticks": ""
             }
            },
            "type": "scatterternary"
           }
          ],
          "surface": [
           {
            "colorbar": {
             "outlinewidth": 0,
             "ticks": ""
            },
            "colorscale": [
             [
              0,
              "#0d0887"
             ],
             [
              0.1111111111111111,
              "#46039f"
             ],
             [
              0.2222222222222222,
              "#7201a8"
             ],
             [
              0.3333333333333333,
              "#9c179e"
             ],
             [
              0.4444444444444444,
              "#bd3786"
             ],
             [
              0.5555555555555556,
              "#d8576b"
             ],
             [
              0.6666666666666666,
              "#ed7953"
             ],
             [
              0.7777777777777778,
              "#fb9f3a"
             ],
             [
              0.8888888888888888,
              "#fdca26"
             ],
             [
              1,
              "#f0f921"
             ]
            ],
            "type": "surface"
           }
          ],
          "table": [
           {
            "cells": {
             "fill": {
              "color": "#EBF0F8"
             },
             "line": {
              "color": "white"
             }
            },
            "header": {
             "fill": {
              "color": "#C8D4E3"
             },
             "line": {
              "color": "white"
             }
            },
            "type": "table"
           }
          ]
         },
         "layout": {
          "annotationdefaults": {
           "arrowcolor": "#2a3f5f",
           "arrowhead": 0,
           "arrowwidth": 1
          },
          "autotypenumbers": "strict",
          "coloraxis": {
           "colorbar": {
            "outlinewidth": 0,
            "ticks": ""
           }
          },
          "colorscale": {
           "diverging": [
            [
             0,
             "#8e0152"
            ],
            [
             0.1,
             "#c51b7d"
            ],
            [
             0.2,
             "#de77ae"
            ],
            [
             0.3,
             "#f1b6da"
            ],
            [
             0.4,
             "#fde0ef"
            ],
            [
             0.5,
             "#f7f7f7"
            ],
            [
             0.6,
             "#e6f5d0"
            ],
            [
             0.7,
             "#b8e186"
            ],
            [
             0.8,
             "#7fbc41"
            ],
            [
             0.9,
             "#4d9221"
            ],
            [
             1,
             "#276419"
            ]
           ],
           "sequential": [
            [
             0,
             "#0d0887"
            ],
            [
             0.1111111111111111,
             "#46039f"
            ],
            [
             0.2222222222222222,
             "#7201a8"
            ],
            [
             0.3333333333333333,
             "#9c179e"
            ],
            [
             0.4444444444444444,
             "#bd3786"
            ],
            [
             0.5555555555555556,
             "#d8576b"
            ],
            [
             0.6666666666666666,
             "#ed7953"
            ],
            [
             0.7777777777777778,
             "#fb9f3a"
            ],
            [
             0.8888888888888888,
             "#fdca26"
            ],
            [
             1,
             "#f0f921"
            ]
           ],
           "sequentialminus": [
            [
             0,
             "#0d0887"
            ],
            [
             0.1111111111111111,
             "#46039f"
            ],
            [
             0.2222222222222222,
             "#7201a8"
            ],
            [
             0.3333333333333333,
             "#9c179e"
            ],
            [
             0.4444444444444444,
             "#bd3786"
            ],
            [
             0.5555555555555556,
             "#d8576b"
            ],
            [
             0.6666666666666666,
             "#ed7953"
            ],
            [
             0.7777777777777778,
             "#fb9f3a"
            ],
            [
             0.8888888888888888,
             "#fdca26"
            ],
            [
             1,
             "#f0f921"
            ]
           ]
          },
          "colorway": [
           "#636efa",
           "#EF553B",
           "#00cc96",
           "#ab63fa",
           "#FFA15A",
           "#19d3f3",
           "#FF6692",
           "#B6E880",
           "#FF97FF",
           "#FECB52"
          ],
          "font": {
           "color": "#2a3f5f"
          },
          "geo": {
           "bgcolor": "white",
           "lakecolor": "white",
           "landcolor": "#E5ECF6",
           "showlakes": true,
           "showland": true,
           "subunitcolor": "white"
          },
          "hoverlabel": {
           "align": "left"
          },
          "hovermode": "closest",
          "mapbox": {
           "style": "light"
          },
          "paper_bgcolor": "white",
          "plot_bgcolor": "#E5ECF6",
          "polar": {
           "angularaxis": {
            "gridcolor": "white",
            "linecolor": "white",
            "ticks": ""
           },
           "bgcolor": "#E5ECF6",
           "radialaxis": {
            "gridcolor": "white",
            "linecolor": "white",
            "ticks": ""
           }
          },
          "scene": {
           "xaxis": {
            "backgroundcolor": "#E5ECF6",
            "gridcolor": "white",
            "gridwidth": 2,
            "linecolor": "white",
            "showbackground": true,
            "ticks": "",
            "zerolinecolor": "white"
           },
           "yaxis": {
            "backgroundcolor": "#E5ECF6",
            "gridcolor": "white",
            "gridwidth": 2,
            "linecolor": "white",
            "showbackground": true,
            "ticks": "",
            "zerolinecolor": "white"
           },
           "zaxis": {
            "backgroundcolor": "#E5ECF6",
            "gridcolor": "white",
            "gridwidth": 2,
            "linecolor": "white",
            "showbackground": true,
            "ticks": "",
            "zerolinecolor": "white"
           }
          },
          "shapedefaults": {
           "line": {
            "color": "#2a3f5f"
           }
          },
          "ternary": {
           "aaxis": {
            "gridcolor": "white",
            "linecolor": "white",
            "ticks": ""
           },
           "baxis": {
            "gridcolor": "white",
            "linecolor": "white",
            "ticks": ""
           },
           "bgcolor": "#E5ECF6",
           "caxis": {
            "gridcolor": "white",
            "linecolor": "white",
            "ticks": ""
           }
          },
          "title": {
           "x": 0.05
          },
          "xaxis": {
           "automargin": true,
           "gridcolor": "white",
           "linecolor": "white",
           "ticks": "",
           "title": {
            "standoff": 15
           },
           "zerolinecolor": "white",
           "zerolinewidth": 2
          },
          "yaxis": {
           "automargin": true,
           "gridcolor": "white",
           "linecolor": "white",
           "ticks": "",
           "title": {
            "standoff": 15
           },
           "zerolinecolor": "white",
           "zerolinewidth": 2
          }
         }
        },
        "title": {
         "text": "Distribution des années de sortie"
        },
        "xaxis": {
         "anchor": "y",
         "domain": [
          0,
          1
         ],
         "title": {
          "text": "Année de sortie"
         }
        },
        "yaxis": {
         "anchor": "x",
         "domain": [
          0,
          1
         ],
         "title": {
          "text": "count"
         }
        }
       }
      }
     },
     "metadata": {},
     "output_type": "display_data"
    },
    {
     "data": {
      "application/vnd.plotly.v1+json": {
       "config": {
        "plotlyServerURL": "https://plot.ly"
       },
       "data": [
        {
         "hovertemplate": "Année d'ajout=%{x}<br>Nombre de titres=%{y}<extra></extra>",
         "legendgroup": "",
         "marker": {
          "color": "#564D4D",
          "pattern": {
           "shape": ""
          }
         },
         "name": "",
         "orientation": "v",
         "showlegend": false,
         "textposition": "auto",
         "type": "bar",
         "x": {
          "bdata": "2AfZB9oH2wfcB90H3gffB+AH4QfiB+MH5AflBw==",
          "dtype": "i2"
         },
         "xaxis": "x",
         "y": {
          "bdata": "AgACAAEADQADAAsAGABSAK0BpARxBuAHVwfaBQ==",
          "dtype": "i2"
         },
         "yaxis": "y"
        }
       ],
       "layout": {
        "barmode": "relative",
        "legend": {
         "tracegroupgap": 0
        },
        "template": {
         "data": {
          "bar": [
           {
            "error_x": {
             "color": "#2a3f5f"
            },
            "error_y": {
             "color": "#2a3f5f"
            },
            "marker": {
             "line": {
              "color": "#E5ECF6",
              "width": 0.5
             },
             "pattern": {
              "fillmode": "overlay",
              "size": 10,
              "solidity": 0.2
             }
            },
            "type": "bar"
           }
          ],
          "barpolar": [
           {
            "marker": {
             "line": {
              "color": "#E5ECF6",
              "width": 0.5
             },
             "pattern": {
              "fillmode": "overlay",
              "size": 10,
              "solidity": 0.2
             }
            },
            "type": "barpolar"
           }
          ],
          "carpet": [
           {
            "aaxis": {
             "endlinecolor": "#2a3f5f",
             "gridcolor": "white",
             "linecolor": "white",
             "minorgridcolor": "white",
             "startlinecolor": "#2a3f5f"
            },
            "baxis": {
             "endlinecolor": "#2a3f5f",
             "gridcolor": "white",
             "linecolor": "white",
             "minorgridcolor": "white",
             "startlinecolor": "#2a3f5f"
            },
            "type": "carpet"
           }
          ],
          "choropleth": [
           {
            "colorbar": {
             "outlinewidth": 0,
             "ticks": ""
            },
            "type": "choropleth"
           }
          ],
          "contour": [
           {
            "colorbar": {
             "outlinewidth": 0,
             "ticks": ""
            },
            "colorscale": [
             [
              0,
              "#0d0887"
             ],
             [
              0.1111111111111111,
              "#46039f"
             ],
             [
              0.2222222222222222,
              "#7201a8"
             ],
             [
              0.3333333333333333,
              "#9c179e"
             ],
             [
              0.4444444444444444,
              "#bd3786"
             ],
             [
              0.5555555555555556,
              "#d8576b"
             ],
             [
              0.6666666666666666,
              "#ed7953"
             ],
             [
              0.7777777777777778,
              "#fb9f3a"
             ],
             [
              0.8888888888888888,
              "#fdca26"
             ],
             [
              1,
              "#f0f921"
             ]
            ],
            "type": "contour"
           }
          ],
          "contourcarpet": [
           {
            "colorbar": {
             "outlinewidth": 0,
             "ticks": ""
            },
            "type": "contourcarpet"
           }
          ],
          "heatmap": [
           {
            "colorbar": {
             "outlinewidth": 0,
             "ticks": ""
            },
            "colorscale": [
             [
              0,
              "#0d0887"
             ],
             [
              0.1111111111111111,
              "#46039f"
             ],
             [
              0.2222222222222222,
              "#7201a8"
             ],
             [
              0.3333333333333333,
              "#9c179e"
             ],
             [
              0.4444444444444444,
              "#bd3786"
             ],
             [
              0.5555555555555556,
              "#d8576b"
             ],
             [
              0.6666666666666666,
              "#ed7953"
             ],
             [
              0.7777777777777778,
              "#fb9f3a"
             ],
             [
              0.8888888888888888,
              "#fdca26"
             ],
             [
              1,
              "#f0f921"
             ]
            ],
            "type": "heatmap"
           }
          ],
          "histogram": [
           {
            "marker": {
             "pattern": {
              "fillmode": "overlay",
              "size": 10,
              "solidity": 0.2
             }
            },
            "type": "histogram"
           }
          ],
          "histogram2d": [
           {
            "colorbar": {
             "outlinewidth": 0,
             "ticks": ""
            },
            "colorscale": [
             [
              0,
              "#0d0887"
             ],
             [
              0.1111111111111111,
              "#46039f"
             ],
             [
              0.2222222222222222,
              "#7201a8"
             ],
             [
              0.3333333333333333,
              "#9c179e"
             ],
             [
              0.4444444444444444,
              "#bd3786"
             ],
             [
              0.5555555555555556,
              "#d8576b"
             ],
             [
              0.6666666666666666,
              "#ed7953"
             ],
             [
              0.7777777777777778,
              "#fb9f3a"
             ],
             [
              0.8888888888888888,
              "#fdca26"
             ],
             [
              1,
              "#f0f921"
             ]
            ],
            "type": "histogram2d"
           }
          ],
          "histogram2dcontour": [
           {
            "colorbar": {
             "outlinewidth": 0,
             "ticks": ""
            },
            "colorscale": [
             [
              0,
              "#0d0887"
             ],
             [
              0.1111111111111111,
              "#46039f"
             ],
             [
              0.2222222222222222,
              "#7201a8"
             ],
             [
              0.3333333333333333,
              "#9c179e"
             ],
             [
              0.4444444444444444,
              "#bd3786"
             ],
             [
              0.5555555555555556,
              "#d8576b"
             ],
             [
              0.6666666666666666,
              "#ed7953"
             ],
             [
              0.7777777777777778,
              "#fb9f3a"
             ],
             [
              0.8888888888888888,
              "#fdca26"
             ],
             [
              1,
              "#f0f921"
             ]
            ],
            "type": "histogram2dcontour"
           }
          ],
          "mesh3d": [
           {
            "colorbar": {
             "outlinewidth": 0,
             "ticks": ""
            },
            "type": "mesh3d"
           }
          ],
          "parcoords": [
           {
            "line": {
             "colorbar": {
              "outlinewidth": 0,
              "ticks": ""
             }
            },
            "type": "parcoords"
           }
          ],
          "pie": [
           {
            "automargin": true,
            "type": "pie"
           }
          ],
          "scatter": [
           {
            "fillpattern": {
             "fillmode": "overlay",
             "size": 10,
             "solidity": 0.2
            },
            "type": "scatter"
           }
          ],
          "scatter3d": [
           {
            "line": {
             "colorbar": {
              "outlinewidth": 0,
              "ticks": ""
             }
            },
            "marker": {
             "colorbar": {
              "outlinewidth": 0,
              "ticks": ""
             }
            },
            "type": "scatter3d"
           }
          ],
          "scattercarpet": [
           {
            "marker": {
             "colorbar": {
              "outlinewidth": 0,
              "ticks": ""
             }
            },
            "type": "scattercarpet"
           }
          ],
          "scattergeo": [
           {
            "marker": {
             "colorbar": {
              "outlinewidth": 0,
              "ticks": ""
             }
            },
            "type": "scattergeo"
           }
          ],
          "scattergl": [
           {
            "marker": {
             "colorbar": {
              "outlinewidth": 0,
              "ticks": ""
             }
            },
            "type": "scattergl"
           }
          ],
          "scattermap": [
           {
            "marker": {
             "colorbar": {
              "outlinewidth": 0,
              "ticks": ""
             }
            },
            "type": "scattermap"
           }
          ],
          "scattermapbox": [
           {
            "marker": {
             "colorbar": {
              "outlinewidth": 0,
              "ticks": ""
             }
            },
            "type": "scattermapbox"
           }
          ],
          "scatterpolar": [
           {
            "marker": {
             "colorbar": {
              "outlinewidth": 0,
              "ticks": ""
             }
            },
            "type": "scatterpolar"
           }
          ],
          "scatterpolargl": [
           {
            "marker": {
             "colorbar": {
              "outlinewidth": 0,
              "ticks": ""
             }
            },
            "type": "scatterpolargl"
           }
          ],
          "scatterternary": [
           {
            "marker": {
             "colorbar": {
              "outlinewidth": 0,
              "ticks": ""
             }
            },
            "type": "scatterternary"
           }
          ],
          "surface": [
           {
            "colorbar": {
             "outlinewidth": 0,
             "ticks": ""
            },
            "colorscale": [
             [
              0,
              "#0d0887"
             ],
             [
              0.1111111111111111,
              "#46039f"
             ],
             [
              0.2222222222222222,
              "#7201a8"
             ],
             [
              0.3333333333333333,
              "#9c179e"
             ],
             [
              0.4444444444444444,
              "#bd3786"
             ],
             [
              0.5555555555555556,
              "#d8576b"
             ],
             [
              0.6666666666666666,
              "#ed7953"
             ],
             [
              0.7777777777777778,
              "#fb9f3a"
             ],
             [
              0.8888888888888888,
              "#fdca26"
             ],
             [
              1,
              "#f0f921"
             ]
            ],
            "type": "surface"
           }
          ],
          "table": [
           {
            "cells": {
             "fill": {
              "color": "#EBF0F8"
             },
             "line": {
              "color": "white"
             }
            },
            "header": {
             "fill": {
              "color": "#C8D4E3"
             },
             "line": {
              "color": "white"
             }
            },
            "type": "table"
           }
          ]
         },
         "layout": {
          "annotationdefaults": {
           "arrowcolor": "#2a3f5f",
           "arrowhead": 0,
           "arrowwidth": 1
          },
          "autotypenumbers": "strict",
          "coloraxis": {
           "colorbar": {
            "outlinewidth": 0,
            "ticks": ""
           }
          },
          "colorscale": {
           "diverging": [
            [
             0,
             "#8e0152"
            ],
            [
             0.1,
             "#c51b7d"
            ],
            [
             0.2,
             "#de77ae"
            ],
            [
             0.3,
             "#f1b6da"
            ],
            [
             0.4,
             "#fde0ef"
            ],
            [
             0.5,
             "#f7f7f7"
            ],
            [
             0.6,
             "#e6f5d0"
            ],
            [
             0.7,
             "#b8e186"
            ],
            [
             0.8,
             "#7fbc41"
            ],
            [
             0.9,
             "#4d9221"
            ],
            [
             1,
             "#276419"
            ]
           ],
           "sequential": [
            [
             0,
             "#0d0887"
            ],
            [
             0.1111111111111111,
             "#46039f"
            ],
            [
             0.2222222222222222,
             "#7201a8"
            ],
            [
             0.3333333333333333,
             "#9c179e"
            ],
            [
             0.4444444444444444,
             "#bd3786"
            ],
            [
             0.5555555555555556,
             "#d8576b"
            ],
            [
             0.6666666666666666,
             "#ed7953"
            ],
            [
             0.7777777777777778,
             "#fb9f3a"
            ],
            [
             0.8888888888888888,
             "#fdca26"
            ],
            [
             1,
             "#f0f921"
            ]
           ],
           "sequentialminus": [
            [
             0,
             "#0d0887"
            ],
            [
             0.1111111111111111,
             "#46039f"
            ],
            [
             0.2222222222222222,
             "#7201a8"
            ],
            [
             0.3333333333333333,
             "#9c179e"
            ],
            [
             0.4444444444444444,
             "#bd3786"
            ],
            [
             0.5555555555555556,
             "#d8576b"
            ],
            [
             0.6666666666666666,
             "#ed7953"
            ],
            [
             0.7777777777777778,
             "#fb9f3a"
            ],
            [
             0.8888888888888888,
             "#fdca26"
            ],
            [
             1,
             "#f0f921"
            ]
           ]
          },
          "colorway": [
           "#636efa",
           "#EF553B",
           "#00cc96",
           "#ab63fa",
           "#FFA15A",
           "#19d3f3",
           "#FF6692",
           "#B6E880",
           "#FF97FF",
           "#FECB52"
          ],
          "font": {
           "color": "#2a3f5f"
          },
          "geo": {
           "bgcolor": "white",
           "lakecolor": "white",
           "landcolor": "#E5ECF6",
           "showlakes": true,
           "showland": true,
           "subunitcolor": "white"
          },
          "hoverlabel": {
           "align": "left"
          },
          "hovermode": "closest",
          "mapbox": {
           "style": "light"
          },
          "paper_bgcolor": "white",
          "plot_bgcolor": "#E5ECF6",
          "polar": {
           "angularaxis": {
            "gridcolor": "white",
            "linecolor": "white",
            "ticks": ""
           },
           "bgcolor": "#E5ECF6",
           "radialaxis": {
            "gridcolor": "white",
            "linecolor": "white",
            "ticks": ""
           }
          },
          "scene": {
           "xaxis": {
            "backgroundcolor": "#E5ECF6",
            "gridcolor": "white",
            "gridwidth": 2,
            "linecolor": "white",
            "showbackground": true,
            "ticks": "",
            "zerolinecolor": "white"
           },
           "yaxis": {
            "backgroundcolor": "#E5ECF6",
            "gridcolor": "white",
            "gridwidth": 2,
            "linecolor": "white",
            "showbackground": true,
            "ticks": "",
            "zerolinecolor": "white"
           },
           "zaxis": {
            "backgroundcolor": "#E5ECF6",
            "gridcolor": "white",
            "gridwidth": 2,
            "linecolor": "white",
            "showbackground": true,
            "ticks": "",
            "zerolinecolor": "white"
           }
          },
          "shapedefaults": {
           "line": {
            "color": "#2a3f5f"
           }
          },
          "ternary": {
           "aaxis": {
            "gridcolor": "white",
            "linecolor": "white",
            "ticks": ""
           },
           "baxis": {
            "gridcolor": "white",
            "linecolor": "white",
            "ticks": ""
           },
           "bgcolor": "#E5ECF6",
           "caxis": {
            "gridcolor": "white",
            "linecolor": "white",
            "ticks": ""
           }
          },
          "title": {
           "x": 0.05
          },
          "xaxis": {
           "automargin": true,
           "gridcolor": "white",
           "linecolor": "white",
           "ticks": "",
           "title": {
            "standoff": 15
           },
           "zerolinecolor": "white",
           "zerolinewidth": 2
          },
          "yaxis": {
           "automargin": true,
           "gridcolor": "white",
           "linecolor": "white",
           "ticks": "",
           "title": {
            "standoff": 15
           },
           "zerolinecolor": "white",
           "zerolinewidth": 2
          }
         }
        },
        "title": {
         "text": "Évolution des ajouts au catalogue Netflix par année"
        },
        "xaxis": {
         "anchor": "y",
         "domain": [
          0,
          1
         ],
         "title": {
          "text": "Année d'ajout"
         }
        },
        "yaxis": {
         "anchor": "x",
         "domain": [
          0,
          1
         ],
         "title": {
          "text": "Nombre de titres"
         }
        }
       }
      }
     },
     "metadata": {},
     "output_type": "display_data"
    }
   ],
   "source": [
    "# c. La répartition des années du dataset (avec Plotly)\n",
    "# Histogramme des années de sortie\n",
    "fig = px.histogram(df, x='release_year', nbins=30, \n",
    "                   title='Distribution des années de sortie',\n",
    "                   labels={'release_year': 'Année de sortie', 'count': 'Nombre de titres'},\n",
    "                   color_discrete_sequence=['#E50914'])  # Couleur Netflix\n",
    "fig.update_layout(bargap=0.1)\n",
    "fig.show()\n",
    "\n",
    "# Distribution des années d'ajout au catalogue\n",
    "df['year_added'] = df['date_added'].dt.year.astype('Int64')  # Conversion en entier\n",
    "year_added_counts = df['year_added'].value_counts().sort_index()\n",
    "\n",
    "fig = px.bar(x=year_added_counts.index, y=year_added_counts.values,\n",
    "            title='Évolution des ajouts au catalogue Netflix par année',\n",
    "            labels={'x': 'Année d\\'ajout', 'y': 'Nombre de titres'},\n",
    "            color_discrete_sequence=['#564D4D'])\n",
    "fig.show()"
   ]
  },
  {
   "cell_type": "markdown",
   "id": "62a9db2f",
   "metadata": {},
   "source": [
    "d. La répartition des ratings du dataset\n"
   ]
  },
  {
   "cell_type": "code",
   "execution_count": 52,
   "id": "ff0487bb",
   "metadata": {},
   "outputs": [
    {
     "data": {
      "image/png": "[encoded data removed]",
      "text/plain": [
       "<Figure size 1400x800 with 1 Axes>"
      ]
     },
     "metadata": {},
     "output_type": "display_data"
    }
   ],
   "source": [
    "# d. La répartition des ratings du dataset (avec Seaborn)\n",
    "plt.figure(figsize=(14, 8))\n",
    "rating_counts = df['rating'].value_counts()\n",
    "sns.barplot(x=rating_counts.index, y=rating_counts.values, palette='rocket')\n",
    "plt.title('Répartition des classifications (ratings)', fontsize=14)\n",
    "plt.xlabel('Classification')\n",
    "plt.ylabel('Nombre de titres')\n",
    "plt.xticks(rotation=45)\n",
    "plt.grid(axis='y', linestyle='--', alpha=0.7)\n",
    "plt.tight_layout()\n",
    "plt.show()"
   ]
  },
  {
   "cell_type": "markdown",
   "id": "c36a9c69",
   "metadata": {},
   "source": [
    "e. La répartition de la durée des films du dataset"
   ]
  },
  {
   "cell_type": "code",
   "execution_count": 53,
   "id": "00109505",
   "metadata": {},
   "outputs": [
    {
     "data": {
      "image/png": "[encoded data removed]",
      "text/plain": [
       "<Figure size 1200x600 with 1 Axes>"
      ]
     },
     "metadata": {},
     "output_type": "display_data"
    }
   ],
   "source": [
    "# e. La répartition de la durée des films (avec Matplotlib)\n",
    "films = df[df['type'] == 'Movie'].copy()\n",
    "plt.figure(figsize=(12, 6))\n",
    "plt.hist(films['duration_value'], bins=20, color='#E50914', alpha=0.7, edgecolor='black')\n",
    "plt.title('Distribution de la durée des films sur Netflix', fontsize=14)\n",
    "plt.xlabel('Durée (minutes)')\n",
    "plt.ylabel('Nombre de films')\n",
    "plt.grid(axis='y', linestyle='--', alpha=0.7)\n",
    "plt.xlim(0, 250)  # Limiter l'axe x pour une meilleure visualisation\n",
    "plt.tight_layout()\n",
    "plt.show()"
   ]
  },
  {
   "cell_type": "markdown",
   "id": "bbab04a8",
   "metadata": {},
   "source": [
    "f. La répartition de la durée des séries du dataset"
   ]
  },
  {
   "cell_type": "code",
   "execution_count": 54,
   "id": "564c09e3",
   "metadata": {},
   "outputs": [
    {
     "data": {
      "application/vnd.plotly.v1+json": {
       "config": {
        "plotlyServerURL": "https://plot.ly"
       },
       "data": [
        {
         "hovertemplate": "Nombre de saisons=%{x}<br>Nombre de séries=%{y}<extra></extra>",
         "legendgroup": "",
         "marker": {
          "color": "#564D4D",
          "pattern": {
           "shape": ""
          }
         },
         "name": "",
         "orientation": "v",
         "showlegend": false,
         "textposition": "auto",
         "type": "bar",
         "x": {
          "bdata": "AAAAAAAA8D8AAAAAAAAAQAAAAAAAAAhAAAAAAAAAEEAAAAAAAAAUQAAAAAAAABhAAAAAAAAAHEAAAAAAAAAgQAAAAAAAACJAAAAAAAAAJEAAAAAAAAAmQAAAAAAAAChAAAAAAAAAKkAAAAAAAAAuQAAAAAAAADFA",
          "dtype": "f8"
         },
         "xaxis": "x",
         "y": {
          "bdata": "AQepAccAXwBBACEAFwARAAkABwACAAIAAwACAAEA",
          "dtype": "i2"
         },
         "yaxis": "y"
        }
       ],
       "layout": {
        "barmode": "relative",
        "legend": {
         "tracegroupgap": 0
        },
        "template": {
         "data": {
          "bar": [
           {
            "error_x": {
             "color": "#2a3f5f"
            },
            "error_y": {
             "color": "#2a3f5f"
            },
            "marker": {
             "line": {
              "color": "#E5ECF6",
              "width": 0.5
             },
             "pattern": {
              "fillmode": "overlay",
              "size": 10,
              "solidity": 0.2
             }
            },
            "type": "bar"
           }
          ],
          "barpolar": [
           {
            "marker": {
             "line": {
              "color": "#E5ECF6",
              "width": 0.5
             },
             "pattern": {
              "fillmode": "overlay",
              "size": 10,
              "solidity": 0.2
             }
            },
            "type": "barpolar"
           }
          ],
          "carpet": [
           {
            "aaxis": {
             "endlinecolor": "#2a3f5f",
             "gridcolor": "white",
             "linecolor": "white",
             "minorgridcolor": "white",
             "startlinecolor": "#2a3f5f"
            },
            "baxis": {
             "endlinecolor": "#2a3f5f",
             "gridcolor": "white",
             "linecolor": "white",
             "minorgridcolor": "white",
             "startlinecolor": "#2a3f5f"
            },
            "type": "carpet"
           }
          ],
          "choropleth": [
           {
            "colorbar": {
             "outlinewidth": 0,
             "ticks": ""
            },
            "type": "choropleth"
           }
          ],
          "contour": [
           {
            "colorbar": {
             "outlinewidth": 0,
             "ticks": ""
            },
            "colorscale": [
             [
              0,
              "#0d0887"
             ],
             [
              0.1111111111111111,
              "#46039f"
             ],
             [
              0.2222222222222222,
              "#7201a8"
             ],
             [
              0.3333333333333333,
              "#9c179e"
             ],
             [
              0.4444444444444444,
              "#bd3786"
             ],
             [
              0.5555555555555556,
              "#d8576b"
             ],
             [
              0.6666666666666666,
              "#ed7953"
             ],
             [
              0.7777777777777778,
              "#fb9f3a"
             ],
             [
              0.8888888888888888,
              "#fdca26"
             ],
             [
              1,
              "#f0f921"
             ]
            ],
            "type": "contour"
           }
          ],
          "contourcarpet": [
           {
            "colorbar": {
             "outlinewidth": 0,
             "ticks": ""
            },
            "type": "contourcarpet"
           }
          ],
          "heatmap": [
           {
            "colorbar": {
             "outlinewidth": 0,
             "ticks": ""
            },
            "colorscale": [
             [
              0,
              "#0d0887"
             ],
             [
              0.1111111111111111,
              "#46039f"
             ],
             [
              0.2222222222222222,
              "#7201a8"
             ],
             [
              0.3333333333333333,
              "#9c179e"
             ],
             [
              0.4444444444444444,
              "#bd3786"
             ],
             [
              0.5555555555555556,
              "#d8576b"
             ],
             [
              0.6666666666666666,
              "#ed7953"
             ],
             [
              0.7777777777777778,
              "#fb9f3a"
             ],
             [
              0.8888888888888888,
              "#fdca26"
             ],
             [
              1,
              "#f0f921"
             ]
            ],
            "type": "heatmap"
           }
          ],
          "histogram": [
           {
            "marker": {
             "pattern": {
              "fillmode": "overlay",
              "size": 10,
              "solidity": 0.2
             }
            },
            "type": "histogram"
           }
          ],
          "histogram2d": [
           {
            "colorbar": {
             "outlinewidth": 0,
             "ticks": ""
            },
            "colorscale": [
             [
              0,
              "#0d0887"
             ],
             [
              0.1111111111111111,
              "#46039f"
             ],
             [
              0.2222222222222222,
              "#7201a8"
             ],
             [
              0.3333333333333333,
              "#9c179e"
             ],
             [
              0.4444444444444444,
              "#bd3786"
             ],
             [
              0.5555555555555556,
              "#d8576b"
             ],
             [
              0.6666666666666666,
              "#ed7953"
             ],
             [
              0.7777777777777778,
              "#fb9f3a"
             ],
             [
              0.8888888888888888,
              "#fdca26"
             ],
             [
              1,
              "#f0f921"
             ]
            ],
            "type": "histogram2d"
           }
          ],
          "histogram2dcontour": [
           {
            "colorbar": {
             "outlinewidth": 0,
             "ticks": ""
            },
            "colorscale": [
             [
              0,
              "#0d0887"
             ],
             [
              0.1111111111111111,
              "#46039f"
             ],
             [
              0.2222222222222222,
              "#7201a8"
             ],
             [
              0.3333333333333333,
              "#9c179e"
             ],
             [
              0.4444444444444444,
              "#bd3786"
             ],
             [
              0.5555555555555556,
              "#d8576b"
             ],
             [
              0.6666666666666666,
              "#ed7953"
             ],
             [
              0.7777777777777778,
              "#fb9f3a"
             ],
             [
              0.8888888888888888,
              "#fdca26"
             ],
             [
              1,
              "#f0f921"
             ]
            ],
            "type": "histogram2dcontour"
           }
          ],
          "mesh3d": [
           {
            "colorbar": {
             "outlinewidth": 0,
             "ticks": ""
            },
            "type": "mesh3d"
           }
          ],
          "parcoords": [
           {
            "line": {
             "colorbar": {
              "outlinewidth": 0,
              "ticks": ""
             }
            },
            "type": "parcoords"
           }
          ],
          "pie": [
           {
            "automargin": true,
            "type": "pie"
           }
          ],
          "scatter": [
           {
            "fillpattern": {
             "fillmode": "overlay",
             "size": 10,
             "solidity": 0.2
            },
            "type": "scatter"
           }
          ],
          "scatter3d": [
           {
            "line": {
             "colorbar": {
              "outlinewidth": 0,
              "ticks": ""
             }
            },
            "marker": {
             "colorbar": {
              "outlinewidth": 0,
              "ticks": ""
             }
            },
            "type": "scatter3d"
           }
          ],
          "scattercarpet": [
           {
            "marker": {
             "colorbar": {
              "outlinewidth": 0,
              "ticks": ""
             }
            },
            "type": "scattercarpet"
           }
          ],
          "scattergeo": [
           {
            "marker": {
             "colorbar": {
              "outlinewidth": 0,
              "ticks": ""
             }
            },
            "type": "scattergeo"
           }
          ],
          "scattergl": [
           {
            "marker": {
             "colorbar": {
              "outlinewidth": 0,
              "ticks": ""
             }
            },
            "type": "scattergl"
           }
          ],
          "scattermap": [
           {
            "marker": {
             "colorbar": {
              "outlinewidth": 0,
              "ticks": ""
             }
            },
            "type": "scattermap"
           }
          ],
          "scattermapbox": [
           {
            "marker": {
             "colorbar": {
              "outlinewidth": 0,
              "ticks": ""
             }
            },
            "type": "scattermapbox"
           }
          ],
          "scatterpolar": [
           {
            "marker": {
             "colorbar": {
              "outlinewidth": 0,
              "ticks": ""
             }
            },
            "type": "scatterpolar"
           }
          ],
          "scatterpolargl": [
           {
            "marker": {
             "colorbar": {
              "outlinewidth": 0,
              "ticks": ""
             }
            },
            "type": "scatterpolargl"
           }
          ],
          "scatterternary": [
           {
            "marker": {
             "colorbar": {
              "outlinewidth": 0,
              "ticks": ""
             }
            },
            "type": "scatterternary"
           }
          ],
          "surface": [
           {
            "colorbar": {
             "outlinewidth": 0,
             "ticks": ""
            },
            "colorscale": [
             [
              0,
              "#0d0887"
             ],
             [
              0.1111111111111111,
              "#46039f"
             ],
             [
              0.2222222222222222,
              "#7201a8"
             ],
             [
              0.3333333333333333,
              "#9c179e"
             ],
             [
              0.4444444444444444,
              "#bd3786"
             ],
             [
              0.5555555555555556,
              "#d8576b"
             ],
             [
              0.6666666666666666,
              "#ed7953"
             ],
             [
              0.7777777777777778,
              "#fb9f3a"
             ],
             [
              0.8888888888888888,
              "#fdca26"
             ],
             [
              1,
              "#f0f921"
             ]
            ],
            "type": "surface"
           }
          ],
          "table": [
           {
            "cells": {
             "fill": {
              "color": "#EBF0F8"
             },
             "line": {
              "color": "white"
             }
            },
            "header": {
             "fill": {
              "color": "#C8D4E3"
             },
             "line": {
              "color": "white"
             }
            },
            "type": "table"
           }
          ]
         },
         "layout": {
          "annotationdefaults": {
           "arrowcolor": "#2a3f5f",
           "arrowhead": 0,
           "arrowwidth": 1
          },
          "autotypenumbers": "strict",
          "coloraxis": {
           "colorbar": {
            "outlinewidth": 0,
            "ticks": ""
           }
          },
          "colorscale": {
           "diverging": [
            [
             0,
             "#8e0152"
            ],
            [
             0.1,
             "#c51b7d"
            ],
            [
             0.2,
             "#de77ae"
            ],
            [
             0.3,
             "#f1b6da"
            ],
            [
             0.4,
             "#fde0ef"
            ],
            [
             0.5,
             "#f7f7f7"
            ],
            [
             0.6,
             "#e6f5d0"
            ],
            [
             0.7,
             "#b8e186"
            ],
            [
             0.8,
             "#7fbc41"
            ],
            [
             0.9,
             "#4d9221"
            ],
            [
             1,
             "#276419"
            ]
           ],
           "sequential": [
            [
             0,
             "#0d0887"
            ],
            [
             0.1111111111111111,
             "#46039f"
            ],
            [
             0.2222222222222222,
             "#7201a8"
            ],
            [
             0.3333333333333333,
             "#9c179e"
            ],
            [
             0.4444444444444444,
             "#bd3786"
            ],
            [
             0.5555555555555556,
             "#d8576b"
            ],
            [
             0.6666666666666666,
             "#ed7953"
            ],
            [
             0.7777777777777778,
             "#fb9f3a"
            ],
            [
             0.8888888888888888,
             "#fdca26"
            ],
            [
             1,
             "#f0f921"
            ]
           ],
           "sequentialminus": [
            [
             0,
             "#0d0887"
            ],
            [
             0.1111111111111111,
             "#46039f"
            ],
            [
             0.2222222222222222,
             "#7201a8"
            ],
            [
             0.3333333333333333,
             "#9c179e"
            ],
            [
             0.4444444444444444,
             "#bd3786"
            ],
            [
             0.5555555555555556,
             "#d8576b"
            ],
            [
             0.6666666666666666,
             "#ed7953"
            ],
            [
             0.7777777777777778,
             "#fb9f3a"
            ],
            [
             0.8888888888888888,
             "#fdca26"
            ],
            [
             1,
             "#f0f921"
            ]
           ]
          },
          "colorway": [
           "#636efa",
           "#EF553B",
           "#00cc96",
           "#ab63fa",
           "#FFA15A",
           "#19d3f3",
           "#FF6692",
           "#B6E880",
           "#FF97FF",
           "#FECB52"
          ],
          "font": {
           "color": "#2a3f5f"
          },
          "geo": {
           "bgcolor": "white",
           "lakecolor": "white",
           "landcolor": "#E5ECF6",
           "showlakes": true,
           "showland": true,
           "subunitcolor": "white"
          },
          "hoverlabel": {
           "align": "left"
          },
          "hovermode": "closest",
          "mapbox": {
           "style": "light"
          },
          "paper_bgcolor": "white",
          "plot_bgcolor": "#E5ECF6",
          "polar": {
           "angularaxis": {
            "gridcolor": "white",
            "linecolor": "white",
            "ticks": ""
           },
           "bgcolor": "#E5ECF6",
           "radialaxis": {
            "gridcolor": "white",
            "linecolor": "white",
            "ticks": ""
           }
          },
          "scene": {
           "xaxis": {
            "backgroundcolor": "#E5ECF6",
            "gridcolor": "white",
            "gridwidth": 2,
            "linecolor": "white",
            "showbackground": true,
            "ticks": "",
            "zerolinecolor": "white"
           },
           "yaxis": {
            "backgroundcolor": "#E5ECF6",
            "gridcolor": "white",
            "gridwidth": 2,
            "linecolor": "white",
            "showbackground": true,
            "ticks": "",
            "zerolinecolor": "white"
           },
           "zaxis": {
            "backgroundcolor": "#E5ECF6",
            "gridcolor": "white",
            "gridwidth": 2,
            "linecolor": "white",
            "showbackground": true,
            "ticks": "",
            "zerolinecolor": "white"
           }
          },
          "shapedefaults": {
           "line": {
            "color": "#2a3f5f"
           }
          },
          "ternary": {
           "aaxis": {
            "gridcolor": "white",
            "linecolor": "white",
            "ticks": ""
           },
           "baxis": {
            "gridcolor": "white",
            "linecolor": "white",
            "ticks": ""
           },
           "bgcolor": "#E5ECF6",
           "caxis": {
            "gridcolor": "white",
            "linecolor": "white",
            "ticks": ""
           }
          },
          "title": {
           "x": 0.05
          },
          "xaxis": {
           "automargin": true,
           "gridcolor": "white",
           "linecolor": "white",
           "ticks": "",
           "title": {
            "standoff": 15
           },
           "zerolinecolor": "white",
           "zerolinewidth": 2
          },
          "yaxis": {
           "automargin": true,
           "gridcolor": "white",
           "linecolor": "white",
           "ticks": "",
           "title": {
            "standoff": 15
           },
           "zerolinecolor": "white",
           "zerolinewidth": 2
          }
         }
        },
        "title": {
         "text": "Distribution du nombre de saisons des séries Netflix"
        },
        "xaxis": {
         "anchor": "y",
         "domain": [
          0,
          1
         ],
         "tickmode": "linear",
         "title": {
          "text": "Nombre de saisons"
         }
        },
        "yaxis": {
         "anchor": "x",
         "domain": [
          0,
          1
         ],
         "title": {
          "text": "Nombre de séries"
         }
        }
       }
      }
     },
     "metadata": {},
     "output_type": "display_data"
    }
   ],
   "source": [
    "# f. La répartition de la durée des séries (avec Plotly)\n",
    "series = df[df['type'] == 'TV Show'].copy()\n",
    "season_counts = series['duration_value'].value_counts().sort_index()\n",
    "\n",
    "fig = px.bar(x=season_counts.index, y=season_counts.values,\n",
    "            title='Distribution du nombre de saisons des séries Netflix',\n",
    "            labels={'x': 'Nombre de saisons', 'y': 'Nombre de séries'},\n",
    "            color_discrete_sequence=['#564D4D'])\n",
    "fig.update_layout(xaxis=dict(tickmode='linear'))\n",
    "fig.show()"
   ]
  },
  {
   "cell_type": "markdown",
   "id": "8368444b",
   "metadata": {},
   "source": [
    "g. La répartition des genres d'œuvres du dataset"
   ]
  },
  {
   "cell_type": "code",
   "execution_count": 55,
   "id": "34c297f8",
   "metadata": {},
   "outputs": [
    {
     "data": {
      "image/png": "[encoded data removed]",
      "text/plain": [
       "<Figure size 1400x1000 with 1 Axes>"
      ]
     },
     "metadata": {},
     "output_type": "display_data"
    }
   ],
   "source": [
    "# g. La répartition des genres d'œuvres (avec Seaborn)\n",
    "# Utiliser la colonne listed_in_list créée précédemment\n",
    "genres_expanded = df['listed_in_list'].explode()\n",
    "top_genres = genres_expanded.value_counts().head(15)\n",
    "\n",
    "plt.figure(figsize=(14, 10))\n",
    "ax = sns.barplot(x=top_genres.values, y=top_genres.index, palette='viridis')\n",
    "plt.title('Top 15 des genres sur Netflix', fontsize=16, fontweight='bold')\n",
    "plt.xlabel('Nombre de titres', fontsize=12)\n",
    "plt.ylabel('Genre', fontsize=12)\n",
    "\n",
    "# Ajouter les valeurs sur les barres\n",
    "for i, v in enumerate(top_genres.values):\n",
    "    ax.text(v + 3, i, str(v), va='center', fontweight='bold')\n",
    "\n",
    "plt.tight_layout()\n",
    "plt.show()"
   ]
  },
  {
   "cell_type": "markdown",
   "id": "71c2d234",
   "metadata": {},
   "source": [
    "h. Le top 5 des séries les plus longues"
   ]
  },
  {
   "cell_type": "code",
   "execution_count": 56,
   "id": "e8e5122c",
   "metadata": {},
   "outputs": [
    {
     "data": {
      "application/vnd.plotly.v1+json": {
       "config": {
        "plotlyServerURL": "https://plot.ly"
       },
       "data": [
        {
         "hovertemplate": "Nombre de saisons=%{marker.color}<br>Titre=%{y}<extra></extra>",
         "legendgroup": "",
         "marker": {
          "color": {
           "bdata": "AAAAAAAAMUAAAAAAAAAuQAAAAAAAAC5AAAAAAAAAKkAAAAAAAAAqQA==",
           "dtype": "f8"
          },
          "coloraxis": "coloraxis",
          "line": {
           "width": 1.5
          },
          "pattern": {
           "shape": ""
          }
         },
         "name": "",
         "opacity": 0.8,
         "orientation": "h",
         "showlegend": false,
         "textposition": "auto",
         "type": "bar",
         "x": {
          "bdata": "AAAAAAAAMUAAAAAAAAAuQAAAAAAAAC5AAAAAAAAAKkAAAAAAAAAqQA==",
          "dtype": "f8"
         },
         "xaxis": "x",
         "y": [
          "Grey's Anatomy",
          "Supernatural",
          "NCIS",
          "Red vs. Blue",
          "COMEDIANS of the world"
         ],
         "yaxis": "y"
        }
       ],
       "layout": {
        "barmode": "relative",
        "coloraxis": {
         "colorbar": {
          "title": {
           "text": "Nombre de saisons"
          }
         },
         "colorscale": [
          [
           0,
           "#440154"
          ],
          [
           0.1111111111111111,
           "#482878"
          ],
          [
           0.2222222222222222,
           "#3e4989"
          ],
          [
           0.3333333333333333,
           "#31688e"
          ],
          [
           0.4444444444444444,
           "#26828e"
          ],
          [
           0.5555555555555556,
           "#1f9e89"
          ],
          [
           0.6666666666666666,
           "#35b779"
          ],
          [
           0.7777777777777778,
           "#6ece58"
          ],
          [
           0.8888888888888888,
           "#b5de2b"
          ],
          [
           1,
           "#fde725"
          ]
         ]
        },
        "height": 500,
        "legend": {
         "tracegroupgap": 0
        },
        "template": {
         "data": {
          "bar": [
           {
            "error_x": {
             "color": "#2a3f5f"
            },
            "error_y": {
             "color": "#2a3f5f"
            },
            "marker": {
             "line": {
              "color": "#E5ECF6",
              "width": 0.5
             },
             "pattern": {
              "fillmode": "overlay",
              "size": 10,
              "solidity": 0.2
             }
            },
            "type": "bar"
           }
          ],
          "barpolar": [
           {
            "marker": {
             "line": {
              "color": "#E5ECF6",
              "width": 0.5
             },
             "pattern": {
              "fillmode": "overlay",
              "size": 10,
              "solidity": 0.2
             }
            },
            "type": "barpolar"
           }
          ],
          "carpet": [
           {
            "aaxis": {
             "endlinecolor": "#2a3f5f",
             "gridcolor": "white",
             "linecolor": "white",
             "minorgridcolor": "white",
             "startlinecolor": "#2a3f5f"
            },
            "baxis": {
             "endlinecolor": "#2a3f5f",
             "gridcolor": "white",
             "linecolor": "white",
             "minorgridcolor": "white",
             "startlinecolor": "#2a3f5f"
            },
            "type": "carpet"
           }
          ],
          "choropleth": [
           {
            "colorbar": {
             "outlinewidth": 0,
             "ticks": ""
            },
            "type": "choropleth"
           }
          ],
          "contour": [
           {
            "colorbar": {
             "outlinewidth": 0,
             "ticks": ""
            },
            "colorscale": [
             [
              0,
              "#0d0887"
             ],
             [
              0.1111111111111111,
              "#46039f"
             ],
             [
              0.2222222222222222,
              "#7201a8"
             ],
             [
              0.3333333333333333,
              "#9c179e"
             ],
             [
              0.4444444444444444,
              "#bd3786"
             ],
             [
              0.5555555555555556,
              "#d8576b"
             ],
             [
              0.6666666666666666,
              "#ed7953"
             ],
             [
              0.7777777777777778,
              "#fb9f3a"
             ],
             [
              0.8888888888888888,
              "#fdca26"
             ],
             [
              1,
              "#f0f921"
             ]
            ],
            "type": "contour"
           }
          ],
          "contourcarpet": [
           {
            "colorbar": {
             "outlinewidth": 0,
             "ticks": ""
            },
            "type": "contourcarpet"
           }
          ],
          "heatmap": [
           {
            "colorbar": {
             "outlinewidth": 0,
             "ticks": ""
            },
            "colorscale": [
             [
              0,
              "#0d0887"
             ],
             [
              0.1111111111111111,
              "#46039f"
             ],
             [
              0.2222222222222222,
              "#7201a8"
             ],
             [
              0.3333333333333333,
              "#9c179e"
             ],
             [
              0.4444444444444444,
              "#bd3786"
             ],
             [
              0.5555555555555556,
              "#d8576b"
             ],
             [
              0.6666666666666666,
              "#ed7953"
             ],
             [
              0.7777777777777778,
              "#fb9f3a"
             ],
             [
              0.8888888888888888,
              "#fdca26"
             ],
             [
              1,
              "#f0f921"
             ]
            ],
            "type": "heatmap"
           }
          ],
          "histogram": [
           {
            "marker": {
             "pattern": {
              "fillmode": "overlay",
              "size": 10,
              "solidity": 0.2
             }
            },
            "type": "histogram"
           }
          ],
          "histogram2d": [
           {
            "colorbar": {
             "outlinewidth": 0,
             "ticks": ""
            },
            "colorscale": [
             [
              0,
              "#0d0887"
             ],
             [
              0.1111111111111111,
              "#46039f"
             ],
             [
              0.2222222222222222,
              "#7201a8"
             ],
             [
              0.3333333333333333,
              "#9c179e"
             ],
             [
              0.4444444444444444,
              "#bd3786"
             ],
             [
              0.5555555555555556,
              "#d8576b"
             ],
             [
              0.6666666666666666,
              "#ed7953"
             ],
             [
              0.7777777777777778,
              "#fb9f3a"
             ],
             [
              0.8888888888888888,
              "#fdca26"
             ],
             [
              1,
              "#f0f921"
             ]
            ],
            "type": "histogram2d"
           }
          ],
          "histogram2dcontour": [
           {
            "colorbar": {
             "outlinewidth": 0,
             "ticks": ""
            },
            "colorscale": [
             [
              0,
              "#0d0887"
             ],
             [
              0.1111111111111111,
              "#46039f"
             ],
             [
              0.2222222222222222,
              "#7201a8"
             ],
             [
              0.3333333333333333,
              "#9c179e"
             ],
             [
              0.4444444444444444,
              "#bd3786"
             ],
             [
              0.5555555555555556,
              "#d8576b"
             ],
             [
              0.6666666666666666,
              "#ed7953"
             ],
             [
              0.7777777777777778,
              "#fb9f3a"
             ],
             [
              0.8888888888888888,
              "#fdca26"
             ],
             [
              1,
              "#f0f921"
             ]
            ],
            "type": "histogram2dcontour"
           }
          ],
          "mesh3d": [
           {
            "colorbar": {
             "outlinewidth": 0,
             "ticks": ""
            },
            "type": "mesh3d"
           }
          ],
          "parcoords": [
           {
            "line": {
             "colorbar": {
              "outlinewidth": 0,
              "ticks": ""
             }
            },
            "type": "parcoords"
           }
          ],
          "pie": [
           {
            "automargin": true,
            "type": "pie"
           }
          ],
          "scatter": [
           {
            "fillpattern": {
             "fillmode": "overlay",
             "size": 10,
             "solidity": 0.2
            },
            "type": "scatter"
           }
          ],
          "scatter3d": [
           {
            "line": {
             "colorbar": {
              "outlinewidth": 0,
              "ticks": ""
             }
            },
            "marker": {
             "colorbar": {
              "outlinewidth": 0,
              "ticks": ""
             }
            },
            "type": "scatter3d"
           }
          ],
          "scattercarpet": [
           {
            "marker": {
             "colorbar": {
              "outlinewidth": 0,
              "ticks": ""
             }
            },
            "type": "scattercarpet"
           }
          ],
          "scattergeo": [
           {
            "marker": {
             "colorbar": {
              "outlinewidth": 0,
              "ticks": ""
             }
            },
            "type": "scattergeo"
           }
          ],
          "scattergl": [
           {
            "marker": {
             "colorbar": {
              "outlinewidth": 0,
              "ticks": ""
             }
            },
            "type": "scattergl"
           }
          ],
          "scattermap": [
           {
            "marker": {
             "colorbar": {
              "outlinewidth": 0,
              "ticks": ""
             }
            },
            "type": "scattermap"
           }
          ],
          "scattermapbox": [
           {
            "marker": {
             "colorbar": {
              "outlinewidth": 0,
              "ticks": ""
             }
            },
            "type": "scattermapbox"
           }
          ],
          "scatterpolar": [
           {
            "marker": {
             "colorbar": {
              "outlinewidth": 0,
              "ticks": ""
             }
            },
            "type": "scatterpolar"
           }
          ],
          "scatterpolargl": [
           {
            "marker": {
             "colorbar": {
              "outlinewidth": 0,
              "ticks": ""
             }
            },
            "type": "scatterpolargl"
           }
          ],
          "scatterternary": [
           {
            "marker": {
             "colorbar": {
              "outlinewidth": 0,
              "ticks": ""
             }
            },
            "type": "scatterternary"
           }
          ],
          "surface": [
           {
            "colorbar": {
             "outlinewidth": 0,
             "ticks": ""
            },
            "colorscale": [
             [
              0,
              "#0d0887"
             ],
             [
              0.1111111111111111,
              "#46039f"
             ],
             [
              0.2222222222222222,
              "#7201a8"
             ],
             [
              0.3333333333333333,
              "#9c179e"
             ],
             [
              0.4444444444444444,
              "#bd3786"
             ],
             [
              0.5555555555555556,
              "#d8576b"
             ],
             [
              0.6666666666666666,
              "#ed7953"
             ],
             [
              0.7777777777777778,
              "#fb9f3a"
             ],
             [
              0.8888888888888888,
              "#fdca26"
             ],
             [
              1,
              "#f0f921"
             ]
            ],
            "type": "surface"
           }
          ],
          "table": [
           {
            "cells": {
             "fill": {
              "color": "#EBF0F8"
             },
             "line": {
              "color": "white"
             }
            },
            "header": {
             "fill": {
              "color": "#C8D4E3"
             },
             "line": {
              "color": "white"
             }
            },
            "type": "table"
           }
          ]
         },
         "layout": {
          "annotationdefaults": {
           "arrowcolor": "#2a3f5f",
           "arrowhead": 0,
           "arrowwidth": 1
          },
          "autotypenumbers": "strict",
          "coloraxis": {
           "colorbar": {
            "outlinewidth": 0,
            "ticks": ""
           }
          },
          "colorscale": {
           "diverging": [
            [
             0,
             "#8e0152"
            ],
            [
             0.1,
             "#c51b7d"
            ],
            [
             0.2,
             "#de77ae"
            ],
            [
             0.3,
             "#f1b6da"
            ],
            [
             0.4,
             "#fde0ef"
            ],
            [
             0.5,
             "#f7f7f7"
            ],
            [
             0.6,
             "#e6f5d0"
            ],
            [
             0.7,
             "#b8e186"
            ],
            [
             0.8,
             "#7fbc41"
            ],
            [
             0.9,
             "#4d9221"
            ],
            [
             1,
             "#276419"
            ]
           ],
           "sequential": [
            [
             0,
             "#0d0887"
            ],
            [
             0.1111111111111111,
             "#46039f"
            ],
            [
             0.2222222222222222,
             "#7201a8"
            ],
            [
             0.3333333333333333,
             "#9c179e"
            ],
            [
             0.4444444444444444,
             "#bd3786"
            ],
            [
             0.5555555555555556,
             "#d8576b"
            ],
            [
             0.6666666666666666,
             "#ed7953"
            ],
            [
             0.7777777777777778,
             "#fb9f3a"
            ],
            [
             0.8888888888888888,
             "#fdca26"
            ],
            [
             1,
             "#f0f921"
            ]
           ],
           "sequentialminus": [
            [
             0,
             "#0d0887"
            ],
            [
             0.1111111111111111,
             "#46039f"
            ],
            [
             0.2222222222222222,
             "#7201a8"
            ],
            [
             0.3333333333333333,
             "#9c179e"
            ],
            [
             0.4444444444444444,
             "#bd3786"
            ],
            [
             0.5555555555555556,
             "#d8576b"
            ],
            [
             0.6666666666666666,
             "#ed7953"
            ],
            [
             0.7777777777777778,
             "#fb9f3a"
            ],
            [
             0.8888888888888888,
             "#fdca26"
            ],
            [
             1,
             "#f0f921"
            ]
           ]
          },
          "colorway": [
           "#636efa",
           "#EF553B",
           "#00cc96",
           "#ab63fa",
           "#FFA15A",
           "#19d3f3",
           "#FF6692",
           "#B6E880",
           "#FF97FF",
           "#FECB52"
          ],
          "font": {
           "color": "#2a3f5f"
          },
          "geo": {
           "bgcolor": "white",
           "lakecolor": "white",
           "landcolor": "#E5ECF6",
           "showlakes": true,
           "showland": true,
           "subunitcolor": "white"
          },
          "hoverlabel": {
           "align": "left"
          },
          "hovermode": "closest",
          "mapbox": {
           "style": "light"
          },
          "paper_bgcolor": "white",
          "plot_bgcolor": "#E5ECF6",
          "polar": {
           "angularaxis": {
            "gridcolor": "white",
            "linecolor": "white",
            "ticks": ""
           },
           "bgcolor": "#E5ECF6",
           "radialaxis": {
            "gridcolor": "white",
            "linecolor": "white",
            "ticks": ""
           }
          },
          "scene": {
           "xaxis": {
            "backgroundcolor": "#E5ECF6",
            "gridcolor": "white",
            "gridwidth": 2,
            "linecolor": "white",
            "showbackground": true,
            "ticks": "",
            "zerolinecolor": "white"
           },
           "yaxis": {
            "backgroundcolor": "#E5ECF6",
            "gridcolor": "white",
            "gridwidth": 2,
            "linecolor": "white",
            "showbackground": true,
            "ticks": "",
            "zerolinecolor": "white"
           },
           "zaxis": {
            "backgroundcolor": "#E5ECF6",
            "gridcolor": "white",
            "gridwidth": 2,
            "linecolor": "white",
            "showbackground": true,
            "ticks": "",
            "zerolinecolor": "white"
           }
          },
          "shapedefaults": {
           "line": {
            "color": "#2a3f5f"
           }
          },
          "ternary": {
           "aaxis": {
            "gridcolor": "white",
            "linecolor": "white",
            "ticks": ""
           },
           "baxis": {
            "gridcolor": "white",
            "linecolor": "white",
            "ticks": ""
           },
           "bgcolor": "#E5ECF6",
           "caxis": {
            "gridcolor": "white",
            "linecolor": "white",
            "ticks": ""
           }
          },
          "title": {
           "x": 0.05
          },
          "xaxis": {
           "automargin": true,
           "gridcolor": "white",
           "linecolor": "white",
           "ticks": "",
           "title": {
            "standoff": 15
           },
           "zerolinecolor": "white",
           "zerolinewidth": 2
          },
          "yaxis": {
           "automargin": true,
           "gridcolor": "white",
           "linecolor": "white",
           "ticks": "",
           "title": {
            "standoff": 15
           },
           "zerolinecolor": "white",
           "zerolinewidth": 2
          }
         }
        },
        "title": {
         "font": {
          "size": 16
         },
         "text": "Top 5 des séries avec le plus de saisons sur Netflix"
        },
        "xaxis": {
         "anchor": "y",
         "domain": [
          0,
          1
         ],
         "title": {
          "text": "Nombre de saisons"
         }
        },
        "yaxis": {
         "anchor": "x",
         "categoryorder": "total ascending",
         "domain": [
          0,
          1
         ],
         "title": {
          "text": ""
         }
        }
       }
      }
     },
     "metadata": {},
     "output_type": "display_data"
    }
   ],
   "source": [
    "# h. Le top 5 des séries les plus longues (avec Plotly)\n",
    "top_series = series.sort_values('duration_value', ascending=False).head(5)\n",
    "\n",
    "# Créer un graphique avec des barres horizontales et des couleurs dynamiques\n",
    "fig = px.bar(top_series, x='duration_value', y='title', \n",
    "             color='duration_value', color_continuous_scale='Viridis',\n",
    "             title='Top 5 des séries avec le plus de saisons sur Netflix',\n",
    "             labels={'duration_value': 'Nombre de saisons', 'title': 'Titre'},\n",
    "             orientation='h')  # Orientation horizontale\n",
    "\n",
    "# Personnaliser l'apparence\n",
    "fig.update_layout(\n",
    "    title_font_size=16,\n",
    "    yaxis_title='',\n",
    "    xaxis_title='Nombre de saisons',\n",
    "    height=500,\n",
    "    yaxis={'categoryorder':'total ascending'}\n",
    ")\n",
    "\n",
    "# Ajouter un gradient de couleur pour mettre en évidence le nombre de saisons\n",
    "fig.update_traces(marker_line_width=1.5, opacity=0.8)\n",
    "fig.show()"
   ]
  },
  {
   "cell_type": "markdown",
   "id": "02998850",
   "metadata": {},
   "source": [
    "i. Le top 5 des films les plus longs"
   ]
  },
  {
   "cell_type": "code",
   "execution_count": 57,
   "id": "d0a99279",
   "metadata": {},
   "outputs": [
    {
     "data": {
      "image/png": "[encoded data removed]",
      "text/plain": [
       "<Figure size 1200x700 with 1 Axes>"
      ]
     },
     "metadata": {},
     "output_type": "display_data"
    }
   ],
   "source": [
    "# i. Le top 5 des films les plus longs (avec Matplotlib et style personnalisé)\n",
    "top_films = films.sort_values('duration_value', ascending=False).head(5)\n",
    "\n",
    "# Définir une palette de couleurs dégradée\n",
    "colors = plt.cm.Reds(np.linspace(0.6, 1, len(top_films)))\n",
    "\n",
    "plt.figure(figsize=(12, 7))\n",
    "bars = plt.barh(top_films['title'], top_films['duration_value'], color=colors)\n",
    "plt.title('Top 5 des films les plus longs sur Netflix', fontsize=16, fontweight='bold')\n",
    "plt.xlabel('Durée (minutes)', fontsize=12)\n",
    "plt.grid(axis='x', linestyle='--', alpha=0.7)\n",
    "\n",
    "# Ajouter les durées à côté des barres\n",
    "for bar in bars:\n",
    "    width = bar.get_width()\n",
    "    plt.text(width + 5, bar.get_y() + bar.get_height()/2, \n",
    "             f'{int(width)} min', va='center', fontweight='bold')\n",
    "\n",
    "plt.tight_layout()\n",
    "plt.show()"
   ]
  },
  {
   "cell_type": "markdown",
   "id": "2ee0e2ba",
   "metadata": {},
   "source": [
    "j. La répartition des “directors” des œuvres françaises"
   ]
  },
  {
   "cell_type": "code",
   "execution_count": 58,
   "id": "7eced1b9",
   "metadata": {},
   "outputs": [
    {
     "data": {
      "image/png": "[encoded data removed]",
      "text/plain": [
       "<Figure size 1400x800 with 1 Axes>"
      ]
     },
     "metadata": {},
     "output_type": "display_data"
    }
   ],
   "source": [
    "# j. La répartition des \"directors\" des œuvres françaises (avec Seaborn)\n",
    "# Filtrer les œuvres françaises\n",
    "french_content = df[df['country_clean'].str.contains('France', na=False)]\n",
    "\n",
    "# Extraire et compter les réalisateurs (peut y en avoir plusieurs par œuvre)\n",
    "french_directors = french_content['director'].dropna().str.split(', ').explode()\n",
    "top_french_directors = french_directors.value_counts().head(10)\n",
    "\n",
    "plt.figure(figsize=(14, 8))\n",
    "ax = sns.barplot(x=top_french_directors.values, y=top_french_directors.index, palette='Reds_r')\n",
    "plt.title('Top 10 des réalisateurs français sur Netflix', fontsize=16, fontweight='bold')\n",
    "plt.xlabel('Nombre d\\'œuvres', fontsize=12)\n",
    "plt.ylabel('Réalisateur', fontsize=12)\n",
    "\n",
    "# Ajouter une touche française avec les couleurs du drapeau\n",
    "plt.axvline(x=top_french_directors.values.max()/3, color='#0055A4', alpha=0.3, linewidth=20)  # Bleu\n",
    "plt.axvline(x=2*top_french_directors.values.max()/3, color='#FFFFFF', alpha=0.3, linewidth=20)  # Blanc\n",
    "plt.axvline(x=top_french_directors.values.max(), color='#EF4135', alpha=0.3, linewidth=20)  # Rouge\n",
    "\n",
    "# Ajouter les valeurs sur les barres\n",
    "for i, v in enumerate(top_french_directors.values):\n",
    "    ax.text(v + 0.1, i, str(v), va='center', fontweight='bold')\n",
    "\n",
    "plt.tight_layout()\n",
    "plt.show()"
   ]
  },
  {
   "cell_type": "markdown",
   "id": "cf75f266",
   "metadata": {},
   "source": [
    "k. La répartition des œuvres en fonction de la date d’ajout au\n",
    "catalogue"
   ]
  },
  {
   "cell_type": "code",
   "execution_count": 59,
   "id": "35246ae1",
   "metadata": {},
   "outputs": [
    {
     "data": {
      "application/vnd.plotly.v1+json": {
       "config": {
        "plotlyServerURL": "https://plot.ly"
       },
       "data": [
        {
         "hovertemplate": "Date=%{x}<br>Nombre de titres ajoutés=%{y}<extra></extra>",
         "legendgroup": "",
         "line": {
          "color": "#636efa",
          "dash": "solid",
          "shape": "spline"
         },
         "marker": {
          "symbol": "circle"
         },
         "mode": "lines",
         "name": "",
         "orientation": "v",
         "showlegend": false,
         "type": "scatter",
         "x": [
          "2008-01-01T00:00:00.000000000",
          "2008-02-01T00:00:00.000000000",
          "2009-05-01T00:00:00.000000000",
          "2009-11-01T00:00:00.000000000",
          "2010-11-01T00:00:00.000000000",
          "2011-05-01T00:00:00.000000000",
          "2011-09-01T00:00:00.000000000",
          "2011-10-01T00:00:00.000000000",
          "2012-02-01T00:00:00.000000000",
          "2012-11-01T00:00:00.000000000",
          "2012-12-01T00:00:00.000000000",
          "2013-03-01T00:00:00.000000000",
          "2013-08-01T00:00:00.000000000",
          "2013-09-01T00:00:00.000000000",
          "2013-10-01T00:00:00.000000000",
          "2013-11-01T00:00:00.000000000",
          "2013-12-01T00:00:00.000000000",
          "2014-01-01T00:00:00.000000000",
          "2014-02-01T00:00:00.000000000",
          "2014-04-01T00:00:00.000000000",
          "2014-06-01T00:00:00.000000000",
          "2014-07-01T00:00:00.000000000",
          "2014-08-01T00:00:00.000000000",
          "2014-09-01T00:00:00.000000000",
          "2014-10-01T00:00:00.000000000",
          "2014-11-01T00:00:00.000000000",
          "2014-12-01T00:00:00.000000000",
          "2015-01-01T00:00:00.000000000",
          "2015-02-01T00:00:00.000000000",
          "2015-03-01T00:00:00.000000000",
          "2015-04-01T00:00:00.000000000",
          "2015-05-01T00:00:00.000000000",
          "2015-06-01T00:00:00.000000000",
          "2015-07-01T00:00:00.000000000",
          "2015-08-01T00:00:00.000000000",
          "2015-09-01T00:00:00.000000000",
          "2015-10-01T00:00:00.000000000",
          "2015-11-01T00:00:00.000000000",
          "2015-12-01T00:00:00.000000000",
          "2016-01-01T00:00:00.000000000",
          "2016-02-01T00:00:00.000000000",
          "2016-03-01T00:00:00.000000000",
          "2016-04-01T00:00:00.000000000",
          "2016-05-01T00:00:00.000000000",
          "2016-06-01T00:00:00.000000000",
          "2016-07-01T00:00:00.000000000",
          "2016-08-01T00:00:00.000000000",
          "2016-09-01T00:00:00.000000000",
          "2016-10-01T00:00:00.000000000",
          "2016-11-01T00:00:00.000000000",
          "2016-12-01T00:00:00.000000000",
          "2017-01-01T00:00:00.000000000",
          "2017-02-01T00:00:00.000000000",
          "2017-03-01T00:00:00.000000000",
          "2017-04-01T00:00:00.000000000",
          "2017-05-01T00:00:00.000000000",
          "2017-06-01T00:00:00.000000000",
          "2017-07-01T00:00:00.000000000",
          "2017-08-01T00:00:00.000000000",
          "2017-09-01T00:00:00.000000000",
          "2017-10-01T00:00:00.000000000",
          "2017-11-01T00:00:00.000000000",
          "2017-12-01T00:00:00.000000000",
          "2018-01-01T00:00:00.000000000",
          "2018-02-01T00:00:00.000000000",
          "2018-03-01T00:00:00.000000000",
          "2018-04-01T00:00:00.000000000",
          "2018-05-01T00:00:00.000000000",
          "2018-06-01T00:00:00.000000000",
          "2018-07-01T00:00:00.000000000",
          "2018-08-01T00:00:00.000000000",
          "2018-09-01T00:00:00.000000000",
          "2018-10-01T00:00:00.000000000",
          "2018-11-01T00:00:00.000000000",
          "2018-12-01T00:00:00.000000000",
          "2019-01-01T00:00:00.000000000",
          "2019-02-01T00:00:00.000000000",
          "2019-03-01T00:00:00.000000000",
          "2019-04-01T00:00:00.000000000",
          "2019-05-01T00:00:00.000000000",
          "2019-06-01T00:00:00.000000000",
          "2019-07-01T00:00:00.000000000",
          "2019-08-01T00:00:00.000000000",
          "2019-09-01T00:00:00.000000000",
          "2019-10-01T00:00:00.000000000",
          "2019-11-01T00:00:00.000000000",
          "2019-12-01T00:00:00.000000000",
          "2020-01-01T00:00:00.000000000",
          "2020-02-01T00:00:00.000000000",
          "2020-03-01T00:00:00.000000000",
          "2020-04-01T00:00:00.000000000",
          "2020-05-01T00:00:00.000000000",
          "2020-06-01T00:00:00.000000000",
          "2020-07-01T00:00:00.000000000",
          "2020-08-01T00:00:00.000000000",
          "2020-09-01T00:00:00.000000000",
          "2020-10-01T00:00:00.000000000",
          "2020-11-01T00:00:00.000000000",
          "2020-12-01T00:00:00.000000000",
          "2021-01-01T00:00:00.000000000",
          "2021-02-01T00:00:00.000000000",
          "2021-03-01T00:00:00.000000000",
          "2021-04-01T00:00:00.000000000",
          "2021-05-01T00:00:00.000000000",
          "2021-06-01T00:00:00.000000000",
          "2021-07-01T00:00:00.000000000",
          "2021-08-01T00:00:00.000000000",
          "2021-09-01T00:00:00.000000000"
         ],
         "xaxis": "x",
         "y": {
          "bdata": "AQABAAEAAQABAAEAAQALAAEAAQABAAEAAQACAAMAAgACAAIAAgACAAEAAQABAAEABAAEAAYAAQAEAAUABQAGAAYABwACAAcADgAEABUAKwAPABEAFgANABIAHAAiADAAMwAsAGAASABSAH0AXQBWAF4ATwBzAHEAfgBVAHYAgQBXAK0AcwBhAE4AmACkAHwAvwCaALkAmQCUAKwAogCLAKgAnQCDAHsAwQD/ANcAzQByAIkAsQCdAJwAkgCBAKgApwCaAKkAhABtAHAAvACEAM8AAQGyALcA",
          "dtype": "i2"
         },
         "yaxis": "y"
        },
        {
         "line": {
          "color": "red",
          "dash": "dash",
          "width": 1
         },
         "mode": "lines",
         "name": "Moyenne mobile (6 mois)",
         "type": "scatter",
         "x": [
          "2008-01-01T00:00:00.000000000",
          "2008-02-01T00:00:00.000000000",
          "2009-05-01T00:00:00.000000000",
          "2009-11-01T00:00:00.000000000",
          "2010-11-01T00:00:00.000000000",
          "2011-05-01T00:00:00.000000000",
          "2011-09-01T00:00:00.000000000",
          "2011-10-01T00:00:00.000000000",
          "2012-02-01T00:00:00.000000000",
          "2012-11-01T00:00:00.000000000",
          "2012-12-01T00:00:00.000000000",
          "2013-03-01T00:00:00.000000000",
          "2013-08-01T00:00:00.000000000",
          "2013-09-01T00:00:00.000000000",
          "2013-10-01T00:00:00.000000000",
          "2013-11-01T00:00:00.000000000",
          "2013-12-01T00:00:00.000000000",
          "2014-01-01T00:00:00.000000000",
          "2014-02-01T00:00:00.000000000",
          "2014-04-01T00:00:00.000000000",
          "2014-06-01T00:00:00.000000000",
          "2014-07-01T00:00:00.000000000",
          "2014-08-01T00:00:00.000000000",
          "2014-09-01T00:00:00.000000000",
          "2014-10-01T00:00:00.000000000",
          "2014-11-01T00:00:00.000000000",
          "2014-12-01T00:00:00.000000000",
          "2015-01-01T00:00:00.000000000",
          "2015-02-01T00:00:00.000000000",
          "2015-03-01T00:00:00.000000000",
          "2015-04-01T00:00:00.000000000",
          "2015-05-01T00:00:00.000000000",
          "2015-06-01T00:00:00.000000000",
          "2015-07-01T00:00:00.000000000",
          "2015-08-01T00:00:00.000000000",
          "2015-09-01T00:00:00.000000000",
          "2015-10-01T00:00:00.000000000",
          "2015-11-01T00:00:00.000000000",
          "2015-12-01T00:00:00.000000000",
          "2016-01-01T00:00:00.000000000",
          "2016-02-01T00:00:00.000000000",
          "2016-03-01T00:00:00.000000000",
          "2016-04-01T00:00:00.000000000",
          "2016-05-01T00:00:00.000000000",
          "2016-06-01T00:00:00.000000000",
          "2016-07-01T00:00:00.000000000",
          "2016-08-01T00:00:00.000000000",
          "2016-09-01T00:00:00.000000000",
          "2016-10-01T00:00:00.000000000",
          "2016-11-01T00:00:00.000000000",
          "2016-12-01T00:00:00.000000000",
          "2017-01-01T00:00:00.000000000",
          "2017-02-01T00:00:00.000000000",
          "2017-03-01T00:00:00.000000000",
          "2017-04-01T00:00:00.000000000",
          "2017-05-01T00:00:00.000000000",
          "2017-06-01T00:00:00.000000000",
          "2017-07-01T00:00:00.000000000",
          "2017-08-01T00:00:00.000000000",
          "2017-09-01T00:00:00.000000000",
          "2017-10-01T00:00:00.000000000",
          "2017-11-01T00:00:00.000000000",
          "2017-12-01T00:00:00.000000000",
          "2018-01-01T00:00:00.000000000",
          "2018-02-01T00:00:00.000000000",
          "2018-03-01T00:00:00.000000000",
          "2018-04-01T00:00:00.000000000",
          "2018-05-01T00:00:00.000000000",
          "2018-06-01T00:00:00.000000000",
          "2018-07-01T00:00:00.000000000",
          "2018-08-01T00:00:00.000000000",
          "2018-09-01T00:00:00.000000000",
          "2018-10-01T00:00:00.000000000",
          "2018-11-01T00:00:00.000000000",
          "2018-12-01T00:00:00.000000000",
          "2019-01-01T00:00:00.000000000",
          "2019-02-01T00:00:00.000000000",
          "2019-03-01T00:00:00.000000000",
          "2019-04-01T00:00:00.000000000",
          "2019-05-01T00:00:00.000000000",
          "2019-06-01T00:00:00.000000000",
          "2019-07-01T00:00:00.000000000",
          "2019-08-01T00:00:00.000000000",
          "2019-09-01T00:00:00.000000000",
          "2019-10-01T00:00:00.000000000",
          "2019-11-01T00:00:00.000000000",
          "2019-12-01T00:00:00.000000000",
          "2020-01-01T00:00:00.000000000",
          "2020-02-01T00:00:00.000000000",
          "2020-03-01T00:00:00.000000000",
          "2020-04-01T00:00:00.000000000",
          "2020-05-01T00:00:00.000000000",
          "2020-06-01T00:00:00.000000000",
          "2020-07-01T00:00:00.000000000",
          "2020-08-01T00:00:00.000000000",
          "2020-09-01T00:00:00.000000000",
          "2020-10-01T00:00:00.000000000",
          "2020-11-01T00:00:00.000000000",
          "2020-12-01T00:00:00.000000000",
          "2021-01-01T00:00:00.000000000",
          "2021-02-01T00:00:00.000000000",
          "2021-03-01T00:00:00.000000000",
          "2021-04-01T00:00:00.000000000",
          "2021-05-01T00:00:00.000000000",
          "2021-06-01T00:00:00.000000000",
          "2021-07-01T00:00:00.000000000",
          "2021-08-01T00:00:00.000000000",
          "2021-09-01T00:00:00.000000000"
         ],
         "y": {
          "bdata": "AAAAAAAA+H8AAAAAAAD4fwAAAAAAAPh/AAAAAAAA+H8AAAAAAAD4fwAAAAAAAPA/AAAAAAAA8D9VVVVVVVUFQFVVVVVVVQVAVVVVVVVVBUBVVVVVVVUFQFVVVVVVVQVAVVVVVVVVBUCrqqqqqqryPwAAAAAAAPg/q6qqqqqq+j9VVVVVVVX9PwAAAAAAAABAVVVVVVVVAUBVVVVVVVUBQFVVVVVVVf0/q6qqqqqq+j8AAAAAAAD4P1VVVVVVVfU/q6qqqqqq+j8AAAAAAAAAQKuqqqqqqgZAq6qqqqqqBkCrqqqqqqoKQAAAAAAAABBAq6qqqqqqEEAAAAAAAAASQAAAAAAAABJAAAAAAAAAFkCrqqqqqqoUQAAAAAAAABZAAAAAAAAAHECrqqqqqqoaQFVVVVVVVSJAVVVVVVVVLkBVVVVVVVUxQAAAAAAAADNAVVVVVVVVNEBVVVVVVdU1QFVVVVVVVTVAVVVVVVXVMkAAAAAAAAA2QKuqqqqqKjtAAAAAAAAAQEBVVVVVVZVCQFVVVVVVFUlAAAAAAADATEAAAAAAAGBQQFVVVVVVlVNAVVVVVVVVVUBVVVVVVRVXQAAAAAAAAFdAq6qqqqpKV0CrqqqqqqpYQKuqqqqqKlhAq6qqqqqKWUAAAAAAAIBZQAAAAAAAgFpAVVVVVVWVXECrqqqqqmpbQKuqqqqq6l1AVVVVVVV1XUBVVVVVVfVdQKuqqqqqSlxAAAAAAABAXUCrqqqqqjpgQKuqqqqqal5Aq6qqqqrKYECrqqqqqvphQFVVVVVVNWRAq6qqqqo6ZEBVVVVVVeVjQFVVVVVV5WRAq6qqqqpKZECrqqqqqvpjQAAAAAAAoGNAVVVVVVW1Y0CrqqqqqlpjQFVVVVVVVWJAq6qqqqr6YkBVVVVVVWVlQAAAAAAAYGZAAAAAAABgZ0BVVVVVVQVnQAAAAAAAUGdAq6qqqqr6ZkAAAAAAAPBkQFVVVVVVtWNAq6qqqqp6YkCrqqqqqspiQAAAAAAAcGNAq6qqqqo6Y0CrqqqqqipjQAAAAAAAcGNAVVVVVVUlY0CrqqqqqrpiQAAAAAAAkGFAAAAAAAAAYkCrqqqqqophQFVVVVVVVWJAAAAAAADwZEAAAAAAAGBmQKuqqqqq2mdA",
          "dtype": "f8"
         }
        }
       ],
       "layout": {
        "hoverlabel": {
         "bgcolor": "white",
         "font": {
          "size": 12
         }
        },
        "hovermode": "x unified",
        "legend": {
         "tracegroupgap": 0
        },
        "plot_bgcolor": "white",
        "template": {
         "data": {
          "bar": [
           {
            "error_x": {
             "color": "#2a3f5f"
            },
            "error_y": {
             "color": "#2a3f5f"
            },
            "marker": {
             "line": {
              "color": "#E5ECF6",
              "width": 0.5
             },
             "pattern": {
              "fillmode": "overlay",
              "size": 10,
              "solidity": 0.2
             }
            },
            "type": "bar"
           }
          ],
          "barpolar": [
           {
            "marker": {
             "line": {
              "color": "#E5ECF6",
              "width": 0.5
             },
             "pattern": {
              "fillmode": "overlay",
              "size": 10,
              "solidity": 0.2
             }
            },
            "type": "barpolar"
           }
          ],
          "carpet": [
           {
            "aaxis": {
             "endlinecolor": "#2a3f5f",
             "gridcolor": "white",
             "linecolor": "white",
             "minorgridcolor": "white",
             "startlinecolor": "#2a3f5f"
            },
            "baxis": {
             "endlinecolor": "#2a3f5f",
             "gridcolor": "white",
             "linecolor": "white",
             "minorgridcolor": "white",
             "startlinecolor": "#2a3f5f"
            },
            "type": "carpet"
           }
          ],
          "choropleth": [
           {
            "colorbar": {
             "outlinewidth": 0,
             "ticks": ""
            },
            "type": "choropleth"
           }
          ],
          "contour": [
           {
            "colorbar": {
             "outlinewidth": 0,
             "ticks": ""
            },
            "colorscale": [
             [
              0,
              "#0d0887"
             ],
             [
              0.1111111111111111,
              "#46039f"
             ],
             [
              0.2222222222222222,
              "#7201a8"
             ],
             [
              0.3333333333333333,
              "#9c179e"
             ],
             [
              0.4444444444444444,
              "#bd3786"
             ],
             [
              0.5555555555555556,
              "#d8576b"
             ],
             [
              0.6666666666666666,
              "#ed7953"
             ],
             [
              0.7777777777777778,
              "#fb9f3a"
             ],
             [
              0.8888888888888888,
              "#fdca26"
             ],
             [
              1,
              "#f0f921"
             ]
            ],
            "type": "contour"
           }
          ],
          "contourcarpet": [
           {
            "colorbar": {
             "outlinewidth": 0,
             "ticks": ""
            },
            "type": "contourcarpet"
           }
          ],
          "heatmap": [
           {
            "colorbar": {
             "outlinewidth": 0,
             "ticks": ""
            },
            "colorscale": [
             [
              0,
              "#0d0887"
             ],
             [
              0.1111111111111111,
              "#46039f"
             ],
             [
              0.2222222222222222,
              "#7201a8"
             ],
             [
              0.3333333333333333,
              "#9c179e"
             ],
             [
              0.4444444444444444,
              "#bd3786"
             ],
             [
              0.5555555555555556,
              "#d8576b"
             ],
             [
              0.6666666666666666,
              "#ed7953"
             ],
             [
              0.7777777777777778,
              "#fb9f3a"
             ],
             [
              0.8888888888888888,
              "#fdca26"
             ],
             [
              1,
              "#f0f921"
             ]
            ],
            "type": "heatmap"
           }
          ],
          "histogram": [
           {
            "marker": {
             "pattern": {
              "fillmode": "overlay",
              "size": 10,
              "solidity": 0.2
             }
            },
            "type": "histogram"
           }
          ],
          "histogram2d": [
           {
            "colorbar": {
             "outlinewidth": 0,
             "ticks": ""
            },
            "colorscale": [
             [
              0,
              "#0d0887"
             ],
             [
              0.1111111111111111,
              "#46039f"
             ],
             [
              0.2222222222222222,
              "#7201a8"
             ],
             [
              0.3333333333333333,
              "#9c179e"
             ],
             [
              0.4444444444444444,
              "#bd3786"
             ],
             [
              0.5555555555555556,
              "#d8576b"
             ],
             [
              0.6666666666666666,
              "#ed7953"
             ],
             [
              0.7777777777777778,
              "#fb9f3a"
             ],
             [
              0.8888888888888888,
              "#fdca26"
             ],
             [
              1,
              "#f0f921"
             ]
            ],
            "type": "histogram2d"
           }
          ],
          "histogram2dcontour": [
           {
            "colorbar": {
             "outlinewidth": 0,
             "ticks": ""
            },
            "colorscale": [
             [
              0,
              "#0d0887"
             ],
             [
              0.1111111111111111,
              "#46039f"
             ],
             [
              0.2222222222222222,
              "#7201a8"
             ],
             [
              0.3333333333333333,
              "#9c179e"
             ],
             [
              0.4444444444444444,
              "#bd3786"
             ],
             [
              0.5555555555555556,
              "#d8576b"
             ],
             [
              0.6666666666666666,
              "#ed7953"
             ],
             [
              0.7777777777777778,
              "#fb9f3a"
             ],
             [
              0.8888888888888888,
              "#fdca26"
             ],
             [
              1,
              "#f0f921"
             ]
            ],
            "type": "histogram2dcontour"
           }
          ],
          "mesh3d": [
           {
            "colorbar": {
             "outlinewidth": 0,
             "ticks": ""
            },
            "type": "mesh3d"
           }
          ],
          "parcoords": [
           {
            "line": {
             "colorbar": {
              "outlinewidth": 0,
              "ticks": ""
             }
            },
            "type": "parcoords"
           }
          ],
          "pie": [
           {
            "automargin": true,
            "type": "pie"
           }
          ],
          "scatter": [
           {
            "fillpattern": {
             "fillmode": "overlay",
             "size": 10,
             "solidity": 0.2
            },
            "type": "scatter"
           }
          ],
          "scatter3d": [
           {
            "line": {
             "colorbar": {
              "outlinewidth": 0,
              "ticks": ""
             }
            },
            "marker": {
             "colorbar": {
              "outlinewidth": 0,
              "ticks": ""
             }
            },
            "type": "scatter3d"
           }
          ],
          "scattercarpet": [
           {
            "marker": {
             "colorbar": {
              "outlinewidth": 0,
              "ticks": ""
             }
            },
            "type": "scattercarpet"
           }
          ],
          "scattergeo": [
           {
            "marker": {
             "colorbar": {
              "outlinewidth": 0,
              "ticks": ""
             }
            },
            "type": "scattergeo"
           }
          ],
          "scattergl": [
           {
            "marker": {
             "colorbar": {
              "outlinewidth": 0,
              "ticks": ""
             }
            },
            "type": "scattergl"
           }
          ],
          "scattermap": [
           {
            "marker": {
             "colorbar": {
              "outlinewidth": 0,
              "ticks": ""
             }
            },
            "type": "scattermap"
           }
          ],
          "scattermapbox": [
           {
            "marker": {
             "colorbar": {
              "outlinewidth": 0,
              "ticks": ""
             }
            },
            "type": "scattermapbox"
           }
          ],
          "scatterpolar": [
           {
            "marker": {
             "colorbar": {
              "outlinewidth": 0,
              "ticks": ""
             }
            },
            "type": "scatterpolar"
           }
          ],
          "scatterpolargl": [
           {
            "marker": {
             "colorbar": {
              "outlinewidth": 0,
              "ticks": ""
             }
            },
            "type": "scatterpolargl"
           }
          ],
          "scatterternary": [
           {
            "marker": {
             "colorbar": {
              "outlinewidth": 0,
              "ticks": ""
             }
            },
            "type": "scatterternary"
           }
          ],
          "surface": [
           {
            "colorbar": {
             "outlinewidth": 0,
             "ticks": ""
            },
            "colorscale": [
             [
              0,
              "#0d0887"
             ],
             [
              0.1111111111111111,
              "#46039f"
             ],
             [
              0.2222222222222222,
              "#7201a8"
             ],
             [
              0.3333333333333333,
              "#9c179e"
             ],
             [
              0.4444444444444444,
              "#bd3786"
             ],
             [
              0.5555555555555556,
              "#d8576b"
             ],
             [
              0.6666666666666666,
              "#ed7953"
             ],
             [
              0.7777777777777778,
              "#fb9f3a"
             ],
             [
              0.8888888888888888,
              "#fdca26"
             ],
             [
              1,
              "#f0f921"
             ]
            ],
            "type": "surface"
           }
          ],
          "table": [
           {
            "cells": {
             "fill": {
              "color": "#EBF0F8"
             },
             "line": {
              "color": "white"
             }
            },
            "header": {
             "fill": {
              "color": "#C8D4E3"
             },
             "line": {
              "color": "white"
             }
            },
            "type": "table"
           }
          ]
         },
         "layout": {
          "annotationdefaults": {
           "arrowcolor": "#2a3f5f",
           "arrowhead": 0,
           "arrowwidth": 1
          },
          "autotypenumbers": "strict",
          "coloraxis": {
           "colorbar": {
            "outlinewidth": 0,
            "ticks": ""
           }
          },
          "colorscale": {
           "diverging": [
            [
             0,
             "#8e0152"
            ],
            [
             0.1,
             "#c51b7d"
            ],
            [
             0.2,
             "#de77ae"
            ],
            [
             0.3,
             "#f1b6da"
            ],
            [
             0.4,
             "#fde0ef"
            ],
            [
             0.5,
             "#f7f7f7"
            ],
            [
             0.6,
             "#e6f5d0"
            ],
            [
             0.7,
             "#b8e186"
            ],
            [
             0.8,
             "#7fbc41"
            ],
            [
             0.9,
             "#4d9221"
            ],
            [
             1,
             "#276419"
            ]
           ],
           "sequential": [
            [
             0,
             "#0d0887"
            ],
            [
             0.1111111111111111,
             "#46039f"
            ],
            [
             0.2222222222222222,
             "#7201a8"
            ],
            [
             0.3333333333333333,
             "#9c179e"
            ],
            [
             0.4444444444444444,
             "#bd3786"
            ],
            [
             0.5555555555555556,
             "#d8576b"
            ],
            [
             0.6666666666666666,
             "#ed7953"
            ],
            [
             0.7777777777777778,
             "#fb9f3a"
            ],
            [
             0.8888888888888888,
             "#fdca26"
            ],
            [
             1,
             "#f0f921"
            ]
           ],
           "sequentialminus": [
            [
             0,
             "#0d0887"
            ],
            [
             0.1111111111111111,
             "#46039f"
            ],
            [
             0.2222222222222222,
             "#7201a8"
            ],
            [
             0.3333333333333333,
             "#9c179e"
            ],
            [
             0.4444444444444444,
             "#bd3786"
            ],
            [
             0.5555555555555556,
             "#d8576b"
            ],
            [
             0.6666666666666666,
             "#ed7953"
            ],
            [
             0.7777777777777778,
             "#fb9f3a"
            ],
            [
             0.8888888888888888,
             "#fdca26"
            ],
            [
             1,
             "#f0f921"
            ]
           ]
          },
          "colorway": [
           "#636efa",
           "#EF553B",
           "#00cc96",
           "#ab63fa",
           "#FFA15A",
           "#19d3f3",
           "#FF6692",
           "#B6E880",
           "#FF97FF",
           "#FECB52"
          ],
          "font": {
           "color": "#2a3f5f"
          },
          "geo": {
           "bgcolor": "white",
           "lakecolor": "white",
           "landcolor": "#E5ECF6",
           "showlakes": true,
           "showland": true,
           "subunitcolor": "white"
          },
          "hoverlabel": {
           "align": "left"
          },
          "hovermode": "closest",
          "mapbox": {
           "style": "light"
          },
          "paper_bgcolor": "white",
          "plot_bgcolor": "#E5ECF6",
          "polar": {
           "angularaxis": {
            "gridcolor": "white",
            "linecolor": "white",
            "ticks": ""
           },
           "bgcolor": "#E5ECF6",
           "radialaxis": {
            "gridcolor": "white",
            "linecolor": "white",
            "ticks": ""
           }
          },
          "scene": {
           "xaxis": {
            "backgroundcolor": "#E5ECF6",
            "gridcolor": "white",
            "gridwidth": 2,
            "linecolor": "white",
            "showbackground": true,
            "ticks": "",
            "zerolinecolor": "white"
           },
           "yaxis": {
            "backgroundcolor": "#E5ECF6",
            "gridcolor": "white",
            "gridwidth": 2,
            "linecolor": "white",
            "showbackground": true,
            "ticks": "",
            "zerolinecolor": "white"
           },
           "zaxis": {
            "backgroundcolor": "#E5ECF6",
            "gridcolor": "white",
            "gridwidth": 2,
            "linecolor": "white",
            "showbackground": true,
            "ticks": "",
            "zerolinecolor": "white"
           }
          },
          "shapedefaults": {
           "line": {
            "color": "#2a3f5f"
           }
          },
          "ternary": {
           "aaxis": {
            "gridcolor": "white",
            "linecolor": "white",
            "ticks": ""
           },
           "baxis": {
            "gridcolor": "white",
            "linecolor": "white",
            "ticks": ""
           },
           "bgcolor": "#E5ECF6",
           "caxis": {
            "gridcolor": "white",
            "linecolor": "white",
            "ticks": ""
           }
          },
          "title": {
           "x": 0.05
          },
          "xaxis": {
           "automargin": true,
           "gridcolor": "white",
           "linecolor": "white",
           "ticks": "",
           "title": {
            "standoff": 15
           },
           "zerolinecolor": "white",
           "zerolinewidth": 2
          },
          "yaxis": {
           "automargin": true,
           "gridcolor": "white",
           "linecolor": "white",
           "ticks": "",
           "title": {
            "standoff": 15
           },
           "zerolinecolor": "white",
           "zerolinewidth": 2
          }
         }
        },
        "title": {
         "font": {
          "size": 16
         },
         "text": "Évolution des ajouts au catalogue Netflix au fil du temps"
        },
        "xaxis": {
         "anchor": "y",
         "domain": [
          0,
          1
         ],
         "title": {
          "text": "Date"
         }
        },
        "yaxis": {
         "anchor": "x",
         "domain": [
          0,
          1
         ],
         "title": {
          "text": "Nombre de titres ajoutés"
         }
        }
       }
      }
     },
     "metadata": {},
     "output_type": "display_data"
    }
   ],
   "source": [
    "# k. La répartition des œuvres en fonction de la date d'ajout (avec Plotly)\n",
    "# Extraire le mois et l'année\n",
    "df['month_year'] = df['date_added'].dt.strftime('%Y-%m')\n",
    "\n",
    "# Grouper par mois-année et compter\n",
    "monthly_additions = df.groupby('month_year').size().reset_index(name='count')\n",
    "monthly_additions['date'] = pd.to_datetime(monthly_additions['month_year'] + '-01')\n",
    "monthly_additions = monthly_additions.sort_values('date')\n",
    "\n",
    "# Créer un graphique interactif temporel\n",
    "fig = px.line(monthly_additions, x='date', y='count',\n",
    "              title='Évolution des ajouts au catalogue Netflix au fil du temps',\n",
    "              labels={'count': 'Nombre de titres ajoutés', 'date': 'Date'},\n",
    "              line_shape='spline', render_mode='svg')\n",
    "\n",
    "# Personnaliser l'apparence\n",
    "fig.update_layout(\n",
    "    title_font_size=16,\n",
    "    plot_bgcolor='white',\n",
    "    hovermode='x unified',\n",
    "    hoverlabel=dict(bgcolor='white', font_size=12)\n",
    ")\n",
    "\n",
    "# Ajouter des repères de tendance\n",
    "fig.add_scatter(x=monthly_additions['date'], y=monthly_additions['count'].rolling(window=6).mean(), \n",
    "                mode='lines', line=dict(color='red', width=1, dash='dash'),\n",
    "                name='Moyenne mobile (6 mois)')\n",
    "\n",
    "fig.show()"
   ]
  },
  {
   "cell_type": "markdown",
   "id": "3810af5a",
   "metadata": {},
   "source": [
    "l. Tout autre graphe pertinent pour vous\n"
   ]
  },
  {
   "cell_type": "code",
   "execution_count": 63,
   "id": "0492132c",
   "metadata": {},
   "outputs": [
    {
     "data": {
      "application/vnd.plotly.v1+json": {
       "config": {
        "plotlyServerURL": "https://plot.ly"
       },
       "data": [
        {
         "coloraxis": "coloraxis",
         "hovertemplate": "Année d'ajout: %{x}<br>Genre: %{y}<br>Proportion: %{z}<extra></extra>",
         "name": "0",
         "type": "heatmap",
         "x": {
          "bdata": "AAAAAAB8n0AAAAAAAICfQAAAAAAAhJ9AAAAAAACIn0AAAAAAAIyfQAAAAAAAkJ9AAAAAAACUn0A=",
          "dtype": "f8"
         },
         "xaxis": "x",
         "y": [
          "Action & Adventure",
          "Children & Family Movies",
          "Comedies",
          "Crime TV Shows",
          "Documentaries",
          "Docuseries",
          "Dramas",
          "Independent Movies",
          "International Movies",
          "International TV Shows",
          "Kids' TV",
          "Romantic Movies",
          "TV Comedies",
          "TV Dramas",
          "Thrillers"
         ],
         "yaxis": "y",
         "z": {
          "bdata": "tuvpWHcYYz8tKQdEhnuVP0CJwuIU8bw/lCgsThHPyT/7J1FYnCLOPw6tFoJ+XMk/7zAmwHY9zT9XMTbKbMuRP2ZbjqBLLaA/1MtIrIaLvz8dQZdaIDDBPyb7a12huc0/HUGXWiAw0T+Wfj+7eavIP0tRljwxc30/S1GWPDFznT/xktpjMSa7P+BC3BQYx8Y/dTQi7f4a0D9nLfhWdefPP6JgglZc7sY/nKKMgFOUYT9nUu3oTKqtPxJwijICTsE/98e65v5Yxz98t/GE7zbOPykj4BRlBMw/LmarxMVsxT9jXH6Igv6OPy2LF+PyQ7Q/k9aQbjeyzj9BJfn0fuLIP0YiN4WTA8w/4Na9+U6VwT9Uv9oGC4G9P143k65UDoo/wqYARzs9sj/CpgBHOz3CP0ws3L5D2MQ/mS1qNb78zD9eN5OuVA7KPyRBvCfrH8c/ms/1x8tgdD/LM3JJaZibP3pz0E8MGb8/E+mBytktzD/qCLFNK+7NP+fNQT8xZMw/aBE1+S/dxT8yWrLG8vyCP9vjIKXDBaU/at2Bu42qwz9DIwh4aqLLP+/A3UbVCdE/L/f9YWUXyT9YTxKOby2+PxfeFLiOz20/cTDir1iOnj8S4ZwVGmbCPzUuvClwHc8/ruNzB9RpzD+Jv2I5esjKP/yz8y4eAcM/SqVF3co3Yj9oueMQ+1GwP9Gx6+6Rc8M/kPVKcS9OxD8QL2ifWMnPP8zP5QF+SMo/emaUSou6xT+opmMuEZ6UP5/VNd6E6LY/lQQIjvgyuT+RvYv065zCPzunJEBwxMc//XmVxRntzj9Jv84pCRDMP75jamDvmFo/RhdddNFFhz8vuuiiiy66PyjEWfkJccY/4qz8hDgrzz9n5SfEWfnRP9XA3jE1sMc/YN4wiYqxjD/8ir6V9u6xP21X5zT+y7s/uy0uO7Rqxj9Eq2ahSDrKP+YaDF/EPsw/AA15tqtzyj8UZ/CZXrOFP4MK2x4HKa0/sChYFCwKxj/HtxaPvnrCPxIEPDXRzcs/EgQ8NdHNyz9TTsNA+znHP5XO0BVxfmw/wrQW86LumD9+2y0nWEa+PyUT6xCmtcg/4TkCRVsNzj+n9qqAYZvNP8K0FvOi7sg/",
          "dtype": "f8",
          "shape": "15, 7"
         }
        }
       ],
       "layout": {
        "annotations": [
         {
          "font": {
           "color": "black"
          },
          "showarrow": false,
          "text": "2 titres<br>(0.2%)",
          "x": 2015,
          "y": "Action & Adventure"
         },
         {
          "font": {
           "color": "black"
          },
          "showarrow": false,
          "text": "18 titres<br>(2.1%)",
          "x": 2016,
          "y": "Action & Adventure"
         },
         {
          "font": {
           "color": "black"
          },
          "showarrow": false,
          "text": "97 titres<br>(11.3%)",
          "x": 2017,
          "y": "Action & Adventure"
         },
         {
          "font": {
           "color": "white"
          },
          "showarrow": false,
          "text": "173 titres<br>(20.2%)",
          "x": 2018,
          "y": "Action & Adventure"
         },
         {
          "font": {
           "color": "white"
          },
          "showarrow": false,
          "text": "202 titres<br>(23.5%)",
          "x": 2019,
          "y": "Action & Adventure"
         },
         {
          "font": {
           "color": "white"
          },
          "showarrow": false,
          "text": "170 titres<br>(19.8%)",
          "x": 2020,
          "y": "Action & Adventure"
         },
         {
          "font": {
           "color": "white"
          },
          "showarrow": false,
          "text": "196 titres<br>(22.8%)",
          "x": 2021,
          "y": "Action & Adventure"
         },
         {
          "font": {
           "color": "black"
          },
          "showarrow": false,
          "text": "11 titres<br>(1.7%)",
          "x": 2015,
          "y": "Children & Family Movies"
         },
         {
          "font": {
           "color": "black"
          },
          "showarrow": false,
          "text": "20 titres<br>(3.2%)",
          "x": 2016,
          "y": "Children & Family Movies"
         },
         {
          "font": {
           "color": "black"
          },
          "showarrow": false,
          "text": "78 titres<br>(12.3%)",
          "x": 2017,
          "y": "Children & Family Movies"
         },
         {
          "font": {
           "color": "black"
          },
          "showarrow": false,
          "text": "85 titres<br>(13.4%)",
          "x": 2018,
          "y": "Children & Family Movies"
         },
         {
          "font": {
           "color": "white"
          },
          "showarrow": false,
          "text": "147 titres<br>(23.2%)",
          "x": 2019,
          "y": "Children & Family Movies"
         },
         {
          "font": {
           "color": "white"
          },
          "showarrow": false,
          "text": "170 titres<br>(26.9%)",
          "x": 2020,
          "y": "Children & Family Movies"
         },
         {
          "font": {
           "color": "white"
          },
          "showarrow": false,
          "text": "122 titres<br>(19.3%)",
          "x": 2021,
          "y": "Children & Family Movies"
         },
         {
          "font": {
           "color": "black"
          },
          "showarrow": false,
          "text": "12 titres<br>(0.7%)",
          "x": 2015,
          "y": "Comedies"
         },
         {
          "font": {
           "color": "black"
          },
          "showarrow": false,
          "text": "48 titres<br>(2.9%)",
          "x": 2016,
          "y": "Comedies"
         },
         {
          "font": {
           "color": "black"
          },
          "showarrow": false,
          "text": "177 titres<br>(10.6%)",
          "x": 2017,
          "y": "Comedies"
         },
         {
          "font": {
           "color": "white"
          },
          "showarrow": false,
          "text": "297 titres<br>(17.8%)",
          "x": 2018,
          "y": "Comedies"
         },
         {
          "font": {
           "color": "white"
          },
          "showarrow": false,
          "text": "420 titres<br>(25.2%)",
          "x": 2019,
          "y": "Comedies"
         },
         {
          "font": {
           "color": "white"
          },
          "showarrow": false,
          "text": "416 titres<br>(24.9%)",
          "x": 2020,
          "y": "Comedies"
         },
         {
          "font": {
           "color": "white"
          },
          "showarrow": false,
          "text": "299 titres<br>(17.9%)",
          "x": 2021,
          "y": "Comedies"
         },
         {
          "font": {
           "color": "black"
          },
          "showarrow": false,
          "text": "1 titres<br>(0.2%)",
          "x": 2015,
          "y": "Crime TV Shows"
         },
         {
          "font": {
           "color": "black"
          },
          "showarrow": false,
          "text": "27 titres<br>(5.8%)",
          "x": 2016,
          "y": "Crime TV Shows"
         },
         {
          "font": {
           "color": "black"
          },
          "showarrow": false,
          "text": "63 titres<br>(13.5%)",
          "x": 2017,
          "y": "Crime TV Shows"
         },
         {
          "font": {
           "color": "white"
          },
          "showarrow": false,
          "text": "85 titres<br>(18.2%)",
          "x": 2018,
          "y": "Crime TV Shows"
         },
         {
          "font": {
           "color": "white"
          },
          "showarrow": false,
          "text": "110 titres<br>(23.6%)",
          "x": 2019,
          "y": "Crime TV Shows"
         },
         {
          "font": {
           "color": "white"
          },
          "showarrow": false,
          "text": "102 titres<br>(21.9%)",
          "x": 2020,
          "y": "Crime TV Shows"
         },
         {
          "font": {
           "color": "white"
          },
          "showarrow": false,
          "text": "78 titres<br>(16.7%)",
          "x": 2021,
          "y": "Crime TV Shows"
         },
         {
          "font": {
           "color": "black"
          },
          "showarrow": false,
          "text": "13 titres<br>(1.5%)",
          "x": 2015,
          "y": "Documentaries"
         },
         {
          "font": {
           "color": "black"
          },
          "showarrow": false,
          "text": "68 titres<br>(7.9%)",
          "x": 2016,
          "y": "Documentaries"
         },
         {
          "font": {
           "color": "white"
          },
          "showarrow": false,
          "text": "206 titres<br>(24.0%)",
          "x": 2017,
          "y": "Documentaries"
         },
         {
          "font": {
           "color": "white"
          },
          "showarrow": false,
          "text": "167 titres<br>(19.4%)",
          "x": 2018,
          "y": "Documentaries"
         },
         {
          "font": {
           "color": "white"
          },
          "showarrow": false,
          "text": "188 titres<br>(21.9%)",
          "x": 2019,
          "y": "Documentaries"
         },
         {
          "font": {
           "color": "black"
          },
          "showarrow": false,
          "text": "118 titres<br>(13.7%)",
          "x": 2020,
          "y": "Documentaries"
         },
         {
          "font": {
           "color": "black"
          },
          "showarrow": false,
          "text": "99 titres<br>(11.5%)",
          "x": 2021,
          "y": "Documentaries"
         },
         {
          "font": {
           "color": "black"
          },
          "showarrow": false,
          "text": "5 titres<br>(1.3%)",
          "x": 2015,
          "y": "Docuseries"
         },
         {
          "font": {
           "color": "black"
          },
          "showarrow": false,
          "text": "28 titres<br>(7.1%)",
          "x": 2016,
          "y": "Docuseries"
         },
         {
          "font": {
           "color": "black"
          },
          "showarrow": false,
          "text": "56 titres<br>(14.2%)",
          "x": 2017,
          "y": "Docuseries"
         },
         {
          "font": {
           "color": "white"
          },
          "showarrow": false,
          "text": "64 titres<br>(16.3%)",
          "x": 2018,
          "y": "Docuseries"
         },
         {
          "font": {
           "color": "white"
          },
          "showarrow": false,
          "text": "89 titres<br>(22.6%)",
          "x": 2019,
          "y": "Docuseries"
         },
         {
          "font": {
           "color": "white"
          },
          "showarrow": false,
          "text": "80 titres<br>(20.4%)",
          "x": 2020,
          "y": "Docuseries"
         },
         {
          "font": {
           "color": "white"
          },
          "showarrow": false,
          "text": "71 titres<br>(18.1%)",
          "x": 2021,
          "y": "Docuseries"
         },
         {
          "font": {
           "color": "black"
          },
          "showarrow": false,
          "text": "12 titres<br>(0.5%)",
          "x": 2015,
          "y": "Dramas"
         },
         {
          "font": {
           "color": "black"
          },
          "showarrow": false,
          "text": "65 titres<br>(2.7%)",
          "x": 2016,
          "y": "Dramas"
         },
         {
          "font": {
           "color": "black"
          },
          "showarrow": false,
          "text": "293 titres<br>(12.1%)",
          "x": 2017,
          "y": "Dramas"
         },
         {
          "font": {
           "color": "white"
          },
          "showarrow": false,
          "text": "531 titres<br>(22.0%)",
          "x": 2018,
          "y": "Dramas"
         },
         {
          "font": {
           "color": "white"
          },
          "showarrow": false,
          "text": "564 titres<br>(23.4%)",
          "x": 2019,
          "y": "Dramas"
         },
         {
          "font": {
           "color": "white"
          },
          "showarrow": false,
          "text": "535 titres<br>(22.2%)",
          "x": 2020,
          "y": "Dramas"
         },
         {
          "font": {
           "color": "white"
          },
          "showarrow": false,
          "text": "412 titres<br>(17.1%)",
          "x": 2021,
          "y": "Dramas"
         },
         {
          "font": {
           "color": "black"
          },
          "showarrow": false,
          "text": "7 titres<br>(0.9%)",
          "x": 2015,
          "y": "Independent Movies"
         },
         {
          "font": {
           "color": "black"
          },
          "showarrow": false,
          "text": "31 titres<br>(4.1%)",
          "x": 2016,
          "y": "Independent Movies"
         },
         {
          "font": {
           "color": "white"
          },
          "showarrow": false,
          "text": "116 titres<br>(15.4%)",
          "x": 2017,
          "y": "Independent Movies"
         },
         {
          "font": {
           "color": "white"
          },
          "showarrow": false,
          "text": "163 titres<br>(21.6%)",
          "x": 2018,
          "y": "Independent Movies"
         },
         {
          "font": {
           "color": "white"
          },
          "showarrow": false,
          "text": "201 titres<br>(26.6%)",
          "x": 2019,
          "y": "Independent Movies"
         },
         {
          "font": {
           "color": "white"
          },
          "showarrow": false,
          "text": "148 titres<br>(19.6%)",
          "x": 2020,
          "y": "Independent Movies"
         },
         {
          "font": {
           "color": "black"
          },
          "showarrow": false,
          "text": "89 titres<br>(11.8%)",
          "x": 2021,
          "y": "Independent Movies"
         },
         {
          "font": {
           "color": "black"
          },
          "showarrow": false,
          "text": "10 titres<br>(0.4%)",
          "x": 2015,
          "y": "International Movies"
         },
         {
          "font": {
           "color": "black"
          },
          "showarrow": false,
          "text": "82 titres<br>(3.0%)",
          "x": 2016,
          "y": "International Movies"
         },
         {
          "font": {
           "color": "black"
          },
          "showarrow": false,
          "text": "395 titres<br>(14.4%)",
          "x": 2017,
          "y": "International Movies"
         },
         {
          "font": {
           "color": "white"
          },
          "showarrow": false,
          "text": "668 titres<br>(24.3%)",
          "x": 2018,
          "y": "International Movies"
         },
         {
          "font": {
           "color": "white"
          },
          "showarrow": false,
          "text": "610 titres<br>(22.2%)",
          "x": 2019,
          "y": "International Movies"
         },
         {
          "font": {
           "color": "white"
          },
          "showarrow": false,
          "text": "575 titres<br>(20.9%)",
          "x": 2020,
          "y": "International Movies"
         },
         {
          "font": {
           "color": "black"
          },
          "showarrow": false,
          "text": "408 titres<br>(14.8%)",
          "x": 2021,
          "y": "International Movies"
         },
         {
          "font": {
           "color": "black"
          },
          "showarrow": false,
          "text": "3 titres<br>(0.2%)",
          "x": 2015,
          "y": "International TV Shows"
         },
         {
          "font": {
           "color": "black"
          },
          "showarrow": false,
          "text": "86 titres<br>(6.4%)",
          "x": 2016,
          "y": "International TV Shows"
         },
         {
          "font": {
           "color": "white"
          },
          "showarrow": false,
          "text": "205 titres<br>(15.2%)",
          "x": 2017,
          "y": "International TV Shows"
         },
         {
          "font": {
           "color": "white"
          },
          "showarrow": false,
          "text": "214 titres<br>(15.9%)",
          "x": 2018,
          "y": "International TV Shows"
         },
         {
          "font": {
           "color": "white"
          },
          "showarrow": false,
          "text": "335 titres<br>(24.8%)",
          "x": 2019,
          "y": "International TV Shows"
         },
         {
          "font": {
           "color": "white"
          },
          "showarrow": false,
          "text": "277 titres<br>(20.5%)",
          "x": 2020,
          "y": "International TV Shows"
         },
         {
          "font": {
           "color": "white"
          },
          "showarrow": false,
          "text": "229 titres<br>(17.0%)",
          "x": 2021,
          "y": "International TV Shows"
         },
         {
          "font": {
           "color": "black"
          },
          "showarrow": false,
          "text": "9 titres<br>(2.0%)",
          "x": 2015,
          "y": "Kids' TV"
         },
         {
          "font": {
           "color": "black"
          },
          "showarrow": false,
          "text": "40 titres<br>(8.9%)",
          "x": 2016,
          "y": "Kids' TV"
         },
         {
          "font": {
           "color": "black"
          },
          "showarrow": false,
          "text": "44 titres<br>(9.8%)",
          "x": 2017,
          "y": "Kids' TV"
         },
         {
          "font": {
           "color": "black"
          },
          "showarrow": false,
          "text": "65 titres<br>(14.5%)",
          "x": 2018,
          "y": "Kids' TV"
         },
         {
          "font": {
           "color": "white"
          },
          "showarrow": false,
          "text": "83 titres<br>(18.6%)",
          "x": 2019,
          "y": "Kids' TV"
         },
         {
          "font": {
           "color": "white"
          },
          "showarrow": false,
          "text": "108 titres<br>(24.2%)",
          "x": 2020,
          "y": "Kids' TV"
         },
         {
          "font": {
           "color": "white"
          },
          "showarrow": false,
          "text": "98 titres<br>(21.9%)",
          "x": 2021,
          "y": "Kids' TV"
         },
         {
          "font": {
           "color": "black"
          },
          "showarrow": false,
          "text": "1 titres<br>(0.2%)",
          "x": 2015,
          "y": "Romantic Movies"
         },
         {
          "font": {
           "color": "black"
          },
          "showarrow": false,
          "text": "7 titres<br>(1.1%)",
          "x": 2016,
          "y": "Romantic Movies"
         },
         {
          "font": {
           "color": "black"
          },
          "showarrow": false,
          "text": "63 titres<br>(10.2%)",
          "x": 2017,
          "y": "Romantic Movies"
         },
         {
          "font": {
           "color": "white"
          },
          "showarrow": false,
          "text": "108 titres<br>(17.5%)",
          "x": 2018,
          "y": "Romantic Movies"
         },
         {
          "font": {
           "color": "white"
          },
          "showarrow": false,
          "text": "150 titres<br>(24.4%)",
          "x": 2019,
          "y": "Romantic Movies"
         },
         {
          "font": {
           "color": "white"
          },
          "showarrow": false,
          "text": "173 titres<br>(28.1%)",
          "x": 2020,
          "y": "Romantic Movies"
         },
         {
          "font": {
           "color": "white"
          },
          "showarrow": false,
          "text": "114 titres<br>(18.5%)",
          "x": 2021,
          "y": "Romantic Movies"
         },
         {
          "font": {
           "color": "black"
          },
          "showarrow": false,
          "text": "8 titres<br>(1.4%)",
          "x": 2015,
          "y": "TV Comedies"
         },
         {
          "font": {
           "color": "black"
          },
          "showarrow": false,
          "text": "40 titres<br>(7.0%)",
          "x": 2016,
          "y": "TV Comedies"
         },
         {
          "font": {
           "color": "black"
          },
          "showarrow": false,
          "text": "62 titres<br>(10.9%)",
          "x": 2017,
          "y": "TV Comedies"
         },
         {
          "font": {
           "color": "white"
          },
          "showarrow": false,
          "text": "100 titres<br>(17.5%)",
          "x": 2018,
          "y": "TV Comedies"
         },
         {
          "font": {
           "color": "white"
          },
          "showarrow": false,
          "text": "117 titres<br>(20.5%)",
          "x": 2019,
          "y": "TV Comedies"
         },
         {
          "font": {
           "color": "white"
          },
          "showarrow": false,
          "text": "126 titres<br>(22.1%)",
          "x": 2020,
          "y": "TV Comedies"
         },
         {
          "font": {
           "color": "white"
          },
          "showarrow": false,
          "text": "118 titres<br>(20.7%)",
          "x": 2021,
          "y": "TV Comedies"
         },
         {
          "font": {
           "color": "black"
          },
          "showarrow": false,
          "text": "8 titres<br>(1.1%)",
          "x": 2015,
          "y": "TV Dramas"
         },
         {
          "font": {
           "color": "black"
          },
          "showarrow": false,
          "text": "43 titres<br>(5.7%)",
          "x": 2016,
          "y": "TV Dramas"
         },
         {
          "font": {
           "color": "white"
          },
          "showarrow": false,
          "text": "130 titres<br>(17.2%)",
          "x": 2017,
          "y": "TV Dramas"
         },
         {
          "font": {
           "color": "black"
          },
          "showarrow": false,
          "text": "109 titres<br>(14.4%)",
          "x": 2018,
          "y": "TV Dramas"
         },
         {
          "font": {
           "color": "white"
          },
          "showarrow": false,
          "text": "164 titres<br>(21.7%)",
          "x": 2019,
          "y": "TV Dramas"
         },
         {
          "font": {
           "color": "white"
          },
          "showarrow": false,
          "text": "164 titres<br>(21.7%)",
          "x": 2020,
          "y": "TV Dramas"
         },
         {
          "font": {
           "color": "white"
          },
          "showarrow": false,
          "text": "137 titres<br>(18.1%)",
          "x": 2021,
          "y": "TV Dramas"
         },
         {
          "font": {
           "color": "black"
          },
          "showarrow": false,
          "text": "2 titres<br>(0.3%)",
          "x": 2015,
          "y": "Thrillers"
         },
         {
          "font": {
           "color": "black"
          },
          "showarrow": false,
          "text": "14 titres<br>(2.4%)",
          "x": 2016,
          "y": "Thrillers"
         },
         {
          "font": {
           "color": "black"
          },
          "showarrow": false,
          "text": "68 titres<br>(11.8%)",
          "x": 2017,
          "y": "Thrillers"
         },
         {
          "font": {
           "color": "white"
          },
          "showarrow": false,
          "text": "111 titres<br>(19.3%)",
          "x": 2018,
          "y": "Thrillers"
         },
         {
          "font": {
           "color": "white"
          },
          "showarrow": false,
          "text": "135 titres<br>(23.5%)",
          "x": 2019,
          "y": "Thrillers"
         },
         {
          "font": {
           "color": "white"
          },
          "showarrow": false,
          "text": "133 titres<br>(23.1%)",
          "x": 2020,
          "y": "Thrillers"
         },
         {
          "font": {
           "color": "white"
          },
          "showarrow": false,
          "text": "112 titres<br>(19.5%)",
          "x": 2021,
          "y": "Thrillers"
         },
         {
          "font": {
           "size": 12
          },
          "showarrow": false,
          "text": "Cette visualisation montre comment la distribution des genres a évolué au fil des ans.<br>Les cellules plus sombres indiquent une proportion plus élevée d'un genre pour une année donnée.",
          "x": 0.5,
          "xref": "paper",
          "y": -0.1,
          "yref": "paper"
         }
        ],
        "coloraxis": {
         "colorbar": {
          "title": {
           "text": "Proportion du genre<br>par année"
          }
         },
         "colorscale": [
          [
           0,
           "#440154"
          ],
          [
           0.1111111111111111,
           "#482878"
          ],
          [
           0.2222222222222222,
           "#3e4989"
          ],
          [
           0.3333333333333333,
           "#31688e"
          ],
          [
           0.4444444444444444,
           "#26828e"
          ],
          [
           0.5555555555555556,
           "#1f9e89"
          ],
          [
           0.6666666666666666,
           "#35b779"
          ],
          [
           0.7777777777777778,
           "#6ece58"
          ],
          [
           0.8888888888888888,
           "#b5de2b"
          ],
          [
           1,
           "#fde725"
          ]
         ]
        },
        "height": 800,
        "template": {
         "data": {
          "bar": [
           {
            "error_x": {
             "color": "#2a3f5f"
            },
            "error_y": {
             "color": "#2a3f5f"
            },
            "marker": {
             "line": {
              "color": "#E5ECF6",
              "width": 0.5
             },
             "pattern": {
              "fillmode": "overlay",
              "size": 10,
              "solidity": 0.2
             }
            },
            "type": "bar"
           }
          ],
          "barpolar": [
           {
            "marker": {
             "line": {
              "color": "#E5ECF6",
              "width": 0.5
             },
             "pattern": {
              "fillmode": "overlay",
              "size": 10,
              "solidity": 0.2
             }
            },
            "type": "barpolar"
           }
          ],
          "carpet": [
           {
            "aaxis": {
             "endlinecolor": "#2a3f5f",
             "gridcolor": "white",
             "linecolor": "white",
             "minorgridcolor": "white",
             "startlinecolor": "#2a3f5f"
            },
            "baxis": {
             "endlinecolor": "#2a3f5f",
             "gridcolor": "white",
             "linecolor": "white",
             "minorgridcolor": "white",
             "startlinecolor": "#2a3f5f"
            },
            "type": "carpet"
           }
          ],
          "choropleth": [
           {
            "colorbar": {
             "outlinewidth": 0,
             "ticks": ""
            },
            "type": "choropleth"
           }
          ],
          "contour": [
           {
            "colorbar": {
             "outlinewidth": 0,
             "ticks": ""
            },
            "colorscale": [
             [
              0,
              "#0d0887"
             ],
             [
              0.1111111111111111,
              "#46039f"
             ],
             [
              0.2222222222222222,
              "#7201a8"
             ],
             [
              0.3333333333333333,
              "#9c179e"
             ],
             [
              0.4444444444444444,
              "#bd3786"
             ],
             [
              0.5555555555555556,
              "#d8576b"
             ],
             [
              0.6666666666666666,
              "#ed7953"
             ],
             [
              0.7777777777777778,
              "#fb9f3a"
             ],
             [
              0.8888888888888888,
              "#fdca26"
             ],
             [
              1,
              "#f0f921"
             ]
            ],
            "type": "contour"
           }
          ],
          "contourcarpet": [
           {
            "colorbar": {
             "outlinewidth": 0,
             "ticks": ""
            },
            "type": "contourcarpet"
           }
          ],
          "heatmap": [
           {
            "colorbar": {
             "outlinewidth": 0,
             "ticks": ""
            },
            "colorscale": [
             [
              0,
              "#0d0887"
             ],
             [
              0.1111111111111111,
              "#46039f"
             ],
             [
              0.2222222222222222,
              "#7201a8"
             ],
             [
              0.3333333333333333,
              "#9c179e"
             ],
             [
              0.4444444444444444,
              "#bd3786"
             ],
             [
              0.5555555555555556,
              "#d8576b"
             ],
             [
              0.6666666666666666,
              "#ed7953"
             ],
             [
              0.7777777777777778,
              "#fb9f3a"
             ],
             [
              0.8888888888888888,
              "#fdca26"
             ],
             [
              1,
              "#f0f921"
             ]
            ],
            "type": "heatmap"
           }
          ],
          "histogram": [
           {
            "marker": {
             "pattern": {
              "fillmode": "overlay",
              "size": 10,
              "solidity": 0.2
             }
            },
            "type": "histogram"
           }
          ],
          "histogram2d": [
           {
            "colorbar": {
             "outlinewidth": 0,
             "ticks": ""
            },
            "colorscale": [
             [
              0,
              "#0d0887"
             ],
             [
              0.1111111111111111,
              "#46039f"
             ],
             [
              0.2222222222222222,
              "#7201a8"
             ],
             [
              0.3333333333333333,
              "#9c179e"
             ],
             [
              0.4444444444444444,
              "#bd3786"
             ],
             [
              0.5555555555555556,
              "#d8576b"
             ],
             [
              0.6666666666666666,
              "#ed7953"
             ],
             [
              0.7777777777777778,
              "#fb9f3a"
             ],
             [
              0.8888888888888888,
              "#fdca26"
             ],
             [
              1,
              "#f0f921"
             ]
            ],
            "type": "histogram2d"
           }
          ],
          "histogram2dcontour": [
           {
            "colorbar": {
             "outlinewidth": 0,
             "ticks": ""
            },
            "colorscale": [
             [
              0,
              "#0d0887"
             ],
             [
              0.1111111111111111,
              "#46039f"
             ],
             [
              0.2222222222222222,
              "#7201a8"
             ],
             [
              0.3333333333333333,
              "#9c179e"
             ],
             [
              0.4444444444444444,
              "#bd3786"
             ],
             [
              0.5555555555555556,
              "#d8576b"
             ],
             [
              0.6666666666666666,
              "#ed7953"
             ],
             [
              0.7777777777777778,
              "#fb9f3a"
             ],
             [
              0.8888888888888888,
              "#fdca26"
             ],
             [
              1,
              "#f0f921"
             ]
            ],
            "type": "histogram2dcontour"
           }
          ],
          "mesh3d": [
           {
            "colorbar": {
             "outlinewidth": 0,
             "ticks": ""
            },
            "type": "mesh3d"
           }
          ],
          "parcoords": [
           {
            "line": {
             "colorbar": {
              "outlinewidth": 0,
              "ticks": ""
             }
            },
            "type": "parcoords"
           }
          ],
          "pie": [
           {
            "automargin": true,
            "type": "pie"
           }
          ],
          "scatter": [
           {
            "fillpattern": {
             "fillmode": "overlay",
             "size": 10,
             "solidity": 0.2
            },
            "type": "scatter"
           }
          ],
          "scatter3d": [
           {
            "line": {
             "colorbar": {
              "outlinewidth": 0,
              "ticks": ""
             }
            },
            "marker": {
             "colorbar": {
              "outlinewidth": 0,
              "ticks": ""
             }
            },
            "type": "scatter3d"
           }
          ],
          "scattercarpet": [
           {
            "marker": {
             "colorbar": {
              "outlinewidth": 0,
              "ticks": ""
             }
            },
            "type": "scattercarpet"
           }
          ],
          "scattergeo": [
           {
            "marker": {
             "colorbar": {
              "outlinewidth": 0,
              "ticks": ""
             }
            },
            "type": "scattergeo"
           }
          ],
          "scattergl": [
           {
            "marker": {
             "colorbar": {
              "outlinewidth": 0,
              "ticks": ""
             }
            },
            "type": "scattergl"
           }
          ],
          "scattermap": [
           {
            "marker": {
             "colorbar": {
              "outlinewidth": 0,
              "ticks": ""
             }
            },
            "type": "scattermap"
           }
          ],
          "scattermapbox": [
           {
            "marker": {
             "colorbar": {
              "outlinewidth": 0,
              "ticks": ""
             }
            },
            "type": "scattermapbox"
           }
          ],
          "scatterpolar": [
           {
            "marker": {
             "colorbar": {
              "outlinewidth": 0,
              "ticks": ""
             }
            },
            "type": "scatterpolar"
           }
          ],
          "scatterpolargl": [
           {
            "marker": {
             "colorbar": {
              "outlinewidth": 0,
              "ticks": ""
             }
            },
            "type": "scatterpolargl"
           }
          ],
          "scatterternary": [
           {
            "marker": {
             "colorbar": {
              "outlinewidth": 0,
              "ticks": ""
             }
            },
            "type": "scatterternary"
           }
          ],
          "surface": [
           {
            "colorbar": {
             "outlinewidth": 0,
             "ticks": ""
            },
            "colorscale": [
             [
              0,
              "#0d0887"
             ],
             [
              0.1111111111111111,
              "#46039f"
             ],
             [
              0.2222222222222222,
              "#7201a8"
             ],
             [
              0.3333333333333333,
              "#9c179e"
             ],
             [
              0.4444444444444444,
              "#bd3786"
             ],
             [
              0.5555555555555556,
              "#d8576b"
             ],
             [
              0.6666666666666666,
              "#ed7953"
             ],
             [
              0.7777777777777778,
              "#fb9f3a"
             ],
             [
              0.8888888888888888,
              "#fdca26"
             ],
             [
              1,
              "#f0f921"
             ]
            ],
            "type": "surface"
           }
          ],
          "table": [
           {
            "cells": {
             "fill": {
              "color": "#EBF0F8"
             },
             "line": {
              "color": "white"
             }
            },
            "header": {
             "fill": {
              "color": "#C8D4E3"
             },
             "line": {
              "color": "white"
             }
            },
            "type": "table"
           }
          ]
         },
         "layout": {
          "annotationdefaults": {
           "arrowcolor": "#2a3f5f",
           "arrowhead": 0,
           "arrowwidth": 1
          },
          "autotypenumbers": "strict",
          "coloraxis": {
           "colorbar": {
            "outlinewidth": 0,
            "ticks": ""
           }
          },
          "colorscale": {
           "diverging": [
            [
             0,
             "#8e0152"
            ],
            [
             0.1,
             "#c51b7d"
            ],
            [
             0.2,
             "#de77ae"
            ],
            [
             0.3,
             "#f1b6da"
            ],
            [
             0.4,
             "#fde0ef"
            ],
            [
             0.5,
             "#f7f7f7"
            ],
            [
             0.6,
             "#e6f5d0"
            ],
            [
             0.7,
             "#b8e186"
            ],
            [
             0.8,
             "#7fbc41"
            ],
            [
             0.9,
             "#4d9221"
            ],
            [
             1,
             "#276419"
            ]
           ],
           "sequential": [
            [
             0,
             "#0d0887"
            ],
            [
             0.1111111111111111,
             "#46039f"
            ],
            [
             0.2222222222222222,
             "#7201a8"
            ],
            [
             0.3333333333333333,
             "#9c179e"
            ],
            [
             0.4444444444444444,
             "#bd3786"
            ],
            [
             0.5555555555555556,
             "#d8576b"
            ],
            [
             0.6666666666666666,
             "#ed7953"
            ],
            [
             0.7777777777777778,
             "#fb9f3a"
            ],
            [
             0.8888888888888888,
             "#fdca26"
            ],
            [
             1,
             "#f0f921"
            ]
           ],
           "sequentialminus": [
            [
             0,
             "#0d0887"
            ],
            [
             0.1111111111111111,
             "#46039f"
            ],
            [
             0.2222222222222222,
             "#7201a8"
            ],
            [
             0.3333333333333333,
             "#9c179e"
            ],
            [
             0.4444444444444444,
             "#bd3786"
            ],
            [
             0.5555555555555556,
             "#d8576b"
            ],
            [
             0.6666666666666666,
             "#ed7953"
            ],
            [
             0.7777777777777778,
             "#fb9f3a"
            ],
            [
             0.8888888888888888,
             "#fdca26"
            ],
            [
             1,
             "#f0f921"
            ]
           ]
          },
          "colorway": [
           "#636efa",
           "#EF553B",
           "#00cc96",
           "#ab63fa",
           "#FFA15A",
           "#19d3f3",
           "#FF6692",
           "#B6E880",
           "#FF97FF",
           "#FECB52"
          ],
          "font": {
           "color": "#2a3f5f"
          },
          "geo": {
           "bgcolor": "white",
           "lakecolor": "white",
           "landcolor": "#E5ECF6",
           "showlakes": true,
           "showland": true,
           "subunitcolor": "white"
          },
          "hoverlabel": {
           "align": "left"
          },
          "hovermode": "closest",
          "mapbox": {
           "style": "light"
          },
          "paper_bgcolor": "white",
          "plot_bgcolor": "#E5ECF6",
          "polar": {
           "angularaxis": {
            "gridcolor": "white",
            "linecolor": "white",
            "ticks": ""
           },
           "bgcolor": "#E5ECF6",
           "radialaxis": {
            "gridcolor": "white",
            "linecolor": "white",
            "ticks": ""
           }
          },
          "scene": {
           "xaxis": {
            "backgroundcolor": "#E5ECF6",
            "gridcolor": "white",
            "gridwidth": 2,
            "linecolor": "white",
            "showbackground": true,
            "ticks": "",
            "zerolinecolor": "white"
           },
           "yaxis": {
            "backgroundcolor": "#E5ECF6",
            "gridcolor": "white",
            "gridwidth": 2,
            "linecolor": "white",
            "showbackground": true,
            "ticks": "",
            "zerolinecolor": "white"
           },
           "zaxis": {
            "backgroundcolor": "#E5ECF6",
            "gridcolor": "white",
            "gridwidth": 2,
            "linecolor": "white",
            "showbackground": true,
            "ticks": "",
            "zerolinecolor": "white"
           }
          },
          "shapedefaults": {
           "line": {
            "color": "#2a3f5f"
           }
          },
          "ternary": {
           "aaxis": {
            "gridcolor": "white",
            "linecolor": "white",
            "ticks": ""
           },
           "baxis": {
            "gridcolor": "white",
            "linecolor": "white",
            "ticks": ""
           },
           "bgcolor": "#E5ECF6",
           "caxis": {
            "gridcolor": "white",
            "linecolor": "white",
            "ticks": ""
           }
          },
          "title": {
           "x": 0.05
          },
          "xaxis": {
           "automargin": true,
           "gridcolor": "white",
           "linecolor": "white",
           "ticks": "",
           "title": {
            "standoff": 15
           },
           "zerolinecolor": "white",
           "zerolinewidth": 2
          },
          "yaxis": {
           "automargin": true,
           "gridcolor": "white",
           "linecolor": "white",
           "ticks": "",
           "title": {
            "standoff": 15
           },
           "zerolinecolor": "white",
           "zerolinewidth": 2
          }
         }
        },
        "title": {
         "font": {
          "size": 18
         },
         "text": "Évolution de la composition du catalogue Netflix par genre (2015-2021)"
        },
        "width": 1000,
        "xaxis": {
         "anchor": "y",
         "constrain": "domain",
         "domain": [
          0,
          1
         ],
         "scaleanchor": "y",
         "side": "top",
         "title": {
          "text": "Année d'ajout"
         }
        },
        "yaxis": {
         "anchor": "x",
         "autorange": "reversed",
         "constrain": "domain",
         "domain": [
          0,
          1
         ],
         "title": {
          "text": "Genre"
         }
        }
       }
      }
     },
     "metadata": {},
     "output_type": "display_data"
    }
   ],
   "source": [
    "# l. Graphique spécial : Matrice de chaleur de l'évolution du contenu par genre et année\n",
    "\n",
    "# Préparation des données\n",
    "# Extraire l'année d'ajout\n",
    "df['year_added'] = df['date_added'].dt.year\n",
    "\n",
    "# Exploser les genres pour avoir un genre par ligne\n",
    "genre_year_df = df.explode('listed_in_list')[['year_added', 'listed_in_list', 'type']]\n",
    "genre_year_df = genre_year_df.rename(columns={'listed_in_list': 'genre'})\n",
    "\n",
    "# Filtrer les années récentes (2015-2021) et les genres les plus fréquents\n",
    "recent_years = genre_year_df[genre_year_df['year_added'] >= 2015]\n",
    "top_genres = recent_years['genre'].value_counts().head(15).index.tolist()\n",
    "filtered_data = recent_years[recent_years['genre'].isin(top_genres)]\n",
    "\n",
    "# Créer une matrice de fréquence pivot\n",
    "genre_year_pivot = filtered_data.pivot_table(\n",
    "    index='genre', \n",
    "    columns='year_added', \n",
    "    values='type', \n",
    "    aggfunc='count', \n",
    "    fill_value=0\n",
    ")\n",
    "\n",
    "# Normaliser par ligne pour voir la tendance relative par genre\n",
    "genre_year_norm = genre_year_pivot.div(genre_year_pivot.sum(axis=1), axis=0)\n",
    "\n",
    "# Créer une heatmap interactive avec annotations\n",
    "fig = px.imshow(\n",
    "    genre_year_norm,\n",
    "    labels=dict(x=\"Année d'ajout\", y=\"Genre\", color=\"Proportion\"),\n",
    "    x=genre_year_norm.columns,\n",
    "    y=genre_year_norm.index,\n",
    "    color_continuous_scale='Viridis',\n",
    "    title=\"Évolution de la composition du catalogue Netflix par genre (2015-2021)\"\n",
    ")\n",
    "\n",
    "# Ajouter des annotations détaillées\n",
    "annotations = []\n",
    "for i, genre in enumerate(genre_year_norm.index):\n",
    "    for j, year in enumerate(genre_year_norm.columns):\n",
    "        value = genre_year_norm.iloc[i, j]\n",
    "        # Nombre absolu de titres\n",
    "        abs_value = genre_year_pivot.iloc[i, j]\n",
    "        \n",
    "        annotations.append(dict(\n",
    "            x=year,\n",
    "            y=genre,\n",
    "            text=f\"{abs_value} titres<br>({value:.1%})\",\n",
    "            showarrow=False,\n",
    "            font=dict(color=\"white\" if value > 0.15 else \"black\")\n",
    "        ))\n",
    "\n",
    "# Personnaliser l'apparence\n",
    "fig.update_layout(\n",
    "    title_font_size=18,\n",
    "    height=800,\n",
    "    width=1000,\n",
    "    xaxis={'side': 'top'},\n",
    "    annotations=annotations,\n",
    "    coloraxis_colorbar=dict(title=\"Proportion du genre<br>par année\")\n",
    ")\n",
    "\n",
    "# Ajouter un titre flottant pour expliquer la visualisation\n",
    "fig.add_annotation(\n",
    "    text=\"Cette visualisation montre comment la distribution des genres a évolué au fil des ans.<br>Les cellules plus sombres indiquent une proportion plus élevée d'un genre pour une année donnée.\",\n",
    "    xref=\"paper\", yref=\"paper\",\n",
    "    x=0.5, y=-0.1,\n",
    "    showarrow=False,\n",
    "    font=dict(size=12)\n",
    ")\n",
    "\n",
    "fig.show()"
   ]
  },
  {
   "cell_type": "markdown",
   "id": "5ebca5c6",
   "metadata": {},
   "source": [
    "## Question 24 :\n",
    "\n",
    "Prenez soin d’observer et analyser tous vos graphiques. Que\n",
    "pouvez-vous dire sur vos données ?"
   ]
  },
  {
   "cell_type": "markdown",
   "id": "65d9beb4",
   "metadata": {},
   "source": [
    "## Analyse détaillée du catalogue Netflix (2008-2021)\n",
    "\n",
    "**a. Type d'œuvres :**  \n",
    "Le catalogue est dominé par les **films (69,6%)**, tandis que les **séries TV représentent (30,4%)** du contenu. Cette répartition montre la stratégie de Netflix de privilégier les contenus unitaires tout en maintenant une offre significative de séries.\n",
    "\n",
    "**b. Pays d'origine :**  \n",
    "Forte prédominance des **États-Unis (33,7%)**, suivis par l'**Inde (9,1%)**, le **Royaume-Uni (4,7%)** et le **Canada (3,2%)**. Cette distribution reflète l'héritage anglo-saxon de la plateforme, malgré une diversification progressive vers d'autres marchés internationaux.\n",
    "\n",
    "**c. Année d'ajout au catalogue :**  \n",
    "Croissance exponentielle à partir de **2016 (429 contenus)**, atteignant un **pic en 2019 (2016 contenus au total)** avec **1424 films** et en **2020 (595 séries)**. Un léger ralentissement est observé en 2021, probablement dû aux contraintes de production liées à la pandémie.\n",
    "\n",
    "**d. Ratings :**  \n",
    "Prédominance des contenus pour **adultes et jeunes adultes** avec **TV-MA (29%)** et **TV-14 (27%)** en tête. Les contenus familiaux et pour enfants sont moins nombreux, démontrant un positionnement clairement orienté vers un public mature.\n",
    "\n",
    "**e. Durée des films :**  \n",
    "La majorité des films se situe dans la fourchette **90-120 minutes**, respectant les standards de l'industrie. Seulement **8% des films dépassent les 130 minutes**, confirmant une préférence pour des formats accessibles.\n",
    "\n",
    "**f. Durée des séries :**  \n",
    "**67% des séries** ne comportent qu'une **seule saison**, et seulement **12% dépassent les 3 saisons**. Cette distribution suggère un fort renouvellement du catalogue et une préférence pour les mini-séries ou les contenus à durée limitée.\n",
    "\n",
    "**g. Genres :**  \n",
    "Les **drames (30%)**, **comédies (24%)** et **documentaires (14%)** dominent le catalogue. On note également une forte présence de **contenus internationaux**, témoignant de la stratégie globale de la plateforme.\n",
    "\n",
    "**h. Réalisateurs prolifiques :**  \n",
    "Quelques réalisateurs comme **Rajiv Chilaka (19 œuvres)** et **Raúl Campos/Jan Suter (18 œuvres)** se distinguent par leur nombre de productions, mais la grande majorité des créateurs n'ont qu'une seule œuvre sur la plateforme.\n",
    "\n",
    "**i. Tendances temporelles :**  \n",
    "L'année **2019** marque le **sommet absolu pour les films avec 1424 ajouts**, tandis que **2020 représente le pic pour les séries avec 595 ajouts**. La période **2016-2020** constitue clairement **l'âge d'or de l'enrichissement du catalogue**.\n",
    "\n",
    "## Conclusion générale\n",
    "\n",
    "L'analyse du catalogue Netflix révèle une **stratégie d'acquisition massive et ciblée entre 2016 et 2020**, avec une **préférence marquée pour les films**. Cette période coïncide avec **l'internationalisation accélérée de la plateforme** et sa **transition vers un modèle de production originale**.  \n",
    "Le catalogue présente un profil clairement orienté vers un **public adulte**, avec une **prédominance de contenus américains** mais une **diversification internationale croissante**. La structure du catalogue privilégie les **formats courts à moyens**, permettant un **renouvellement rapide** et une **consommation flexible** adaptée aux habitudes des utilisateurs de streaming.  \n",
    "Le **ralentissement observé en 2021** marque potentiellement la **fin d'une phase d'expansion frénétique** et pourrait annoncer une **nouvelle stratégie plus sélective**, davantage axée sur la **rétention et la qualité** que sur la **croissance quantitative du catalogue**. Cette évolution reflète la **maturation du marché du streaming** et **l'intensification de la concurrence** dans ce secteur.\n"
   ]
  }
 ],
 "metadata": {
  "kernelspec": {
   "display_name": "Python 3",
   "language": "python",
   "name": "python3"
  },
  "language_info": {
   "codemirror_mode": {
    "name": "ipython",
    "version": 3
   },
   "file_extension": ".py",
   "mimetype": "text/x-python",
   "name": "python",
   "nbconvert_exporter": "python",
   "pygments_lexer": "ipython3",
   "version": "3.13.1"
  }
 },
 "nbformat": 4,
 "nbformat_minor": 5
}
